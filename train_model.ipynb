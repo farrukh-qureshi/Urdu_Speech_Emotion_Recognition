{
 "cells": [
  {
   "cell_type": "markdown",
   "id": "6b94f95e",
   "metadata": {
    "papermill": {
     "duration": 0.00213,
     "end_time": "2024-11-23T10:46:36.940114",
     "exception": false,
     "start_time": "2024-11-23T10:46:36.937984",
     "status": "completed"
    },
    "tags": []
   },
   "source": [
    "# Urdu Clinical Emotion Recognition - Training\n",
    "\n",
    "\n",
    "\n",
    "This notebook runs the main training pipeline with default parameters."
   ]
  },
  {
   "cell_type": "code",
   "execution_count": 1,
   "id": "66e15595",
   "metadata": {
    "execution": {
     "iopub.execute_input": "2024-11-23T10:46:36.945476Z",
     "iopub.status.busy": "2024-11-23T10:46:36.944694Z",
     "iopub.status.idle": "2024-11-23T10:46:37.949801Z",
     "shell.execute_reply": "2024-11-23T10:46:37.948933Z"
    },
    "papermill": {
     "duration": 1.009748,
     "end_time": "2024-11-23T10:46:37.951644",
     "exception": false,
     "start_time": "2024-11-23T10:46:36.941896",
     "status": "completed"
    },
    "tags": []
   },
   "outputs": [
    {
     "name": "stdout",
     "output_type": "stream",
     "text": [
      "/kaggle/working\n",
      "removed '/kaggle/working/__notebook__.ipynb'\r\n"
     ]
    }
   ],
   "source": [
    "%cd /kaggle/working/\n",
    "!rm -rv /kaggle/working/*"
   ]
  },
  {
   "cell_type": "code",
   "execution_count": 2,
   "id": "75564b6c",
   "metadata": {
    "execution": {
     "iopub.execute_input": "2024-11-23T10:46:37.956905Z",
     "iopub.status.busy": "2024-11-23T10:46:37.956621Z",
     "iopub.status.idle": "2024-11-23T10:46:39.650430Z",
     "shell.execute_reply": "2024-11-23T10:46:39.649452Z"
    },
    "papermill": {
     "duration": 1.698367,
     "end_time": "2024-11-23T10:46:39.652067",
     "exception": false,
     "start_time": "2024-11-23T10:46:37.953700",
     "status": "completed"
    },
    "tags": []
   },
   "outputs": [
    {
     "name": "stdout",
     "output_type": "stream",
     "text": [
      "Cloning into 'test'...\r\n",
      "remote: Enumerating objects: 94, done.\u001b[K\r\n",
      "remote: Counting objects: 100% (94/94), done.\u001b[K\r\n",
      "remote: Compressing objects: 100% (63/63), done.\u001b[K\r\n",
      "remote: Total 94 (delta 34), reused 84 (delta 27), pack-reused 0 (from 0)\u001b[K\r\n",
      "Receiving objects: 100% (94/94), 924.80 KiB | 18.87 MiB/s, done.\r\n",
      "Resolving deltas: 100% (34/34), done.\r\n",
      "/kaggle/working/test\n"
     ]
    },
    {
     "data": {
      "text/plain": [
       "'/kaggle/working/test'"
      ]
     },
     "execution_count": 2,
     "metadata": {},
     "output_type": "execute_result"
    }
   ],
   "source": [
    "!git clone https://github.com/farrukh-qureshi/test\n",
    "%cd test\n",
    "%pwd"
   ]
  },
  {
   "cell_type": "code",
   "execution_count": 3,
   "id": "6a26dc93",
   "metadata": {
    "execution": {
     "iopub.execute_input": "2024-11-23T10:46:39.657975Z",
     "iopub.status.busy": "2024-11-23T10:46:39.657687Z",
     "iopub.status.idle": "2024-11-23T10:46:44.075195Z",
     "shell.execute_reply": "2024-11-23T10:46:44.074163Z"
    },
    "papermill": {
     "duration": 4.422915,
     "end_time": "2024-11-23T10:46:44.077379",
     "exception": false,
     "start_time": "2024-11-23T10:46:39.654464",
     "status": "completed"
    },
    "tags": []
   },
   "outputs": [],
   "source": [
    "!cp -r /kaggle/input/urdu-language-speech-dataset /kaggle/working/test/raw_data"
   ]
  },
  {
   "cell_type": "code",
   "execution_count": 4,
   "id": "3c4487d5",
   "metadata": {
    "execution": {
     "iopub.execute_input": "2024-11-23T10:46:44.083927Z",
     "iopub.status.busy": "2024-11-23T10:46:44.083395Z",
     "iopub.status.idle": "2024-11-23T10:46:45.989818Z",
     "shell.execute_reply": "2024-11-23T10:46:45.989070Z"
    },
    "papermill": {
     "duration": 1.911758,
     "end_time": "2024-11-23T10:46:45.991724",
     "exception": false,
     "start_time": "2024-11-23T10:46:44.079966",
     "status": "completed"
    },
    "tags": []
   },
   "outputs": [],
   "source": [
    "import os\n",
    "\n",
    "import sys\n",
    "\n",
    "from IPython.display import display, HTML\n",
    "\n",
    "import pandas as pd\n",
    "\n",
    "import matplotlib.pyplot as plt\n",
    "\n",
    "import seaborn as sns\n",
    "\n",
    "\n",
    "\n",
    "# Add project root to path\n",
    "\n",
    "project_root = os.path.abspath(os.path.dirname('.'))\n",
    "\n",
    "if project_root not in sys.path:\n",
    "\n",
    "    sys.path.append(project_root)"
   ]
  },
  {
   "cell_type": "code",
   "execution_count": 5,
   "id": "922ee896",
   "metadata": {
    "execution": {
     "iopub.execute_input": "2024-11-23T10:46:45.997893Z",
     "iopub.status.busy": "2024-11-23T10:46:45.997355Z",
     "iopub.status.idle": "2024-11-23T10:49:48.675524Z",
     "shell.execute_reply": "2024-11-23T10:49:48.674279Z"
    },
    "papermill": {
     "duration": 182.683084,
     "end_time": "2024-11-23T10:49:48.677378",
     "exception": false,
     "start_time": "2024-11-23T10:46:45.994294",
     "status": "completed"
    },
    "tags": []
   },
   "outputs": [
    {
     "name": "stdout",
     "output_type": "stream",
     "text": [
      "\n",
      "=== Starting Dataset Analysis ===\n",
      "Working directory: /kaggle/working/test\n",
      "Looking for data in: /kaggle/working/test/raw_data\n",
      "Found Angry directory with 100 files\n",
      "Found Happy directory with 100 files\n",
      "Found Neutral directory with 100 files\n",
      "Found Sad directory with 100 files\n",
      "\n",
      "Initializing preprocessing and datasets...\n",
      "Total dataset size: 400 files\n",
      "Splitting dataset: 320 training, 80 validation\n",
      "Creating data loaders...\n",
      "Initializing model...\n",
      "\n",
      "Model Architecture:\n",
      "UrduClinicalEmotionTransformer(\n",
      "  (input_projection): Linear(in_features=80, out_features=256, bias=True)\n",
      "  (audio_encoder): ModuleList(\n",
      "    (0-5): 6 x ConformerBlock(\n",
      "      (ff1): FeedForward(\n",
      "        (net): Sequential(\n",
      "          (0): Linear(in_features=256, out_features=512, bias=True)\n",
      "          (1): GELU(approximate='none')\n",
      "          (2): Dropout(p=0.1, inplace=False)\n",
      "          (3): Linear(in_features=512, out_features=256, bias=True)\n",
      "          (4): Dropout(p=0.1, inplace=False)\n",
      "        )\n",
      "      )\n",
      "      (self_attn): MultiHeadAttention(\n",
      "        (mha): MultiheadAttention(\n",
      "          (out_proj): NonDynamicallyQuantizableLinear(in_features=256, out_features=256, bias=True)\n",
      "        )\n",
      "        (dropout): Dropout(p=0.1, inplace=False)\n",
      "      )\n",
      "      (conv): ConformerConvModule(\n",
      "        (layer_norm): LayerNorm((256,), eps=1e-05, elementwise_affine=True)\n",
      "        (conv1): Conv1d(256, 512, kernel_size=(1,), stride=(1,))\n",
      "        (glu): GLU(dim=1)\n",
      "        (depthwise_conv): Conv1d(256, 256, kernel_size=(15,), stride=(1,), padding=(7,), groups=256)\n",
      "        (batch_norm): BatchNorm1d(256, eps=1e-05, momentum=0.1, affine=True, track_running_stats=True)\n",
      "        (activation): GELU(approximate='none')\n",
      "        (pointwise_conv): Conv1d(256, 256, kernel_size=(1,), stride=(1,))\n",
      "        (dropout): Dropout(p=0.1, inplace=False)\n",
      "      )\n",
      "      (ff2): FeedForward(\n",
      "        (net): Sequential(\n",
      "          (0): Linear(in_features=256, out_features=512, bias=True)\n",
      "          (1): GELU(approximate='none')\n",
      "          (2): Dropout(p=0.1, inplace=False)\n",
      "          (3): Linear(in_features=512, out_features=256, bias=True)\n",
      "          (4): Dropout(p=0.1, inplace=False)\n",
      "        )\n",
      "      )\n",
      "      (norm1): LayerNorm((256,), eps=1e-05, elementwise_affine=True)\n",
      "      (norm2): LayerNorm((256,), eps=1e-05, elementwise_affine=True)\n",
      "      (norm3): LayerNorm((256,), eps=1e-05, elementwise_affine=True)\n",
      "      (norm4): LayerNorm((256,), eps=1e-05, elementwise_affine=True)\n",
      "    )\n",
      "  )\n",
      "  (clinical_adapter): Sequential(\n",
      "    (0): Linear(in_features=256, out_features=256, bias=True)\n",
      "    (1): GELU(approximate='none')\n",
      "    (2): Dropout(p=0.1, inplace=False)\n",
      "  )\n",
      "  (classifier): Linear(in_features=256, out_features=4, bias=True)\n",
      "  (input_norm): LayerNorm((256,), eps=1e-05, elementwise_affine=True)\n",
      ")\n",
      "\n",
      "Total parameters: 6,049,284\n",
      "Trainable parameters: 6,049,284\n",
      "\n",
      "Starting training...\n",
      "\n",
      "Running debug checks...\n",
      "Batch shapes - Input: torch.Size([32, 1, 80, 301]), Target: torch.Size([32])\n",
      "Testing forward pass...\n",
      "Output shape: torch.Size([32, 4])\n",
      "Output device: cuda:0\n",
      "\n",
      "Testing loss computation...\n",
      "Loss value: 1.4117085933685303\n",
      "\n",
      "Testing backward pass...\n",
      "Backward pass successful!\n",
      "\n",
      "Testing optimizer step...\n",
      "Optimizer step successful!\n",
      "\n",
      "All debug checks passed successfully!\n",
      "\n",
      "Starting actual training...\n"
     ]
    },
    {
     "name": "stderr",
     "output_type": "stream",
     "text": [
      "Training Epoch 1/50: 100%|██████████| 10/10 [00:02<00:00,  3.83it/s, loss=1.1121, acc=60.31%]\n"
     ]
    },
    {
     "name": "stdout",
     "output_type": "stream",
     "text": [
      "\n",
      "Running validation...\n"
     ]
    },
    {
     "name": "stderr",
     "output_type": "stream",
     "text": [
      "Validation Epoch 1/50: 100%|██████████| 3/3 [00:00<00:00,  3.78it/s, loss=0.0356, acc=68.75%]\n"
     ]
    },
    {
     "name": "stdout",
     "output_type": "stream",
     "text": [
      "\n",
      "Epoch 1/50 Summary:\n",
      "Training    - Loss: 1.1121, Accuracy: 60.31%\n",
      "Validation  - Loss: 0.9497, Accuracy: 68.75%\n",
      "New best model saved! (Val Loss: 0.9497)\n",
      "Learning rate: 0.000100\n",
      "--------------------------------------------------------------------------------\n"
     ]
    },
    {
     "name": "stderr",
     "output_type": "stream",
     "text": [
      "Training Epoch 2/50: 100%|██████████| 10/10 [00:02<00:00,  3.92it/s, loss=0.7179, acc=73.44%]\n"
     ]
    },
    {
     "name": "stdout",
     "output_type": "stream",
     "text": [
      "\n",
      "Running validation...\n"
     ]
    },
    {
     "name": "stderr",
     "output_type": "stream",
     "text": [
      "Validation Epoch 2/50: 100%|██████████| 3/3 [00:00<00:00,  3.28it/s, loss=0.0270, acc=77.50%]\n"
     ]
    },
    {
     "name": "stdout",
     "output_type": "stream",
     "text": [
      "\n",
      "Epoch 2/50 Summary:\n",
      "Training    - Loss: 0.7179, Accuracy: 73.44%\n",
      "Validation  - Loss: 0.7197, Accuracy: 77.50%\n",
      "New best model saved! (Val Loss: 0.7197)\n",
      "Learning rate: 0.000100\n",
      "--------------------------------------------------------------------------------\n"
     ]
    },
    {
     "name": "stderr",
     "output_type": "stream",
     "text": [
      "Training Epoch 3/50: 100%|██████████| 10/10 [00:02<00:00,  3.70it/s, loss=0.5520, acc=83.75%]\n"
     ]
    },
    {
     "name": "stdout",
     "output_type": "stream",
     "text": [
      "\n",
      "Running validation...\n"
     ]
    },
    {
     "name": "stderr",
     "output_type": "stream",
     "text": [
      "Validation Epoch 3/50: 100%|██████████| 3/3 [00:00<00:00,  3.81it/s, loss=0.0234, acc=76.25%]\n"
     ]
    },
    {
     "name": "stdout",
     "output_type": "stream",
     "text": [
      "\n",
      "Epoch 3/50 Summary:\n",
      "Training    - Loss: 0.5520, Accuracy: 83.75%\n",
      "Validation  - Loss: 0.6247, Accuracy: 76.25%\n",
      "New best model saved! (Val Loss: 0.6247)\n",
      "Learning rate: 0.000099\n",
      "--------------------------------------------------------------------------------\n"
     ]
    },
    {
     "name": "stderr",
     "output_type": "stream",
     "text": [
      "Training Epoch 4/50: 100%|██████████| 10/10 [00:02<00:00,  4.02it/s, loss=0.4503, acc=83.44%]\n"
     ]
    },
    {
     "name": "stdout",
     "output_type": "stream",
     "text": [
      "\n",
      "Running validation...\n"
     ]
    },
    {
     "name": "stderr",
     "output_type": "stream",
     "text": [
      "Validation Epoch 4/50: 100%|██████████| 3/3 [00:00<00:00,  3.92it/s, loss=0.0201, acc=83.75%]\n"
     ]
    },
    {
     "name": "stdout",
     "output_type": "stream",
     "text": [
      "\n",
      "Epoch 4/50 Summary:\n",
      "Training    - Loss: 0.4503, Accuracy: 83.44%\n",
      "Validation  - Loss: 0.5349, Accuracy: 83.75%\n",
      "New best model saved! (Val Loss: 0.5349)\n",
      "Learning rate: 0.000098\n",
      "--------------------------------------------------------------------------------\n"
     ]
    },
    {
     "name": "stderr",
     "output_type": "stream",
     "text": [
      "Training Epoch 5/50: 100%|██████████| 10/10 [00:02<00:00,  4.03it/s, loss=0.3603, acc=89.06%]\n"
     ]
    },
    {
     "name": "stdout",
     "output_type": "stream",
     "text": [
      "\n",
      "Running validation...\n"
     ]
    },
    {
     "name": "stderr",
     "output_type": "stream",
     "text": [
      "Validation Epoch 5/50: 100%|██████████| 3/3 [00:00<00:00,  3.66it/s, loss=0.0168, acc=80.00%]\n"
     ]
    },
    {
     "name": "stdout",
     "output_type": "stream",
     "text": [
      "\n",
      "Epoch 5/50 Summary:\n",
      "Training    - Loss: 0.3603, Accuracy: 89.06%\n",
      "Validation  - Loss: 0.4470, Accuracy: 80.00%\n",
      "New best model saved! (Val Loss: 0.4470)\n",
      "Checkpoint saved for epoch 5\n",
      "Learning rate: 0.000098\n",
      "--------------------------------------------------------------------------------\n"
     ]
    },
    {
     "name": "stderr",
     "output_type": "stream",
     "text": [
      "Training Epoch 6/50: 100%|██████████| 10/10 [00:02<00:00,  4.04it/s, loss=0.2793, acc=91.25%]\n"
     ]
    },
    {
     "name": "stdout",
     "output_type": "stream",
     "text": [
      "\n",
      "Running validation...\n"
     ]
    },
    {
     "name": "stderr",
     "output_type": "stream",
     "text": [
      "Validation Epoch 6/50: 100%|██████████| 3/3 [00:00<00:00,  3.90it/s, loss=0.0146, acc=86.25%]\n"
     ]
    },
    {
     "name": "stdout",
     "output_type": "stream",
     "text": [
      "\n",
      "Epoch 6/50 Summary:\n",
      "Training    - Loss: 0.2793, Accuracy: 91.25%\n",
      "Validation  - Loss: 0.3901, Accuracy: 86.25%\n",
      "New best model saved! (Val Loss: 0.3901)\n",
      "Learning rate: 0.000096\n",
      "--------------------------------------------------------------------------------\n"
     ]
    },
    {
     "name": "stderr",
     "output_type": "stream",
     "text": [
      "Training Epoch 7/50: 100%|██████████| 10/10 [00:02<00:00,  3.99it/s, loss=0.2344, acc=92.81%]\n"
     ]
    },
    {
     "name": "stdout",
     "output_type": "stream",
     "text": [
      "\n",
      "Running validation...\n"
     ]
    },
    {
     "name": "stderr",
     "output_type": "stream",
     "text": [
      "Validation Epoch 7/50: 100%|██████████| 3/3 [00:00<00:00,  3.92it/s, loss=0.0161, acc=87.50%]\n"
     ]
    },
    {
     "name": "stdout",
     "output_type": "stream",
     "text": [
      "\n",
      "Epoch 7/50 Summary:\n",
      "Training    - Loss: 0.2344, Accuracy: 92.81%\n",
      "Validation  - Loss: 0.4292, Accuracy: 87.50%\n",
      "Learning rate: 0.000095\n",
      "--------------------------------------------------------------------------------\n"
     ]
    },
    {
     "name": "stderr",
     "output_type": "stream",
     "text": [
      "Training Epoch 8/50: 100%|██████████| 10/10 [00:02<00:00,  4.10it/s, loss=0.2183, acc=91.88%]\n"
     ]
    },
    {
     "name": "stdout",
     "output_type": "stream",
     "text": [
      "\n",
      "Running validation...\n"
     ]
    },
    {
     "name": "stderr",
     "output_type": "stream",
     "text": [
      "Validation Epoch 8/50: 100%|██████████| 3/3 [00:00<00:00,  3.43it/s, loss=0.0149, acc=85.00%]\n"
     ]
    },
    {
     "name": "stdout",
     "output_type": "stream",
     "text": [
      "\n",
      "Epoch 8/50 Summary:\n",
      "Training    - Loss: 0.2183, Accuracy: 91.88%\n",
      "Validation  - Loss: 0.3967, Accuracy: 85.00%\n",
      "Learning rate: 0.000094\n",
      "--------------------------------------------------------------------------------\n"
     ]
    },
    {
     "name": "stderr",
     "output_type": "stream",
     "text": [
      "Training Epoch 9/50: 100%|██████████| 10/10 [00:02<00:00,  3.99it/s, loss=0.1712, acc=95.62%]\n"
     ]
    },
    {
     "name": "stdout",
     "output_type": "stream",
     "text": [
      "\n",
      "Running validation...\n"
     ]
    },
    {
     "name": "stderr",
     "output_type": "stream",
     "text": [
      "Validation Epoch 9/50: 100%|██████████| 3/3 [00:00<00:00,  3.89it/s, loss=0.0105, acc=88.75%]\n"
     ]
    },
    {
     "name": "stdout",
     "output_type": "stream",
     "text": [
      "\n",
      "Epoch 9/50 Summary:\n",
      "Training    - Loss: 0.1712, Accuracy: 95.62%\n",
      "Validation  - Loss: 0.2801, Accuracy: 88.75%\n",
      "New best model saved! (Val Loss: 0.2801)\n",
      "Learning rate: 0.000092\n",
      "--------------------------------------------------------------------------------\n"
     ]
    },
    {
     "name": "stderr",
     "output_type": "stream",
     "text": [
      "Training Epoch 10/50: 100%|██████████| 10/10 [00:02<00:00,  4.01it/s, loss=0.1319, acc=96.25%]\n"
     ]
    },
    {
     "name": "stdout",
     "output_type": "stream",
     "text": [
      "\n",
      "Running validation...\n"
     ]
    },
    {
     "name": "stderr",
     "output_type": "stream",
     "text": [
      "Validation Epoch 10/50: 100%|██████████| 3/3 [00:00<00:00,  3.94it/s, loss=0.0091, acc=93.75%]\n"
     ]
    },
    {
     "name": "stdout",
     "output_type": "stream",
     "text": [
      "\n",
      "Epoch 10/50 Summary:\n",
      "Training    - Loss: 0.1319, Accuracy: 96.25%\n",
      "Validation  - Loss: 0.2423, Accuracy: 93.75%\n",
      "New best model saved! (Val Loss: 0.2423)\n",
      "Checkpoint saved for epoch 10\n",
      "Learning rate: 0.000090\n",
      "--------------------------------------------------------------------------------\n"
     ]
    },
    {
     "name": "stderr",
     "output_type": "stream",
     "text": [
      "Training Epoch 11/50: 100%|██████████| 10/10 [00:02<00:00,  3.87it/s, loss=0.1131, acc=96.88%]\n"
     ]
    },
    {
     "name": "stdout",
     "output_type": "stream",
     "text": [
      "\n",
      "Running validation...\n"
     ]
    },
    {
     "name": "stderr",
     "output_type": "stream",
     "text": [
      "Validation Epoch 11/50: 100%|██████████| 3/3 [00:00<00:00,  3.01it/s, loss=0.0079, acc=93.75%]\n"
     ]
    },
    {
     "name": "stdout",
     "output_type": "stream",
     "text": [
      "\n",
      "Epoch 11/50 Summary:\n",
      "Training    - Loss: 0.1131, Accuracy: 96.88%\n",
      "Validation  - Loss: 0.2119, Accuracy: 93.75%\n",
      "New best model saved! (Val Loss: 0.2119)\n",
      "Learning rate: 0.000089\n",
      "--------------------------------------------------------------------------------\n"
     ]
    },
    {
     "name": "stderr",
     "output_type": "stream",
     "text": [
      "Training Epoch 12/50: 100%|██████████| 10/10 [00:02<00:00,  3.89it/s, loss=0.1175, acc=95.94%]\n"
     ]
    },
    {
     "name": "stdout",
     "output_type": "stream",
     "text": [
      "\n",
      "Running validation...\n"
     ]
    },
    {
     "name": "stderr",
     "output_type": "stream",
     "text": [
      "Validation Epoch 12/50: 100%|██████████| 3/3 [00:00<00:00,  3.82it/s, loss=0.0190, acc=87.50%]\n"
     ]
    },
    {
     "name": "stdout",
     "output_type": "stream",
     "text": [
      "\n",
      "Epoch 12/50 Summary:\n",
      "Training    - Loss: 0.1175, Accuracy: 95.94%\n",
      "Validation  - Loss: 0.5072, Accuracy: 87.50%\n",
      "Learning rate: 0.000086\n",
      "--------------------------------------------------------------------------------\n"
     ]
    },
    {
     "name": "stderr",
     "output_type": "stream",
     "text": [
      "Training Epoch 13/50: 100%|██████████| 10/10 [00:02<00:00,  4.00it/s, loss=0.0796, acc=97.81%]\n"
     ]
    },
    {
     "name": "stdout",
     "output_type": "stream",
     "text": [
      "\n",
      "Running validation...\n"
     ]
    },
    {
     "name": "stderr",
     "output_type": "stream",
     "text": [
      "Validation Epoch 13/50: 100%|██████████| 3/3 [00:00<00:00,  3.94it/s, loss=0.0095, acc=92.50%]\n"
     ]
    },
    {
     "name": "stdout",
     "output_type": "stream",
     "text": [
      "\n",
      "Epoch 13/50 Summary:\n",
      "Training    - Loss: 0.0796, Accuracy: 97.81%\n",
      "Validation  - Loss: 0.2528, Accuracy: 92.50%\n",
      "Learning rate: 0.000084\n",
      "--------------------------------------------------------------------------------\n"
     ]
    },
    {
     "name": "stderr",
     "output_type": "stream",
     "text": [
      "Training Epoch 14/50: 100%|██████████| 10/10 [00:02<00:00,  3.91it/s, loss=0.0834, acc=98.12%]\n"
     ]
    },
    {
     "name": "stdout",
     "output_type": "stream",
     "text": [
      "\n",
      "Running validation...\n"
     ]
    },
    {
     "name": "stderr",
     "output_type": "stream",
     "text": [
      "Validation Epoch 14/50: 100%|██████████| 3/3 [00:00<00:00,  3.84it/s, loss=0.0106, acc=91.25%]\n"
     ]
    },
    {
     "name": "stdout",
     "output_type": "stream",
     "text": [
      "\n",
      "Epoch 14/50 Summary:\n",
      "Training    - Loss: 0.0834, Accuracy: 98.12%\n",
      "Validation  - Loss: 0.2832, Accuracy: 91.25%\n",
      "Learning rate: 0.000082\n",
      "--------------------------------------------------------------------------------\n"
     ]
    },
    {
     "name": "stderr",
     "output_type": "stream",
     "text": [
      "Training Epoch 15/50: 100%|██████████| 10/10 [00:02<00:00,  4.01it/s, loss=0.0511, acc=98.44%]\n"
     ]
    },
    {
     "name": "stdout",
     "output_type": "stream",
     "text": [
      "\n",
      "Running validation...\n"
     ]
    },
    {
     "name": "stderr",
     "output_type": "stream",
     "text": [
      "Validation Epoch 15/50: 100%|██████████| 3/3 [00:00<00:00,  3.62it/s, loss=0.0120, acc=88.75%]\n"
     ]
    },
    {
     "name": "stdout",
     "output_type": "stream",
     "text": [
      "\n",
      "Epoch 15/50 Summary:\n",
      "Training    - Loss: 0.0511, Accuracy: 98.44%\n",
      "Validation  - Loss: 0.3193, Accuracy: 88.75%\n",
      "Checkpoint saved for epoch 15\n",
      "Learning rate: 0.000079\n",
      "--------------------------------------------------------------------------------\n"
     ]
    },
    {
     "name": "stderr",
     "output_type": "stream",
     "text": [
      "Training Epoch 16/50: 100%|██████████| 10/10 [00:02<00:00,  4.06it/s, loss=0.0426, acc=98.75%]\n"
     ]
    },
    {
     "name": "stdout",
     "output_type": "stream",
     "text": [
      "\n",
      "Running validation...\n"
     ]
    },
    {
     "name": "stderr",
     "output_type": "stream",
     "text": [
      "Validation Epoch 16/50: 100%|██████████| 3/3 [00:00<00:00,  3.94it/s, loss=0.0103, acc=92.50%]\n"
     ]
    },
    {
     "name": "stdout",
     "output_type": "stream",
     "text": [
      "\n",
      "Epoch 16/50 Summary:\n",
      "Training    - Loss: 0.0426, Accuracy: 98.75%\n",
      "Validation  - Loss: 0.2750, Accuracy: 92.50%\n",
      "Learning rate: 0.000077\n",
      "--------------------------------------------------------------------------------\n"
     ]
    },
    {
     "name": "stderr",
     "output_type": "stream",
     "text": [
      "Training Epoch 17/50: 100%|██████████| 10/10 [00:02<00:00,  4.01it/s, loss=0.0332, acc=99.38%]\n"
     ]
    },
    {
     "name": "stdout",
     "output_type": "stream",
     "text": [
      "\n",
      "Running validation...\n"
     ]
    },
    {
     "name": "stderr",
     "output_type": "stream",
     "text": [
      "Validation Epoch 17/50: 100%|██████████| 3/3 [00:00<00:00,  3.59it/s, loss=0.0077, acc=95.00%]\n"
     ]
    },
    {
     "name": "stdout",
     "output_type": "stream",
     "text": [
      "\n",
      "Epoch 17/50 Summary:\n",
      "Training    - Loss: 0.0332, Accuracy: 99.38%\n",
      "Validation  - Loss: 0.2050, Accuracy: 95.00%\n",
      "New best model saved! (Val Loss: 0.2050)\n",
      "Learning rate: 0.000074\n",
      "--------------------------------------------------------------------------------\n"
     ]
    },
    {
     "name": "stderr",
     "output_type": "stream",
     "text": [
      "Training Epoch 18/50: 100%|██████████| 10/10 [00:02<00:00,  3.81it/s, loss=0.0349, acc=98.75%]\n"
     ]
    },
    {
     "name": "stdout",
     "output_type": "stream",
     "text": [
      "\n",
      "Running validation...\n"
     ]
    },
    {
     "name": "stderr",
     "output_type": "stream",
     "text": [
      "Validation Epoch 18/50: 100%|██████████| 3/3 [00:00<00:00,  3.96it/s, loss=0.0138, acc=92.50%]\n"
     ]
    },
    {
     "name": "stdout",
     "output_type": "stream",
     "text": [
      "\n",
      "Epoch 18/50 Summary:\n",
      "Training    - Loss: 0.0349, Accuracy: 98.75%\n",
      "Validation  - Loss: 0.3684, Accuracy: 92.50%\n",
      "Learning rate: 0.000071\n",
      "--------------------------------------------------------------------------------\n"
     ]
    },
    {
     "name": "stderr",
     "output_type": "stream",
     "text": [
      "Training Epoch 19/50: 100%|██████████| 10/10 [00:02<00:00,  4.09it/s, loss=0.0288, acc=99.06%]\n"
     ]
    },
    {
     "name": "stdout",
     "output_type": "stream",
     "text": [
      "\n",
      "Running validation...\n"
     ]
    },
    {
     "name": "stderr",
     "output_type": "stream",
     "text": [
      "Validation Epoch 19/50: 100%|██████████| 3/3 [00:00<00:00,  3.69it/s, loss=0.0140, acc=92.50%]\n"
     ]
    },
    {
     "name": "stdout",
     "output_type": "stream",
     "text": [
      "\n",
      "Epoch 19/50 Summary:\n",
      "Training    - Loss: 0.0288, Accuracy: 99.06%\n",
      "Validation  - Loss: 0.3730, Accuracy: 92.50%\n",
      "Learning rate: 0.000068\n",
      "--------------------------------------------------------------------------------\n"
     ]
    },
    {
     "name": "stderr",
     "output_type": "stream",
     "text": [
      "Training Epoch 20/50: 100%|██████████| 10/10 [00:02<00:00,  3.96it/s, loss=0.0153, acc=100.00%]\n"
     ]
    },
    {
     "name": "stdout",
     "output_type": "stream",
     "text": [
      "\n",
      "Running validation...\n"
     ]
    },
    {
     "name": "stderr",
     "output_type": "stream",
     "text": [
      "Validation Epoch 20/50: 100%|██████████| 3/3 [00:00<00:00,  3.70it/s, loss=0.0128, acc=91.25%]\n"
     ]
    },
    {
     "name": "stdout",
     "output_type": "stream",
     "text": [
      "\n",
      "Epoch 20/50 Summary:\n",
      "Training    - Loss: 0.0153, Accuracy: 100.00%\n",
      "Validation  - Loss: 0.3421, Accuracy: 91.25%\n",
      "Checkpoint saved for epoch 20\n",
      "Learning rate: 0.000065\n",
      "--------------------------------------------------------------------------------\n"
     ]
    },
    {
     "name": "stderr",
     "output_type": "stream",
     "text": [
      "Training Epoch 21/50: 100%|██████████| 10/10 [00:02<00:00,  3.35it/s, loss=0.0217, acc=99.38%]\n"
     ]
    },
    {
     "name": "stdout",
     "output_type": "stream",
     "text": [
      "\n",
      "Running validation...\n"
     ]
    },
    {
     "name": "stderr",
     "output_type": "stream",
     "text": [
      "Validation Epoch 21/50: 100%|██████████| 3/3 [00:00<00:00,  3.89it/s, loss=0.0121, acc=92.50%]\n"
     ]
    },
    {
     "name": "stdout",
     "output_type": "stream",
     "text": [
      "\n",
      "Epoch 21/50 Summary:\n",
      "Training    - Loss: 0.0217, Accuracy: 99.38%\n",
      "Validation  - Loss: 0.3227, Accuracy: 92.50%\n",
      "Learning rate: 0.000062\n",
      "--------------------------------------------------------------------------------\n"
     ]
    },
    {
     "name": "stderr",
     "output_type": "stream",
     "text": [
      "Training Epoch 22/50: 100%|██████████| 10/10 [00:02<00:00,  4.09it/s, loss=0.0106, acc=100.00%]\n"
     ]
    },
    {
     "name": "stdout",
     "output_type": "stream",
     "text": [
      "\n",
      "Running validation...\n"
     ]
    },
    {
     "name": "stderr",
     "output_type": "stream",
     "text": [
      "Validation Epoch 22/50: 100%|██████████| 3/3 [00:00<00:00,  3.86it/s, loss=0.0098, acc=93.75%]\n"
     ]
    },
    {
     "name": "stdout",
     "output_type": "stream",
     "text": [
      "\n",
      "Epoch 22/50 Summary:\n",
      "Training    - Loss: 0.0106, Accuracy: 100.00%\n",
      "Validation  - Loss: 0.2620, Accuracy: 93.75%\n",
      "Learning rate: 0.000059\n",
      "--------------------------------------------------------------------------------\n"
     ]
    },
    {
     "name": "stderr",
     "output_type": "stream",
     "text": [
      "Training Epoch 23/50: 100%|██████████| 10/10 [00:02<00:00,  3.75it/s, loss=0.0086, acc=100.00%]\n"
     ]
    },
    {
     "name": "stdout",
     "output_type": "stream",
     "text": [
      "\n",
      "Running validation...\n"
     ]
    },
    {
     "name": "stderr",
     "output_type": "stream",
     "text": [
      "Validation Epoch 23/50: 100%|██████████| 3/3 [00:00<00:00,  3.91it/s, loss=0.0104, acc=95.00%]\n"
     ]
    },
    {
     "name": "stdout",
     "output_type": "stream",
     "text": [
      "\n",
      "Epoch 23/50 Summary:\n",
      "Training    - Loss: 0.0086, Accuracy: 100.00%\n",
      "Validation  - Loss: 0.2771, Accuracy: 95.00%\n",
      "Learning rate: 0.000056\n",
      "--------------------------------------------------------------------------------\n"
     ]
    },
    {
     "name": "stderr",
     "output_type": "stream",
     "text": [
      "Training Epoch 24/50: 100%|██████████| 10/10 [00:02<00:00,  4.02it/s, loss=0.0073, acc=100.00%]\n"
     ]
    },
    {
     "name": "stdout",
     "output_type": "stream",
     "text": [
      "\n",
      "Running validation...\n"
     ]
    },
    {
     "name": "stderr",
     "output_type": "stream",
     "text": [
      "Validation Epoch 24/50: 100%|██████████| 3/3 [00:00<00:00,  3.64it/s, loss=0.0129, acc=92.50%]\n"
     ]
    },
    {
     "name": "stdout",
     "output_type": "stream",
     "text": [
      "\n",
      "Epoch 24/50 Summary:\n",
      "Training    - Loss: 0.0073, Accuracy: 100.00%\n",
      "Validation  - Loss: 0.3441, Accuracy: 92.50%\n",
      "Learning rate: 0.000053\n",
      "--------------------------------------------------------------------------------\n"
     ]
    },
    {
     "name": "stderr",
     "output_type": "stream",
     "text": [
      "Training Epoch 25/50: 100%|██████████| 10/10 [00:02<00:00,  4.08it/s, loss=0.0049, acc=100.00%]\n"
     ]
    },
    {
     "name": "stdout",
     "output_type": "stream",
     "text": [
      "\n",
      "Running validation...\n"
     ]
    },
    {
     "name": "stderr",
     "output_type": "stream",
     "text": [
      "Validation Epoch 25/50: 100%|██████████| 3/3 [00:00<00:00,  3.84it/s, loss=0.0134, acc=92.50%]\n"
     ]
    },
    {
     "name": "stdout",
     "output_type": "stream",
     "text": [
      "\n",
      "Epoch 25/50 Summary:\n",
      "Training    - Loss: 0.0049, Accuracy: 100.00%\n",
      "Validation  - Loss: 0.3571, Accuracy: 92.50%\n",
      "Checkpoint saved for epoch 25\n",
      "Learning rate: 0.000050\n",
      "--------------------------------------------------------------------------------\n"
     ]
    },
    {
     "name": "stderr",
     "output_type": "stream",
     "text": [
      "Training Epoch 26/50: 100%|██████████| 10/10 [00:02<00:00,  3.86it/s, loss=0.0056, acc=100.00%]\n"
     ]
    },
    {
     "name": "stdout",
     "output_type": "stream",
     "text": [
      "\n",
      "Running validation...\n"
     ]
    },
    {
     "name": "stderr",
     "output_type": "stream",
     "text": [
      "Validation Epoch 26/50: 100%|██████████| 3/3 [00:00<00:00,  3.77it/s, loss=0.0125, acc=92.50%]\n"
     ]
    },
    {
     "name": "stdout",
     "output_type": "stream",
     "text": [
      "\n",
      "Epoch 26/50 Summary:\n",
      "Training    - Loss: 0.0056, Accuracy: 100.00%\n",
      "Validation  - Loss: 0.3345, Accuracy: 92.50%\n",
      "Learning rate: 0.000047\n",
      "--------------------------------------------------------------------------------\n"
     ]
    },
    {
     "name": "stderr",
     "output_type": "stream",
     "text": [
      "Training Epoch 27/50: 100%|██████████| 10/10 [00:02<00:00,  4.09it/s, loss=0.0043, acc=100.00%]\n"
     ]
    },
    {
     "name": "stdout",
     "output_type": "stream",
     "text": [
      "\n",
      "Running validation...\n"
     ]
    },
    {
     "name": "stderr",
     "output_type": "stream",
     "text": [
      "Validation Epoch 27/50: 100%|██████████| 3/3 [00:00<00:00,  3.76it/s, loss=0.0137, acc=92.50%]\n"
     ]
    },
    {
     "name": "stdout",
     "output_type": "stream",
     "text": [
      "\n",
      "Epoch 27/50 Summary:\n",
      "Training    - Loss: 0.0043, Accuracy: 100.00%\n",
      "Validation  - Loss: 0.3656, Accuracy: 92.50%\n",
      "Learning rate: 0.000044\n",
      "--------------------------------------------------------------------------------\n"
     ]
    },
    {
     "name": "stderr",
     "output_type": "stream",
     "text": [
      "Training Epoch 28/50: 100%|██████████| 10/10 [00:02<00:00,  4.05it/s, loss=0.0043, acc=100.00%]\n"
     ]
    },
    {
     "name": "stdout",
     "output_type": "stream",
     "text": [
      "\n",
      "Running validation...\n"
     ]
    },
    {
     "name": "stderr",
     "output_type": "stream",
     "text": [
      "Validation Epoch 28/50: 100%|██████████| 3/3 [00:00<00:00,  3.70it/s, loss=0.0139, acc=92.50%]\n"
     ]
    },
    {
     "name": "stdout",
     "output_type": "stream",
     "text": [
      "\n",
      "Epoch 28/50 Summary:\n",
      "Training    - Loss: 0.0043, Accuracy: 100.00%\n",
      "Validation  - Loss: 0.3698, Accuracy: 92.50%\n",
      "Learning rate: 0.000041\n",
      "--------------------------------------------------------------------------------\n"
     ]
    },
    {
     "name": "stderr",
     "output_type": "stream",
     "text": [
      "Training Epoch 29/50: 100%|██████████| 10/10 [00:02<00:00,  3.77it/s, loss=0.0041, acc=100.00%]\n"
     ]
    },
    {
     "name": "stdout",
     "output_type": "stream",
     "text": [
      "\n",
      "Running validation...\n"
     ]
    },
    {
     "name": "stderr",
     "output_type": "stream",
     "text": [
      "Validation Epoch 29/50: 100%|██████████| 3/3 [00:00<00:00,  3.90it/s, loss=0.0136, acc=92.50%]\n"
     ]
    },
    {
     "name": "stdout",
     "output_type": "stream",
     "text": [
      "\n",
      "Epoch 29/50 Summary:\n",
      "Training    - Loss: 0.0041, Accuracy: 100.00%\n",
      "Validation  - Loss: 0.3619, Accuracy: 92.50%\n",
      "Learning rate: 0.000038\n",
      "--------------------------------------------------------------------------------\n"
     ]
    },
    {
     "name": "stderr",
     "output_type": "stream",
     "text": [
      "Training Epoch 30/50: 100%|██████████| 10/10 [00:02<00:00,  3.85it/s, loss=0.0047, acc=100.00%]\n"
     ]
    },
    {
     "name": "stdout",
     "output_type": "stream",
     "text": [
      "\n",
      "Running validation...\n"
     ]
    },
    {
     "name": "stderr",
     "output_type": "stream",
     "text": [
      "Validation Epoch 30/50: 100%|██████████| 3/3 [00:01<00:00,  2.90it/s, loss=0.0129, acc=92.50%]\n"
     ]
    },
    {
     "name": "stdout",
     "output_type": "stream",
     "text": [
      "\n",
      "Epoch 30/50 Summary:\n",
      "Training    - Loss: 0.0047, Accuracy: 100.00%\n",
      "Validation  - Loss: 0.3430, Accuracy: 92.50%\n",
      "Checkpoint saved for epoch 30\n",
      "Learning rate: 0.000035\n",
      "--------------------------------------------------------------------------------\n"
     ]
    },
    {
     "name": "stderr",
     "output_type": "stream",
     "text": [
      "Training Epoch 31/50: 100%|██████████| 10/10 [00:02<00:00,  4.07it/s, loss=0.0038, acc=100.00%]\n"
     ]
    },
    {
     "name": "stdout",
     "output_type": "stream",
     "text": [
      "\n",
      "Running validation...\n"
     ]
    },
    {
     "name": "stderr",
     "output_type": "stream",
     "text": [
      "Validation Epoch 31/50: 100%|██████████| 3/3 [00:00<00:00,  3.92it/s, loss=0.0123, acc=92.50%]\n"
     ]
    },
    {
     "name": "stdout",
     "output_type": "stream",
     "text": [
      "\n",
      "Epoch 31/50 Summary:\n",
      "Training    - Loss: 0.0038, Accuracy: 100.00%\n",
      "Validation  - Loss: 0.3287, Accuracy: 92.50%\n",
      "Learning rate: 0.000032\n",
      "--------------------------------------------------------------------------------\n"
     ]
    },
    {
     "name": "stderr",
     "output_type": "stream",
     "text": [
      "Training Epoch 32/50: 100%|██████████| 10/10 [00:02<00:00,  3.80it/s, loss=0.0037, acc=100.00%]\n"
     ]
    },
    {
     "name": "stdout",
     "output_type": "stream",
     "text": [
      "\n",
      "Running validation...\n"
     ]
    },
    {
     "name": "stderr",
     "output_type": "stream",
     "text": [
      "Validation Epoch 32/50: 100%|██████████| 3/3 [00:00<00:00,  3.67it/s, loss=0.0128, acc=92.50%]\n"
     ]
    },
    {
     "name": "stdout",
     "output_type": "stream",
     "text": [
      "\n",
      "Epoch 32/50 Summary:\n",
      "Training    - Loss: 0.0037, Accuracy: 100.00%\n",
      "Validation  - Loss: 0.3425, Accuracy: 92.50%\n",
      "Learning rate: 0.000029\n",
      "--------------------------------------------------------------------------------\n"
     ]
    },
    {
     "name": "stderr",
     "output_type": "stream",
     "text": [
      "Training Epoch 33/50: 100%|██████████| 10/10 [00:02<00:00,  3.96it/s, loss=0.0036, acc=100.00%]\n"
     ]
    },
    {
     "name": "stdout",
     "output_type": "stream",
     "text": [
      "\n",
      "Running validation...\n"
     ]
    },
    {
     "name": "stderr",
     "output_type": "stream",
     "text": [
      "Validation Epoch 33/50: 100%|██████████| 3/3 [00:00<00:00,  3.72it/s, loss=0.0138, acc=92.50%]\n"
     ]
    },
    {
     "name": "stdout",
     "output_type": "stream",
     "text": [
      "\n",
      "Epoch 33/50 Summary:\n",
      "Training    - Loss: 0.0036, Accuracy: 100.00%\n",
      "Validation  - Loss: 0.3674, Accuracy: 92.50%\n",
      "Learning rate: 0.000026\n",
      "--------------------------------------------------------------------------------\n"
     ]
    },
    {
     "name": "stderr",
     "output_type": "stream",
     "text": [
      "Training Epoch 34/50: 100%|██████████| 10/10 [00:02<00:00,  3.86it/s, loss=0.0039, acc=100.00%]\n"
     ]
    },
    {
     "name": "stdout",
     "output_type": "stream",
     "text": [
      "\n",
      "Running validation...\n"
     ]
    },
    {
     "name": "stderr",
     "output_type": "stream",
     "text": [
      "Validation Epoch 34/50: 100%|██████████| 3/3 [00:00<00:00,  3.85it/s, loss=0.0140, acc=92.50%]\n"
     ]
    },
    {
     "name": "stdout",
     "output_type": "stream",
     "text": [
      "\n",
      "Epoch 34/50 Summary:\n",
      "Training    - Loss: 0.0039, Accuracy: 100.00%\n",
      "Validation  - Loss: 0.3729, Accuracy: 92.50%\n",
      "Learning rate: 0.000023\n",
      "--------------------------------------------------------------------------------\n"
     ]
    },
    {
     "name": "stderr",
     "output_type": "stream",
     "text": [
      "Training Epoch 35/50: 100%|██████████| 10/10 [00:02<00:00,  3.69it/s, loss=0.0030, acc=100.00%]\n"
     ]
    },
    {
     "name": "stdout",
     "output_type": "stream",
     "text": [
      "\n",
      "Running validation...\n"
     ]
    },
    {
     "name": "stderr",
     "output_type": "stream",
     "text": [
      "Validation Epoch 35/50: 100%|██████████| 3/3 [00:00<00:00,  3.82it/s, loss=0.0143, acc=92.50%]\n"
     ]
    },
    {
     "name": "stdout",
     "output_type": "stream",
     "text": [
      "\n",
      "Epoch 35/50 Summary:\n",
      "Training    - Loss: 0.0030, Accuracy: 100.00%\n",
      "Validation  - Loss: 0.3806, Accuracy: 92.50%\n",
      "Checkpoint saved for epoch 35\n",
      "Learning rate: 0.000021\n",
      "--------------------------------------------------------------------------------\n"
     ]
    },
    {
     "name": "stderr",
     "output_type": "stream",
     "text": [
      "Training Epoch 36/50: 100%|██████████| 10/10 [00:02<00:00,  3.84it/s, loss=0.0040, acc=100.00%]\n"
     ]
    },
    {
     "name": "stdout",
     "output_type": "stream",
     "text": [
      "\n",
      "Running validation...\n"
     ]
    },
    {
     "name": "stderr",
     "output_type": "stream",
     "text": [
      "Validation Epoch 36/50: 100%|██████████| 3/3 [00:00<00:00,  3.71it/s, loss=0.0136, acc=92.50%]\n"
     ]
    },
    {
     "name": "stdout",
     "output_type": "stream",
     "text": [
      "\n",
      "Epoch 36/50 Summary:\n",
      "Training    - Loss: 0.0040, Accuracy: 100.00%\n",
      "Validation  - Loss: 0.3635, Accuracy: 92.50%\n",
      "Learning rate: 0.000018\n",
      "--------------------------------------------------------------------------------\n"
     ]
    },
    {
     "name": "stderr",
     "output_type": "stream",
     "text": [
      "Training Epoch 37/50: 100%|██████████| 10/10 [00:02<00:00,  3.94it/s, loss=0.0035, acc=100.00%]\n"
     ]
    },
    {
     "name": "stdout",
     "output_type": "stream",
     "text": [
      "\n",
      "Running validation...\n"
     ]
    },
    {
     "name": "stderr",
     "output_type": "stream",
     "text": [
      "Validation Epoch 37/50: 100%|██████████| 3/3 [00:00<00:00,  3.79it/s, loss=0.0138, acc=92.50%]\n"
     ]
    },
    {
     "name": "stdout",
     "output_type": "stream",
     "text": [
      "\n",
      "Epoch 37/50 Summary:\n",
      "Training    - Loss: 0.0035, Accuracy: 100.00%\n",
      "Validation  - Loss: 0.3678, Accuracy: 92.50%\n",
      "Learning rate: 0.000016\n",
      "--------------------------------------------------------------------------------\n"
     ]
    },
    {
     "name": "stderr",
     "output_type": "stream",
     "text": [
      "Training Epoch 38/50: 100%|██████████| 10/10 [00:02<00:00,  3.79it/s, loss=0.0032, acc=100.00%]\n"
     ]
    },
    {
     "name": "stdout",
     "output_type": "stream",
     "text": [
      "\n",
      "Running validation...\n"
     ]
    },
    {
     "name": "stderr",
     "output_type": "stream",
     "text": [
      "Validation Epoch 38/50: 100%|██████████| 3/3 [00:00<00:00,  3.63it/s, loss=0.0139, acc=92.50%]\n"
     ]
    },
    {
     "name": "stdout",
     "output_type": "stream",
     "text": [
      "\n",
      "Epoch 38/50 Summary:\n",
      "Training    - Loss: 0.0032, Accuracy: 100.00%\n",
      "Validation  - Loss: 0.3707, Accuracy: 92.50%\n",
      "Learning rate: 0.000014\n",
      "--------------------------------------------------------------------------------\n"
     ]
    },
    {
     "name": "stderr",
     "output_type": "stream",
     "text": [
      "Training Epoch 39/50: 100%|██████████| 10/10 [00:02<00:00,  3.93it/s, loss=0.0031, acc=100.00%]\n"
     ]
    },
    {
     "name": "stdout",
     "output_type": "stream",
     "text": [
      "\n",
      "Running validation...\n"
     ]
    },
    {
     "name": "stderr",
     "output_type": "stream",
     "text": [
      "Validation Epoch 39/50: 100%|██████████| 3/3 [00:00<00:00,  3.17it/s, loss=0.0133, acc=92.50%]\n"
     ]
    },
    {
     "name": "stdout",
     "output_type": "stream",
     "text": [
      "\n",
      "Epoch 39/50 Summary:\n",
      "Training    - Loss: 0.0031, Accuracy: 100.00%\n",
      "Validation  - Loss: 0.3543, Accuracy: 92.50%\n",
      "Learning rate: 0.000011\n",
      "--------------------------------------------------------------------------------\n"
     ]
    },
    {
     "name": "stderr",
     "output_type": "stream",
     "text": [
      "Training Epoch 40/50: 100%|██████████| 10/10 [00:02<00:00,  3.48it/s, loss=0.0031, acc=100.00%]\n"
     ]
    },
    {
     "name": "stdout",
     "output_type": "stream",
     "text": [
      "\n",
      "Running validation...\n"
     ]
    },
    {
     "name": "stderr",
     "output_type": "stream",
     "text": [
      "Validation Epoch 40/50: 100%|██████████| 3/3 [00:00<00:00,  3.67it/s, loss=0.0136, acc=92.50%]\n"
     ]
    },
    {
     "name": "stdout",
     "output_type": "stream",
     "text": [
      "\n",
      "Epoch 40/50 Summary:\n",
      "Training    - Loss: 0.0031, Accuracy: 100.00%\n",
      "Validation  - Loss: 0.3625, Accuracy: 92.50%\n",
      "Checkpoint saved for epoch 40\n",
      "Learning rate: 0.000010\n",
      "--------------------------------------------------------------------------------\n"
     ]
    },
    {
     "name": "stderr",
     "output_type": "stream",
     "text": [
      "Training Epoch 41/50: 100%|██████████| 10/10 [00:02<00:00,  3.87it/s, loss=0.0032, acc=100.00%]\n"
     ]
    },
    {
     "name": "stdout",
     "output_type": "stream",
     "text": [
      "\n",
      "Running validation...\n"
     ]
    },
    {
     "name": "stderr",
     "output_type": "stream",
     "text": [
      "Validation Epoch 41/50: 100%|██████████| 3/3 [00:00<00:00,  3.81it/s, loss=0.0134, acc=92.50%]\n"
     ]
    },
    {
     "name": "stdout",
     "output_type": "stream",
     "text": [
      "\n",
      "Epoch 41/50 Summary:\n",
      "Training    - Loss: 0.0032, Accuracy: 100.00%\n",
      "Validation  - Loss: 0.3579, Accuracy: 92.50%\n",
      "Learning rate: 0.000008\n",
      "--------------------------------------------------------------------------------\n"
     ]
    },
    {
     "name": "stderr",
     "output_type": "stream",
     "text": [
      "Training Epoch 42/50: 100%|██████████| 10/10 [00:02<00:00,  3.74it/s, loss=0.0033, acc=100.00%]\n"
     ]
    },
    {
     "name": "stdout",
     "output_type": "stream",
     "text": [
      "\n",
      "Running validation...\n"
     ]
    },
    {
     "name": "stderr",
     "output_type": "stream",
     "text": [
      "Validation Epoch 42/50: 100%|██████████| 3/3 [00:00<00:00,  3.69it/s, loss=0.0137, acc=92.50%]\n"
     ]
    },
    {
     "name": "stdout",
     "output_type": "stream",
     "text": [
      "\n",
      "Epoch 42/50 Summary:\n",
      "Training    - Loss: 0.0033, Accuracy: 100.00%\n",
      "Validation  - Loss: 0.3653, Accuracy: 92.50%\n",
      "Learning rate: 0.000006\n",
      "--------------------------------------------------------------------------------\n"
     ]
    },
    {
     "name": "stderr",
     "output_type": "stream",
     "text": [
      "Training Epoch 43/50: 100%|██████████| 10/10 [00:02<00:00,  3.87it/s, loss=0.0029, acc=100.00%]\n"
     ]
    },
    {
     "name": "stdout",
     "output_type": "stream",
     "text": [
      "\n",
      "Running validation...\n"
     ]
    },
    {
     "name": "stderr",
     "output_type": "stream",
     "text": [
      "Validation Epoch 43/50: 100%|██████████| 3/3 [00:00<00:00,  3.68it/s, loss=0.0137, acc=92.50%]\n"
     ]
    },
    {
     "name": "stdout",
     "output_type": "stream",
     "text": [
      "\n",
      "Epoch 43/50 Summary:\n",
      "Training    - Loss: 0.0029, Accuracy: 100.00%\n",
      "Validation  - Loss: 0.3648, Accuracy: 92.50%\n",
      "Learning rate: 0.000005\n",
      "--------------------------------------------------------------------------------\n"
     ]
    },
    {
     "name": "stderr",
     "output_type": "stream",
     "text": [
      "Training Epoch 44/50: 100%|██████████| 10/10 [00:02<00:00,  3.86it/s, loss=0.0030, acc=100.00%]\n"
     ]
    },
    {
     "name": "stdout",
     "output_type": "stream",
     "text": [
      "\n",
      "Running validation...\n"
     ]
    },
    {
     "name": "stderr",
     "output_type": "stream",
     "text": [
      "Validation Epoch 44/50: 100%|██████████| 3/3 [00:00<00:00,  3.56it/s, loss=0.0138, acc=92.50%]\n"
     ]
    },
    {
     "name": "stdout",
     "output_type": "stream",
     "text": [
      "\n",
      "Epoch 44/50 Summary:\n",
      "Training    - Loss: 0.0030, Accuracy: 100.00%\n",
      "Validation  - Loss: 0.3683, Accuracy: 92.50%\n",
      "Learning rate: 0.000004\n",
      "--------------------------------------------------------------------------------\n"
     ]
    },
    {
     "name": "stderr",
     "output_type": "stream",
     "text": [
      "Training Epoch 45/50: 100%|██████████| 10/10 [00:02<00:00,  3.99it/s, loss=0.0032, acc=100.00%]\n"
     ]
    },
    {
     "name": "stdout",
     "output_type": "stream",
     "text": [
      "\n",
      "Running validation...\n"
     ]
    },
    {
     "name": "stderr",
     "output_type": "stream",
     "text": [
      "Validation Epoch 45/50: 100%|██████████| 3/3 [00:00<00:00,  3.77it/s, loss=0.0134, acc=92.50%]\n"
     ]
    },
    {
     "name": "stdout",
     "output_type": "stream",
     "text": [
      "\n",
      "Epoch 45/50 Summary:\n",
      "Training    - Loss: 0.0032, Accuracy: 100.00%\n",
      "Validation  - Loss: 0.3580, Accuracy: 92.50%\n",
      "Checkpoint saved for epoch 45\n",
      "Learning rate: 0.000002\n",
      "--------------------------------------------------------------------------------\n"
     ]
    },
    {
     "name": "stderr",
     "output_type": "stream",
     "text": [
      "Training Epoch 46/50: 100%|██████████| 10/10 [00:02<00:00,  3.78it/s, loss=0.0030, acc=100.00%]\n"
     ]
    },
    {
     "name": "stdout",
     "output_type": "stream",
     "text": [
      "\n",
      "Running validation...\n"
     ]
    },
    {
     "name": "stderr",
     "output_type": "stream",
     "text": [
      "Validation Epoch 46/50: 100%|██████████| 3/3 [00:00<00:00,  3.73it/s, loss=0.0134, acc=92.50%]\n"
     ]
    },
    {
     "name": "stdout",
     "output_type": "stream",
     "text": [
      "\n",
      "Epoch 46/50 Summary:\n",
      "Training    - Loss: 0.0030, Accuracy: 100.00%\n",
      "Validation  - Loss: 0.3576, Accuracy: 92.50%\n",
      "Learning rate: 0.000002\n",
      "--------------------------------------------------------------------------------\n"
     ]
    },
    {
     "name": "stderr",
     "output_type": "stream",
     "text": [
      "Training Epoch 47/50: 100%|██████████| 10/10 [00:02<00:00,  3.80it/s, loss=0.0027, acc=100.00%]\n"
     ]
    },
    {
     "name": "stdout",
     "output_type": "stream",
     "text": [
      "\n",
      "Running validation...\n"
     ]
    },
    {
     "name": "stderr",
     "output_type": "stream",
     "text": [
      "Validation Epoch 47/50: 100%|██████████| 3/3 [00:00<00:00,  3.76it/s, loss=0.0134, acc=92.50%]\n"
     ]
    },
    {
     "name": "stdout",
     "output_type": "stream",
     "text": [
      "\n",
      "Epoch 47/50 Summary:\n",
      "Training    - Loss: 0.0027, Accuracy: 100.00%\n",
      "Validation  - Loss: 0.3574, Accuracy: 92.50%\n",
      "Learning rate: 0.000001\n",
      "--------------------------------------------------------------------------------\n"
     ]
    },
    {
     "name": "stderr",
     "output_type": "stream",
     "text": [
      "Training Epoch 48/50: 100%|██████████| 10/10 [00:02<00:00,  3.94it/s, loss=0.0030, acc=100.00%]\n"
     ]
    },
    {
     "name": "stdout",
     "output_type": "stream",
     "text": [
      "\n",
      "Running validation...\n"
     ]
    },
    {
     "name": "stderr",
     "output_type": "stream",
     "text": [
      "Validation Epoch 48/50: 100%|██████████| 3/3 [00:00<00:00,  3.57it/s, loss=0.0135, acc=92.50%]\n"
     ]
    },
    {
     "name": "stdout",
     "output_type": "stream",
     "text": [
      "\n",
      "Epoch 48/50 Summary:\n",
      "Training    - Loss: 0.0030, Accuracy: 100.00%\n",
      "Validation  - Loss: 0.3613, Accuracy: 92.50%\n",
      "Learning rate: 0.000000\n",
      "--------------------------------------------------------------------------------\n"
     ]
    },
    {
     "name": "stderr",
     "output_type": "stream",
     "text": [
      "Training Epoch 49/50: 100%|██████████| 10/10 [00:03<00:00,  3.19it/s, loss=0.0027, acc=100.00%]\n"
     ]
    },
    {
     "name": "stdout",
     "output_type": "stream",
     "text": [
      "\n",
      "Running validation...\n"
     ]
    },
    {
     "name": "stderr",
     "output_type": "stream",
     "text": [
      "Validation Epoch 49/50: 100%|██████████| 3/3 [00:00<00:00,  3.88it/s, loss=0.0134, acc=92.50%]\n"
     ]
    },
    {
     "name": "stdout",
     "output_type": "stream",
     "text": [
      "\n",
      "Epoch 49/50 Summary:\n",
      "Training    - Loss: 0.0027, Accuracy: 100.00%\n",
      "Validation  - Loss: 0.3583, Accuracy: 92.50%\n",
      "Learning rate: 0.000000\n",
      "--------------------------------------------------------------------------------\n"
     ]
    },
    {
     "name": "stderr",
     "output_type": "stream",
     "text": [
      "Training Epoch 50/50: 100%|██████████| 10/10 [00:02<00:00,  4.01it/s, loss=0.0031, acc=100.00%]\n"
     ]
    },
    {
     "name": "stdout",
     "output_type": "stream",
     "text": [
      "\n",
      "Running validation...\n"
     ]
    },
    {
     "name": "stderr",
     "output_type": "stream",
     "text": [
      "Validation Epoch 50/50: 100%|██████████| 3/3 [00:00<00:00,  3.86it/s, loss=0.0133, acc=92.50%]\n"
     ]
    },
    {
     "name": "stdout",
     "output_type": "stream",
     "text": [
      "\n",
      "Epoch 50/50 Summary:\n",
      "Training    - Loss: 0.0031, Accuracy: 100.00%\n",
      "Validation  - Loss: 0.3556, Accuracy: 92.50%\n",
      "Checkpoint saved for epoch 50\n",
      "Learning rate: 0.000000\n",
      "--------------------------------------------------------------------------------\n",
      "Training completed successfully!\n",
      "\n",
      "Results saved in: experiments/run_20241123_104649\n",
      "\n",
      "Experiment completed successfully!\n"
     ]
    }
   ],
   "source": [
    "from main import main\n",
    "\n",
    "\n",
    "\n",
    "# Run the main training pipeline\n",
    "\n",
    "main()"
   ]
  },
  {
   "cell_type": "code",
   "execution_count": null,
   "id": "3bd93d40",
   "metadata": {
    "papermill": {
     "duration": 0.070279,
     "end_time": "2024-11-23T10:49:48.817929",
     "exception": false,
     "start_time": "2024-11-23T10:49:48.747650",
     "status": "completed"
    },
    "tags": []
   },
   "outputs": [],
   "source": []
  }
 ],
 "metadata": {
  "kaggle": {
   "accelerator": "gpu",
   "dataSources": [
    {
     "datasetId": 112353,
     "sourceId": 9892578,
     "sourceType": "datasetVersion"
    }
   ],
   "dockerImageVersionId": 30787,
   "isGpuEnabled": true,
   "isInternetEnabled": true,
   "language": "python",
   "sourceType": "notebook"
  },
  "kernelspec": {
   "display_name": "Python 3",
   "language": "python",
   "name": "python3"
  },
  "language_info": {
   "codemirror_mode": {
    "name": "ipython",
    "version": 3
   },
   "file_extension": ".py",
   "mimetype": "text/x-python",
   "name": "python",
   "nbconvert_exporter": "python",
   "pygments_lexer": "ipython3",
   "version": "3.10.14"
  },
  "papermill": {
   "default_parameters": {},
   "duration": 196.803175,
   "end_time": "2024-11-23T10:49:51.353152",
   "environment_variables": {},
   "exception": null,
   "input_path": "__notebook__.ipynb",
   "output_path": "__notebook__.ipynb",
   "parameters": {},
   "start_time": "2024-11-23T10:46:34.549977",
   "version": "2.6.0"
  }
 },
 "nbformat": 4,
 "nbformat_minor": 5
}
