{
 "cells": [
  {
   "cell_type": "markdown",
   "id": "b2b73ff8",
   "metadata": {
    "papermill": {
     "duration": 0.002406,
     "end_time": "2024-11-24T19:17:47.908386",
     "exception": false,
     "start_time": "2024-11-24T19:17:47.905980",
     "status": "completed"
    },
    "tags": []
   },
   "source": [
    "# Urdu Clinical Emotion Recognition - Training\n",
    "\n",
    "\n",
    "\n",
    "This notebook runs the main training pipeline with default parameters."
   ]
  },
  {
   "cell_type": "code",
   "execution_count": 1,
   "id": "03062c81",
   "metadata": {
    "execution": {
     "iopub.execute_input": "2024-11-24T19:17:47.913388Z",
     "iopub.status.busy": "2024-11-24T19:17:47.913062Z",
     "iopub.status.idle": "2024-11-24T19:17:48.947554Z",
     "shell.execute_reply": "2024-11-24T19:17:48.946474Z"
    },
    "papermill": {
     "duration": 1.039324,
     "end_time": "2024-11-24T19:17:48.949675",
     "exception": false,
     "start_time": "2024-11-24T19:17:47.910351",
     "status": "completed"
    },
    "tags": []
   },
   "outputs": [
    {
     "name": "stdout",
     "output_type": "stream",
     "text": [
      "/kaggle/working\n"
     ]
    }
   ],
   "source": [
    "%cd /kaggle/working/\n",
    "!rm -r /kaggle/working/*"
   ]
  },
  {
   "cell_type": "code",
   "execution_count": 2,
   "id": "536ce794",
   "metadata": {
    "execution": {
     "iopub.execute_input": "2024-11-24T19:17:48.955005Z",
     "iopub.status.busy": "2024-11-24T19:17:48.954719Z",
     "iopub.status.idle": "2024-11-24T19:17:51.106553Z",
     "shell.execute_reply": "2024-11-24T19:17:51.105552Z"
    },
    "papermill": {
     "duration": 2.157036,
     "end_time": "2024-11-24T19:17:51.108786",
     "exception": false,
     "start_time": "2024-11-24T19:17:48.951750",
     "status": "completed"
    },
    "tags": []
   },
   "outputs": [
    {
     "name": "stdout",
     "output_type": "stream",
     "text": [
      "Cloning into 'Urdu_Speech_Emotion_Recognition'...\r\n",
      "remote: Enumerating objects: 225, done.\u001b[K\r\n",
      "remote: Counting objects: 100% (225/225), done.\u001b[K\r\n",
      "remote: Compressing objects: 100% (160/160), done.\u001b[K\r\n",
      "remote: Total 225 (delta 73), reused 205 (delta 56), pack-reused 0 (from 0)\u001b[K\r\n",
      "Receiving objects: 100% (225/225), 3.35 MiB | 21.08 MiB/s, done.\r\n",
      "Resolving deltas: 100% (73/73), done.\r\n",
      "/kaggle/working/Urdu_Speech_Emotion_Recognition\n"
     ]
    },
    {
     "data": {
      "text/plain": [
       "'/kaggle/working/Urdu_Speech_Emotion_Recognition'"
      ]
     },
     "execution_count": 2,
     "metadata": {},
     "output_type": "execute_result"
    }
   ],
   "source": [
    "!git clone https://github.com/farrukh-qureshi/Urdu_Speech_Emotion_Recognition\n",
    "%cd /kaggle/working/Urdu_Speech_Emotion_Recognition\n",
    "%pwd"
   ]
  },
  {
   "cell_type": "code",
   "execution_count": 3,
   "id": "594e5a75",
   "metadata": {
    "execution": {
     "iopub.execute_input": "2024-11-24T19:17:51.118949Z",
     "iopub.status.busy": "2024-11-24T19:17:51.118667Z",
     "iopub.status.idle": "2024-11-24T19:17:55.984377Z",
     "shell.execute_reply": "2024-11-24T19:17:55.983496Z"
    },
    "papermill": {
     "duration": 4.873139,
     "end_time": "2024-11-24T19:17:55.986436",
     "exception": false,
     "start_time": "2024-11-24T19:17:51.113297",
     "status": "completed"
    },
    "tags": []
   },
   "outputs": [],
   "source": [
    "!cp -r /kaggle/input/urdu-language-speech-dataset /kaggle/working/Urdu_Speech_Emotion_Recognition/raw_data"
   ]
  },
  {
   "cell_type": "code",
   "execution_count": 4,
   "id": "1105dbda",
   "metadata": {
    "execution": {
     "iopub.execute_input": "2024-11-24T19:17:55.993569Z",
     "iopub.status.busy": "2024-11-24T19:17:55.993258Z",
     "iopub.status.idle": "2024-11-24T19:17:59.478043Z",
     "shell.execute_reply": "2024-11-24T19:17:59.477303Z"
    },
    "papermill": {
     "duration": 3.490235,
     "end_time": "2024-11-24T19:17:59.479908",
     "exception": false,
     "start_time": "2024-11-24T19:17:55.989673",
     "status": "completed"
    },
    "tags": []
   },
   "outputs": [],
   "source": [
    "import os\n",
    "\n",
    "import sys\n",
    "\n",
    "from IPython.display import display, HTML\n",
    "\n",
    "import pandas as pd\n",
    "\n",
    "import matplotlib.pyplot as plt\n",
    "\n",
    "import seaborn as sns\n",
    "\n",
    "\n",
    "\n",
    "# Add project root to path\n",
    "\n",
    "project_root = os.path.abspath(os.path.dirname('.'))\n",
    "\n",
    "if project_root not in sys.path:\n",
    "\n",
    "    sys.path.append(project_root)"
   ]
  },
  {
   "cell_type": "code",
   "execution_count": 5,
   "id": "82a647c3",
   "metadata": {
    "execution": {
     "iopub.execute_input": "2024-11-24T19:17:59.487316Z",
     "iopub.status.busy": "2024-11-24T19:17:59.486500Z",
     "iopub.status.idle": "2024-11-24T19:17:59.626527Z",
     "shell.execute_reply": "2024-11-24T19:17:59.625788Z"
    },
    "papermill": {
     "duration": 0.145564,
     "end_time": "2024-11-24T19:17:59.628314",
     "exception": false,
     "start_time": "2024-11-24T19:17:59.482750",
     "status": "completed"
    },
    "tags": []
   },
   "outputs": [],
   "source": [
    "from kaggle_secrets import UserSecretsClient\n",
    "user_secrets = UserSecretsClient()\n",
    "secret_value_0 = user_secrets.get_secret(\"wandb_api_key\")"
   ]
  },
  {
   "cell_type": "code",
   "execution_count": 6,
   "id": "0dea3615",
   "metadata": {
    "execution": {
     "iopub.execute_input": "2024-11-24T19:17:59.635277Z",
     "iopub.status.busy": "2024-11-24T19:17:59.635053Z",
     "iopub.status.idle": "2024-11-24T19:18:14.746689Z",
     "shell.execute_reply": "2024-11-24T19:18:14.745710Z"
    },
    "papermill": {
     "duration": 15.117731,
     "end_time": "2024-11-24T19:18:14.748641",
     "exception": false,
     "start_time": "2024-11-24T19:17:59.630910",
     "status": "completed"
    },
    "tags": []
   },
   "outputs": [
    {
     "name": "stdout",
     "output_type": "stream",
     "text": [
      "\n",
      "=== Starting Dataset Analysis ===\n",
      "Working directory: /kaggle/working/Urdu_Speech_Emotion_Recognition\n",
      "Looking for data in: /kaggle/working/Urdu_Speech_Emotion_Recognition/raw_data\n",
      "Found Angry directory with 100 files\n",
      "Found Happy directory with 100 files\n",
      "Found Neutral directory with 100 files\n",
      "Found Sad directory with 100 files\n",
      "\n",
      "Initializing preprocessing and datasets...\n",
      "Total dataset size: 400 files\n",
      "Splitting dataset: 320 training, 80 validation\n",
      "Creating data loaders...\n",
      "Initializing model...\n",
      "\n",
      "Model Architecture:\n",
      "UrduClinicalEmotionTransformer(\n",
      "  (input_projection): Linear(in_features=80, out_features=256, bias=True)\n",
      "  (audio_encoder): ModuleList(\n",
      "    (0-5): 6 x ConformerBlock(\n",
      "      (ff1): FeedForward(\n",
      "        (net): Sequential(\n",
      "          (0): Linear(in_features=256, out_features=1024, bias=True)\n",
      "          (1): GELU(approximate='none')\n",
      "          (2): Dropout(p=0.1, inplace=False)\n",
      "          (3): Linear(in_features=1024, out_features=256, bias=True)\n",
      "          (4): Dropout(p=0.1, inplace=False)\n",
      "        )\n",
      "      )\n",
      "      (self_attn): MultiHeadAttention(\n",
      "        (mha): MultiheadAttention(\n",
      "          (out_proj): NonDynamicallyQuantizableLinear(in_features=256, out_features=256, bias=True)\n",
      "        )\n",
      "        (dropout): Dropout(p=0.1, inplace=False)\n",
      "      )\n",
      "      (conv): ConformerConvModule(\n",
      "        (layer_norm): LayerNorm((256,), eps=1e-05, elementwise_affine=True)\n",
      "        (conv1): Conv1d(256, 512, kernel_size=(1,), stride=(1,))\n",
      "        (glu): GLU(dim=1)\n",
      "        (depthwise_conv): Conv1d(256, 256, kernel_size=(15,), stride=(1,), padding=(7,), groups=256)\n",
      "        (batch_norm): BatchNorm1d(256, eps=1e-05, momentum=0.1, affine=True, track_running_stats=True)\n",
      "        (activation): GELU(approximate='none')\n",
      "        (pointwise_conv): Conv1d(256, 256, kernel_size=(1,), stride=(1,))\n",
      "        (dropout): Dropout(p=0.1, inplace=False)\n",
      "      )\n",
      "      (ff2): FeedForward(\n",
      "        (net): Sequential(\n",
      "          (0): Linear(in_features=256, out_features=1024, bias=True)\n",
      "          (1): GELU(approximate='none')\n",
      "          (2): Dropout(p=0.1, inplace=False)\n",
      "          (3): Linear(in_features=1024, out_features=256, bias=True)\n",
      "          (4): Dropout(p=0.1, inplace=False)\n",
      "        )\n",
      "      )\n",
      "      (norm1): LayerNorm((256,), eps=1e-05, elementwise_affine=True)\n",
      "      (norm2): LayerNorm((256,), eps=1e-05, elementwise_affine=True)\n",
      "      (norm3): LayerNorm((256,), eps=1e-05, elementwise_affine=True)\n",
      "      (norm4): LayerNorm((256,), eps=1e-05, elementwise_affine=True)\n",
      "    )\n",
      "  )\n",
      "  (clinical_adapter): Sequential(\n",
      "    (0): Linear(in_features=256, out_features=256, bias=True)\n",
      "    (1): GELU(approximate='none')\n",
      "    (2): Dropout(p=0.1, inplace=False)\n",
      "  )\n",
      "  (classifier): Linear(in_features=256, out_features=4, bias=True)\n",
      "  (input_norm): LayerNorm((256,), eps=1e-05, elementwise_affine=True)\n",
      ")\n",
      "\n",
      "Total parameters: 9,201,156\n",
      "Trainable parameters: 9,201,156\n",
      "\n",
      "Starting training...\n",
      "\n",
      "Running debug checks...\n",
      "Batch shapes - Input: torch.Size([16, 1, 80, 301]), Target: torch.Size([16])\n",
      "Testing forward pass...\n",
      "Output shape: torch.Size([16, 4])\n",
      "Output device: cuda:0\n",
      "\n",
      "Testing loss computation...\n",
      "Loss value: 1.3941296339035034\n",
      "\n",
      "Testing backward pass...\n",
      "Backward pass successful!\n",
      "\n",
      "Testing optimizer step...\n"
     ]
    },
    {
     "name": "stderr",
     "output_type": "stream",
     "text": [
      "\u001b[34m\u001b[1mwandb\u001b[0m: Using wandb-core as the SDK backend. Please refer to https://wandb.me/wandb-core for more information.\n"
     ]
    },
    {
     "name": "stdout",
     "output_type": "stream",
     "text": [
      "Optimizer step successful!\n",
      "\n",
      "All debug checks passed successfully!\n",
      "\n",
      "Starting actual training...\n",
      "\n",
      "Error during training: api_key not configured (no-tty). call wandb.login(key=[your_api_key])\n",
      "\n",
      "Full traceback:\n"
     ]
    },
    {
     "name": "stderr",
     "output_type": "stream",
     "text": [
      "Traceback (most recent call last):\n",
      "  File \"/kaggle/working/Urdu_Speech_Emotion_Recognition/main.py\", line 208, in main\n",
      "    train_model(model, train_loader, val_loader,\n",
      "  File \"/kaggle/working/Urdu_Speech_Emotion_Recognition/train.py\", line 82, in train_model\n",
      "    wandb.init(\n",
      "  File \"/opt/conda/lib/python3.10/site-packages/wandb/sdk/wandb_init.py\", line 1266, in init\n",
      "    wandb._sentry.reraise(e)\n",
      "  File \"/opt/conda/lib/python3.10/site-packages/wandb/analytics/sentry.py\", line 155, in reraise\n",
      "    raise exc.with_traceback(sys.exc_info()[2])\n",
      "  File \"/opt/conda/lib/python3.10/site-packages/wandb/sdk/wandb_init.py\", line 1251, in init\n",
      "    wi.setup(kwargs)\n",
      "  File \"/opt/conda/lib/python3.10/site-packages/wandb/sdk/wandb_init.py\", line 303, in setup\n",
      "    wandb_login._login(\n",
      "  File \"/opt/conda/lib/python3.10/site-packages/wandb/sdk/wandb_login.py\", line 347, in _login\n",
      "    wlogin.prompt_api_key()\n",
      "  File \"/opt/conda/lib/python3.10/site-packages/wandb/sdk/wandb_login.py\", line 281, in prompt_api_key\n",
      "    raise UsageError(\"api_key not configured (no-tty). call \" + directive)\n",
      "wandb.errors.errors.UsageError: api_key not configured (no-tty). call wandb.login(key=[your_api_key])\n"
     ]
    }
   ],
   "source": [
    "from main import main\n",
    "\n",
    "\n",
    "\n",
    "# Run the main training pipeline\n",
    "\n",
    "main()"
   ]
  },
  {
   "cell_type": "code",
   "execution_count": null,
   "id": "fb0dc76e",
   "metadata": {
    "papermill": {
     "duration": 0.003122,
     "end_time": "2024-11-24T19:18:14.755254",
     "exception": false,
     "start_time": "2024-11-24T19:18:14.752132",
     "status": "completed"
    },
    "tags": []
   },
   "outputs": [],
   "source": []
  }
 ],
 "metadata": {
  "kaggle": {
   "accelerator": "nvidiaTeslaT4",
   "dataSources": [
    {
     "datasetId": 112353,
     "sourceId": 9892578,
     "sourceType": "datasetVersion"
    }
   ],
   "dockerImageVersionId": 30787,
   "isGpuEnabled": true,
   "isInternetEnabled": true,
   "language": "python",
   "sourceType": "notebook"
  },
  "kernelspec": {
   "display_name": "Python 3",
   "language": "python",
   "name": "python3"
  },
  "language_info": {
   "codemirror_mode": {
    "name": "ipython",
    "version": 3
   },
   "file_extension": ".py",
   "mimetype": "text/x-python",
   "name": "python",
   "nbconvert_exporter": "python",
   "pygments_lexer": "ipython3",
   "version": "3.10.14"
  },
  "papermill": {
   "default_parameters": {},
   "duration": 33.232674,
   "end_time": "2024-11-24T19:18:17.451202",
   "environment_variables": {},
   "exception": null,
   "input_path": "__notebook__.ipynb",
   "output_path": "__notebook__.ipynb",
   "parameters": {},
   "start_time": "2024-11-24T19:17:44.218528",
   "version": "2.6.0"
  }
 },
 "nbformat": 4,
 "nbformat_minor": 5
}
