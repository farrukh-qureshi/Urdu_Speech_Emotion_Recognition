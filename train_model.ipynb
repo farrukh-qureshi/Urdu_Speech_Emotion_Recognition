{
 "cells": [
  {
   "cell_type": "markdown",
   "id": "c7a06509",
   "metadata": {
    "papermill": {
     "duration": 0.002234,
     "end_time": "2024-11-24T19:21:57.159394",
     "exception": false,
     "start_time": "2024-11-24T19:21:57.157160",
     "status": "completed"
    },
    "tags": []
   },
   "source": [
    "# Urdu Clinical Emotion Recognition - Training\n",
    "\n",
    "\n",
    "\n",
    "This notebook runs the main training pipeline with default parameters."
   ]
  },
  {
   "cell_type": "code",
   "execution_count": 1,
   "id": "d10e7c9d",
   "metadata": {
    "execution": {
     "iopub.execute_input": "2024-11-24T19:21:57.164506Z",
     "iopub.status.busy": "2024-11-24T19:21:57.163908Z",
     "iopub.status.idle": "2024-11-24T19:21:58.180628Z",
     "shell.execute_reply": "2024-11-24T19:21:58.179769Z"
    },
    "papermill": {
     "duration": 1.021362,
     "end_time": "2024-11-24T19:21:58.182568",
     "exception": false,
     "start_time": "2024-11-24T19:21:57.161206",
     "status": "completed"
    },
    "tags": []
   },
   "outputs": [
    {
     "name": "stdout",
     "output_type": "stream",
     "text": [
      "/kaggle/working\n"
     ]
    }
   ],
   "source": [
    "%cd /kaggle/working/\n",
    "!rm -r /kaggle/working/*"
   ]
  },
  {
   "cell_type": "code",
   "execution_count": 2,
   "id": "726d4d7d",
   "metadata": {
    "execution": {
     "iopub.execute_input": "2024-11-24T19:21:58.187767Z",
     "iopub.status.busy": "2024-11-24T19:21:58.187480Z",
     "iopub.status.idle": "2024-11-24T19:22:00.071512Z",
     "shell.execute_reply": "2024-11-24T19:22:00.070646Z"
    },
    "papermill": {
     "duration": 1.888555,
     "end_time": "2024-11-24T19:22:00.073073",
     "exception": false,
     "start_time": "2024-11-24T19:21:58.184518",
     "status": "completed"
    },
    "tags": []
   },
   "outputs": [
    {
     "name": "stdout",
     "output_type": "stream",
     "text": [
      "Cloning into 'Urdu_Speech_Emotion_Recognition'...\r\n",
      "remote: Enumerating objects: 233, done.\u001b[K\r\n",
      "remote: Counting objects: 100% (233/233), done.\u001b[K\r\n",
      "remote: Compressing objects: 100% (166/166), done.\u001b[K\r\n",
      "remote: Total 233 (delta 79), reused 209 (delta 58), pack-reused 0 (from 0)\u001b[K\r\n",
      "Receiving objects: 100% (233/233), 3.36 MiB | 30.42 MiB/s, done.\r\n",
      "Resolving deltas: 100% (79/79), done.\r\n",
      "/kaggle/working/Urdu_Speech_Emotion_Recognition\n"
     ]
    },
    {
     "data": {
      "text/plain": [
       "'/kaggle/working/Urdu_Speech_Emotion_Recognition'"
      ]
     },
     "execution_count": 2,
     "metadata": {},
     "output_type": "execute_result"
    }
   ],
   "source": [
    "!git clone https://github.com/farrukh-qureshi/Urdu_Speech_Emotion_Recognition\n",
    "%cd /kaggle/working/Urdu_Speech_Emotion_Recognition\n",
    "%pwd"
   ]
  },
  {
   "cell_type": "code",
   "execution_count": 3,
   "id": "53bd6e07",
   "metadata": {
    "execution": {
     "iopub.execute_input": "2024-11-24T19:22:00.079717Z",
     "iopub.status.busy": "2024-11-24T19:22:00.079046Z",
     "iopub.status.idle": "2024-11-24T19:22:04.688331Z",
     "shell.execute_reply": "2024-11-24T19:22:04.687193Z"
    },
    "papermill": {
     "duration": 4.614688,
     "end_time": "2024-11-24T19:22:04.690467",
     "exception": false,
     "start_time": "2024-11-24T19:22:00.075779",
     "status": "completed"
    },
    "tags": []
   },
   "outputs": [],
   "source": [
    "!cp -r /kaggle/input/urdu-language-speech-dataset /kaggle/working/Urdu_Speech_Emotion_Recognition/raw_data"
   ]
  },
  {
   "cell_type": "code",
   "execution_count": 4,
   "id": "21c5176c",
   "metadata": {
    "execution": {
     "iopub.execute_input": "2024-11-24T19:22:04.696849Z",
     "iopub.status.busy": "2024-11-24T19:22:04.696583Z",
     "iopub.status.idle": "2024-11-24T19:22:06.623008Z",
     "shell.execute_reply": "2024-11-24T19:22:06.622280Z"
    },
    "papermill": {
     "duration": 1.931855,
     "end_time": "2024-11-24T19:22:06.624985",
     "exception": false,
     "start_time": "2024-11-24T19:22:04.693130",
     "status": "completed"
    },
    "tags": []
   },
   "outputs": [],
   "source": [
    "import os\n",
    "\n",
    "import sys\n",
    "\n",
    "from IPython.display import display, HTML\n",
    "\n",
    "import pandas as pd\n",
    "\n",
    "import matplotlib.pyplot as plt\n",
    "\n",
    "import seaborn as sns\n",
    "\n",
    "\n",
    "\n",
    "# Add project root to path\n",
    "\n",
    "project_root = os.path.abspath(os.path.dirname('.'))\n",
    "\n",
    "if project_root not in sys.path:\n",
    "\n",
    "    sys.path.append(project_root)"
   ]
  },
  {
   "cell_type": "code",
   "execution_count": 5,
   "id": "2db98f54",
   "metadata": {
    "execution": {
     "iopub.execute_input": "2024-11-24T19:22:06.631166Z",
     "iopub.status.busy": "2024-11-24T19:22:06.630850Z",
     "iopub.status.idle": "2024-11-24T19:29:46.484693Z",
     "shell.execute_reply": "2024-11-24T19:29:46.483559Z"
    },
    "papermill": {
     "duration": 459.858885,
     "end_time": "2024-11-24T19:29:46.486510",
     "exception": false,
     "start_time": "2024-11-24T19:22:06.627625",
     "status": "completed"
    },
    "tags": []
   },
   "outputs": [
    {
     "name": "stderr",
     "output_type": "stream",
     "text": [
      "\u001b[34m\u001b[1mwandb\u001b[0m: Using wandb-core as the SDK backend. Please refer to https://wandb.me/wandb-core for more information.\n",
      "\u001b[34m\u001b[1mwandb\u001b[0m: W&B API key is configured. Use \u001b[1m`wandb login --relogin`\u001b[0m to force relogin\n",
      "\u001b[34m\u001b[1mwandb\u001b[0m: \u001b[33mWARNING\u001b[0m If you're specifying your api key in code, ensure this code is not shared publicly.\n",
      "\u001b[34m\u001b[1mwandb\u001b[0m: \u001b[33mWARNING\u001b[0m Consider setting the WANDB_API_KEY environment variable, or running `wandb login` from the command line.\n",
      "\u001b[34m\u001b[1mwandb\u001b[0m: Appending key for api.wandb.ai to your netrc file: /root/.netrc\n"
     ]
    },
    {
     "name": "stdout",
     "output_type": "stream",
     "text": [
      "\n",
      "=== Starting Dataset Analysis ===\n",
      "Working directory: /kaggle/working/Urdu_Speech_Emotion_Recognition\n",
      "Looking for data in: /kaggle/working/Urdu_Speech_Emotion_Recognition/raw_data\n",
      "Found Angry directory with 100 files\n",
      "Found Happy directory with 100 files\n",
      "Found Neutral directory with 100 files\n",
      "Found Sad directory with 100 files\n",
      "\n",
      "Initializing preprocessing and datasets...\n",
      "Total dataset size: 400 files\n",
      "Splitting dataset: 320 training, 80 validation\n",
      "Creating data loaders...\n",
      "Initializing model...\n",
      "\n",
      "Model Architecture:\n",
      "UrduClinicalEmotionTransformer(\n",
      "  (input_projection): Linear(in_features=80, out_features=256, bias=True)\n",
      "  (audio_encoder): ModuleList(\n",
      "    (0-5): 6 x ConformerBlock(\n",
      "      (ff1): FeedForward(\n",
      "        (net): Sequential(\n",
      "          (0): Linear(in_features=256, out_features=1024, bias=True)\n",
      "          (1): GELU(approximate='none')\n",
      "          (2): Dropout(p=0.1, inplace=False)\n",
      "          (3): Linear(in_features=1024, out_features=256, bias=True)\n",
      "          (4): Dropout(p=0.1, inplace=False)\n",
      "        )\n",
      "      )\n",
      "      (self_attn): MultiHeadAttention(\n",
      "        (mha): MultiheadAttention(\n",
      "          (out_proj): NonDynamicallyQuantizableLinear(in_features=256, out_features=256, bias=True)\n",
      "        )\n",
      "        (dropout): Dropout(p=0.1, inplace=False)\n",
      "      )\n",
      "      (conv): ConformerConvModule(\n",
      "        (layer_norm): LayerNorm((256,), eps=1e-05, elementwise_affine=True)\n",
      "        (conv1): Conv1d(256, 512, kernel_size=(1,), stride=(1,))\n",
      "        (glu): GLU(dim=1)\n",
      "        (depthwise_conv): Conv1d(256, 256, kernel_size=(15,), stride=(1,), padding=(7,), groups=256)\n",
      "        (batch_norm): BatchNorm1d(256, eps=1e-05, momentum=0.1, affine=True, track_running_stats=True)\n",
      "        (activation): GELU(approximate='none')\n",
      "        (pointwise_conv): Conv1d(256, 256, kernel_size=(1,), stride=(1,))\n",
      "        (dropout): Dropout(p=0.1, inplace=False)\n",
      "      )\n",
      "      (ff2): FeedForward(\n",
      "        (net): Sequential(\n",
      "          (0): Linear(in_features=256, out_features=1024, bias=True)\n",
      "          (1): GELU(approximate='none')\n",
      "          (2): Dropout(p=0.1, inplace=False)\n",
      "          (3): Linear(in_features=1024, out_features=256, bias=True)\n",
      "          (4): Dropout(p=0.1, inplace=False)\n",
      "        )\n",
      "      )\n",
      "      (norm1): LayerNorm((256,), eps=1e-05, elementwise_affine=True)\n",
      "      (norm2): LayerNorm((256,), eps=1e-05, elementwise_affine=True)\n",
      "      (norm3): LayerNorm((256,), eps=1e-05, elementwise_affine=True)\n",
      "      (norm4): LayerNorm((256,), eps=1e-05, elementwise_affine=True)\n",
      "    )\n",
      "  )\n",
      "  (clinical_adapter): Sequential(\n",
      "    (0): Linear(in_features=256, out_features=256, bias=True)\n",
      "    (1): GELU(approximate='none')\n",
      "    (2): Dropout(p=0.1, inplace=False)\n",
      "  )\n",
      "  (classifier): Linear(in_features=256, out_features=4, bias=True)\n",
      "  (input_norm): LayerNorm((256,), eps=1e-05, elementwise_affine=True)\n",
      ")\n",
      "\n",
      "Total parameters: 9,201,156\n",
      "Trainable parameters: 9,201,156\n",
      "\n",
      "Starting training...\n",
      "\n",
      "Running debug checks...\n",
      "Batch shapes - Input: torch.Size([16, 1, 80, 301]), Target: torch.Size([16])\n",
      "Testing forward pass...\n",
      "Output shape: torch.Size([16, 4])\n",
      "Output device: cuda:0\n",
      "\n",
      "Testing loss computation...\n",
      "Loss value: 1.3565980195999146\n",
      "\n",
      "Testing backward pass...\n",
      "Backward pass successful!\n",
      "\n",
      "Testing optimizer step...\n"
     ]
    },
    {
     "name": "stderr",
     "output_type": "stream",
     "text": [
      "\u001b[34m\u001b[1mwandb\u001b[0m: Currently logged in as: \u001b[33mdr-farrukh89\u001b[0m (\u001b[33mdr-farrukh89-namal-university\u001b[0m). Use \u001b[1m`wandb login --relogin`\u001b[0m to force relogin\n"
     ]
    },
    {
     "name": "stdout",
     "output_type": "stream",
     "text": [
      "Optimizer step successful!\n",
      "\n",
      "All debug checks passed successfully!\n",
      "\n",
      "Starting actual training...\n"
     ]
    },
    {
     "name": "stderr",
     "output_type": "stream",
     "text": [
      "\u001b[34m\u001b[1mwandb\u001b[0m: Tracking run with wandb version 0.18.3\n",
      "\u001b[34m\u001b[1mwandb\u001b[0m: Run data is saved locally in \u001b[35m\u001b[1m/kaggle/working/Urdu_Speech_Emotion_Recognition/wandb/run-20241124_192215-53fev5su\u001b[0m\n",
      "\u001b[34m\u001b[1mwandb\u001b[0m: Run \u001b[1m`wandb offline`\u001b[0m to turn off syncing.\n",
      "\u001b[34m\u001b[1mwandb\u001b[0m: Syncing run \u001b[33mbrisk-shape-2\u001b[0m\n",
      "\u001b[34m\u001b[1mwandb\u001b[0m: ⭐️ View project at \u001b[34m\u001b[4mhttps://wandb.ai/dr-farrukh89-namal-university/urdu-emotion-detection\u001b[0m\n",
      "\u001b[34m\u001b[1mwandb\u001b[0m: 🚀 View run at \u001b[34m\u001b[4mhttps://wandb.ai/dr-farrukh89-namal-university/urdu-emotion-detection/runs/53fev5su\u001b[0m\n",
      "Training Epoch 1/100: 100%|██████████| 20/20 [00:03<00:00,  5.99it/s, loss=1.0342, acc=59.69%]\n"
     ]
    },
    {
     "name": "stdout",
     "output_type": "stream",
     "text": [
      "\n",
      "Running validation...\n"
     ]
    },
    {
     "name": "stderr",
     "output_type": "stream",
     "text": [
      "Validation Epoch 1/100: 100%|██████████| 5/5 [00:00<00:00,  6.11it/s, loss=0.0481, acc=68.75%]\n"
     ]
    },
    {
     "name": "stdout",
     "output_type": "stream",
     "text": [
      "\n",
      "Epoch 1/100 Summary:\n",
      "Training    - Loss: 1.0342, Accuracy: 59.69%\n",
      "Validation  - Loss: 0.7697, Accuracy: 68.75%\n",
      "New best model saved! (Val Loss: 0.7697)\n",
      "Learning rate: 0.000100\n",
      "--------------------------------------------------------------------------------\n"
     ]
    },
    {
     "name": "stderr",
     "output_type": "stream",
     "text": [
      "Training Epoch 2/100: 100%|██████████| 20/20 [00:03<00:00,  6.12it/s, loss=0.6390, acc=75.94%]\n"
     ]
    },
    {
     "name": "stdout",
     "output_type": "stream",
     "text": [
      "\n",
      "Running validation...\n"
     ]
    },
    {
     "name": "stderr",
     "output_type": "stream",
     "text": [
      "Validation Epoch 2/100: 100%|██████████| 5/5 [00:00<00:00,  6.31it/s, loss=0.0394, acc=78.75%]\n"
     ]
    },
    {
     "name": "stdout",
     "output_type": "stream",
     "text": [
      "\n",
      "Epoch 2/100 Summary:\n",
      "Training    - Loss: 0.6390, Accuracy: 75.94%\n",
      "Validation  - Loss: 0.6300, Accuracy: 78.75%\n",
      "New best model saved! (Val Loss: 0.6300)\n",
      "Learning rate: 0.000100\n",
      "--------------------------------------------------------------------------------\n"
     ]
    },
    {
     "name": "stderr",
     "output_type": "stream",
     "text": [
      "Training Epoch 3/100: 100%|██████████| 20/20 [00:03<00:00,  5.93it/s, loss=0.4956, acc=80.31%]\n"
     ]
    },
    {
     "name": "stdout",
     "output_type": "stream",
     "text": [
      "\n",
      "Running validation...\n"
     ]
    },
    {
     "name": "stderr",
     "output_type": "stream",
     "text": [
      "Validation Epoch 3/100: 100%|██████████| 5/5 [00:00<00:00,  6.14it/s, loss=0.0345, acc=75.00%]\n"
     ]
    },
    {
     "name": "stdout",
     "output_type": "stream",
     "text": [
      "\n",
      "Epoch 3/100 Summary:\n",
      "Training    - Loss: 0.4956, Accuracy: 80.31%\n",
      "Validation  - Loss: 0.5527, Accuracy: 75.00%\n",
      "New best model saved! (Val Loss: 0.5527)\n",
      "Learning rate: 0.000100\n",
      "--------------------------------------------------------------------------------\n"
     ]
    },
    {
     "name": "stderr",
     "output_type": "stream",
     "text": [
      "Training Epoch 4/100: 100%|██████████| 20/20 [00:03<00:00,  5.68it/s, loss=0.4203, acc=85.62%]\n"
     ]
    },
    {
     "name": "stdout",
     "output_type": "stream",
     "text": [
      "\n",
      "Running validation...\n"
     ]
    },
    {
     "name": "stderr",
     "output_type": "stream",
     "text": [
      "Validation Epoch 4/100: 100%|██████████| 5/5 [00:00<00:00,  6.44it/s, loss=0.0225, acc=85.00%]\n"
     ]
    },
    {
     "name": "stdout",
     "output_type": "stream",
     "text": [
      "\n",
      "Epoch 4/100 Summary:\n",
      "Training    - Loss: 0.4203, Accuracy: 85.62%\n",
      "Validation  - Loss: 0.3606, Accuracy: 85.00%\n",
      "New best model saved! (Val Loss: 0.3606)\n",
      "Learning rate: 0.000100\n",
      "--------------------------------------------------------------------------------\n"
     ]
    },
    {
     "name": "stderr",
     "output_type": "stream",
     "text": [
      "Training Epoch 5/100: 100%|██████████| 20/20 [00:03<00:00,  5.90it/s, loss=0.2792, acc=91.25%]\n"
     ]
    },
    {
     "name": "stdout",
     "output_type": "stream",
     "text": [
      "\n",
      "Running validation...\n"
     ]
    },
    {
     "name": "stderr",
     "output_type": "stream",
     "text": [
      "Validation Epoch 5/100: 100%|██████████| 5/5 [00:00<00:00,  6.24it/s, loss=0.0200, acc=85.00%]\n"
     ]
    },
    {
     "name": "stdout",
     "output_type": "stream",
     "text": [
      "\n",
      "Epoch 5/100 Summary:\n",
      "Training    - Loss: 0.2792, Accuracy: 91.25%\n",
      "Validation  - Loss: 0.3205, Accuracy: 85.00%\n",
      "New best model saved! (Val Loss: 0.3205)\n",
      "Checkpoint saved for epoch 5\n",
      "Learning rate: 0.000099\n",
      "--------------------------------------------------------------------------------\n"
     ]
    },
    {
     "name": "stderr",
     "output_type": "stream",
     "text": [
      "Training Epoch 6/100: 100%|██████████| 20/20 [00:03<00:00,  5.70it/s, loss=0.2177, acc=93.44%]\n"
     ]
    },
    {
     "name": "stdout",
     "output_type": "stream",
     "text": [
      "\n",
      "Running validation...\n"
     ]
    },
    {
     "name": "stderr",
     "output_type": "stream",
     "text": [
      "Validation Epoch 6/100: 100%|██████████| 5/5 [00:00<00:00,  5.99it/s, loss=0.0148, acc=91.25%]\n"
     ]
    },
    {
     "name": "stdout",
     "output_type": "stream",
     "text": [
      "\n",
      "Epoch 6/100 Summary:\n",
      "Training    - Loss: 0.2177, Accuracy: 93.44%\n",
      "Validation  - Loss: 0.2365, Accuracy: 91.25%\n",
      "New best model saved! (Val Loss: 0.2365)\n",
      "Learning rate: 0.000099\n",
      "--------------------------------------------------------------------------------\n"
     ]
    },
    {
     "name": "stderr",
     "output_type": "stream",
     "text": [
      "Training Epoch 7/100: 100%|██████████| 20/20 [00:03<00:00,  5.92it/s, loss=0.1618, acc=95.00%]\n"
     ]
    },
    {
     "name": "stdout",
     "output_type": "stream",
     "text": [
      "\n",
      "Running validation...\n"
     ]
    },
    {
     "name": "stderr",
     "output_type": "stream",
     "text": [
      "Validation Epoch 7/100: 100%|██████████| 5/5 [00:00<00:00,  6.47it/s, loss=0.0147, acc=87.50%]\n"
     ]
    },
    {
     "name": "stdout",
     "output_type": "stream",
     "text": [
      "\n",
      "Epoch 7/100 Summary:\n",
      "Training    - Loss: 0.1618, Accuracy: 95.00%\n",
      "Validation  - Loss: 0.2346, Accuracy: 87.50%\n",
      "New best model saved! (Val Loss: 0.2346)\n",
      "Learning rate: 0.000099\n",
      "--------------------------------------------------------------------------------\n"
     ]
    },
    {
     "name": "stderr",
     "output_type": "stream",
     "text": [
      "Training Epoch 8/100: 100%|██████████| 20/20 [00:03<00:00,  5.82it/s, loss=0.1538, acc=94.38%]\n"
     ]
    },
    {
     "name": "stdout",
     "output_type": "stream",
     "text": [
      "\n",
      "Running validation...\n"
     ]
    },
    {
     "name": "stderr",
     "output_type": "stream",
     "text": [
      "Validation Epoch 8/100: 100%|██████████| 5/5 [00:00<00:00,  6.50it/s, loss=0.0109, acc=93.75%]\n"
     ]
    },
    {
     "name": "stdout",
     "output_type": "stream",
     "text": [
      "\n",
      "Epoch 8/100 Summary:\n",
      "Training    - Loss: 0.1538, Accuracy: 94.38%\n",
      "Validation  - Loss: 0.1750, Accuracy: 93.75%\n",
      "New best model saved! (Val Loss: 0.1750)\n",
      "Learning rate: 0.000098\n",
      "--------------------------------------------------------------------------------\n"
     ]
    },
    {
     "name": "stderr",
     "output_type": "stream",
     "text": [
      "Training Epoch 9/100: 100%|██████████| 20/20 [00:03<00:00,  5.81it/s, loss=0.0870, acc=97.19%]\n"
     ]
    },
    {
     "name": "stdout",
     "output_type": "stream",
     "text": [
      "\n",
      "Running validation...\n"
     ]
    },
    {
     "name": "stderr",
     "output_type": "stream",
     "text": [
      "Validation Epoch 9/100: 100%|██████████| 5/5 [00:00<00:00,  6.33it/s, loss=0.0120, acc=92.50%]\n"
     ]
    },
    {
     "name": "stdout",
     "output_type": "stream",
     "text": [
      "\n",
      "Epoch 9/100 Summary:\n",
      "Training    - Loss: 0.0870, Accuracy: 97.19%\n",
      "Validation  - Loss: 0.1915, Accuracy: 92.50%\n",
      "Learning rate: 0.000098\n",
      "--------------------------------------------------------------------------------\n"
     ]
    },
    {
     "name": "stderr",
     "output_type": "stream",
     "text": [
      "Training Epoch 10/100: 100%|██████████| 20/20 [00:03<00:00,  5.83it/s, loss=0.1563, acc=94.69%]\n"
     ]
    },
    {
     "name": "stdout",
     "output_type": "stream",
     "text": [
      "\n",
      "Running validation...\n"
     ]
    },
    {
     "name": "stderr",
     "output_type": "stream",
     "text": [
      "Validation Epoch 10/100: 100%|██████████| 5/5 [00:00<00:00,  6.09it/s, loss=0.0127, acc=95.00%]\n"
     ]
    },
    {
     "name": "stdout",
     "output_type": "stream",
     "text": [
      "\n",
      "Epoch 10/100 Summary:\n",
      "Training    - Loss: 0.1563, Accuracy: 94.69%\n",
      "Validation  - Loss: 0.2032, Accuracy: 95.00%\n",
      "Checkpoint saved for epoch 10\n",
      "Learning rate: 0.000098\n",
      "--------------------------------------------------------------------------------\n"
     ]
    },
    {
     "name": "stderr",
     "output_type": "stream",
     "text": [
      "Training Epoch 11/100: 100%|██████████| 20/20 [00:03<00:00,  5.84it/s, loss=0.0687, acc=97.50%]\n"
     ]
    },
    {
     "name": "stdout",
     "output_type": "stream",
     "text": [
      "\n",
      "Running validation...\n"
     ]
    },
    {
     "name": "stderr",
     "output_type": "stream",
     "text": [
      "Validation Epoch 11/100: 100%|██████████| 5/5 [00:00<00:00,  6.34it/s, loss=0.0188, acc=90.00%]\n"
     ]
    },
    {
     "name": "stdout",
     "output_type": "stream",
     "text": [
      "\n",
      "Epoch 11/100 Summary:\n",
      "Training    - Loss: 0.0687, Accuracy: 97.50%\n",
      "Validation  - Loss: 0.3013, Accuracy: 90.00%\n",
      "Learning rate: 0.000097\n",
      "--------------------------------------------------------------------------------\n"
     ]
    },
    {
     "name": "stderr",
     "output_type": "stream",
     "text": [
      "Training Epoch 12/100: 100%|██████████| 20/20 [00:03<00:00,  5.88it/s, loss=0.0446, acc=99.06%]\n"
     ]
    },
    {
     "name": "stdout",
     "output_type": "stream",
     "text": [
      "\n",
      "Running validation...\n"
     ]
    },
    {
     "name": "stderr",
     "output_type": "stream",
     "text": [
      "Validation Epoch 12/100: 100%|██████████| 5/5 [00:00<00:00,  6.36it/s, loss=0.0136, acc=95.00%]\n"
     ]
    },
    {
     "name": "stdout",
     "output_type": "stream",
     "text": [
      "\n",
      "Epoch 12/100 Summary:\n",
      "Training    - Loss: 0.0446, Accuracy: 99.06%\n",
      "Validation  - Loss: 0.2181, Accuracy: 95.00%\n",
      "Learning rate: 0.000096\n",
      "--------------------------------------------------------------------------------\n"
     ]
    },
    {
     "name": "stderr",
     "output_type": "stream",
     "text": [
      "Training Epoch 13/100: 100%|██████████| 20/20 [00:03<00:00,  5.49it/s, loss=0.0471, acc=98.44%]\n"
     ]
    },
    {
     "name": "stdout",
     "output_type": "stream",
     "text": [
      "\n",
      "Running validation...\n"
     ]
    },
    {
     "name": "stderr",
     "output_type": "stream",
     "text": [
      "Validation Epoch 13/100: 100%|██████████| 5/5 [00:00<00:00,  5.17it/s, loss=0.0182, acc=90.00%]\n"
     ]
    },
    {
     "name": "stdout",
     "output_type": "stream",
     "text": [
      "\n",
      "Epoch 13/100 Summary:\n",
      "Training    - Loss: 0.0471, Accuracy: 98.44%\n",
      "Validation  - Loss: 0.2915, Accuracy: 90.00%\n",
      "Learning rate: 0.000096\n",
      "--------------------------------------------------------------------------------\n"
     ]
    },
    {
     "name": "stderr",
     "output_type": "stream",
     "text": [
      "Training Epoch 14/100: 100%|██████████| 20/20 [00:03<00:00,  5.63it/s, loss=0.0449, acc=99.38%]\n"
     ]
    },
    {
     "name": "stdout",
     "output_type": "stream",
     "text": [
      "\n",
      "Running validation...\n"
     ]
    },
    {
     "name": "stderr",
     "output_type": "stream",
     "text": [
      "Validation Epoch 14/100: 100%|██████████| 5/5 [00:00<00:00,  6.32it/s, loss=0.0222, acc=90.00%]\n"
     ]
    },
    {
     "name": "stdout",
     "output_type": "stream",
     "text": [
      "\n",
      "Epoch 14/100 Summary:\n",
      "Training    - Loss: 0.0449, Accuracy: 99.38%\n",
      "Validation  - Loss: 0.3556, Accuracy: 90.00%\n",
      "Learning rate: 0.000095\n",
      "--------------------------------------------------------------------------------\n"
     ]
    },
    {
     "name": "stderr",
     "output_type": "stream",
     "text": [
      "Training Epoch 15/100: 100%|██████████| 20/20 [00:03<00:00,  5.66it/s, loss=0.0938, acc=96.88%]\n"
     ]
    },
    {
     "name": "stdout",
     "output_type": "stream",
     "text": [
      "\n",
      "Running validation...\n"
     ]
    },
    {
     "name": "stderr",
     "output_type": "stream",
     "text": [
      "Validation Epoch 15/100: 100%|██████████| 5/5 [00:00<00:00,  6.31it/s, loss=0.0239, acc=86.25%]\n"
     ]
    },
    {
     "name": "stdout",
     "output_type": "stream",
     "text": [
      "\n",
      "Epoch 15/100 Summary:\n",
      "Training    - Loss: 0.0938, Accuracy: 96.88%\n",
      "Validation  - Loss: 0.3825, Accuracy: 86.25%\n",
      "Checkpoint saved for epoch 15\n",
      "Learning rate: 0.000095\n",
      "--------------------------------------------------------------------------------\n"
     ]
    },
    {
     "name": "stderr",
     "output_type": "stream",
     "text": [
      "Training Epoch 16/100: 100%|██████████| 20/20 [00:03<00:00,  5.71it/s, loss=0.1638, acc=93.44%]\n"
     ]
    },
    {
     "name": "stdout",
     "output_type": "stream",
     "text": [
      "\n",
      "Running validation...\n"
     ]
    },
    {
     "name": "stderr",
     "output_type": "stream",
     "text": [
      "Validation Epoch 16/100: 100%|██████████| 5/5 [00:00<00:00,  6.41it/s, loss=0.0292, acc=86.25%]\n"
     ]
    },
    {
     "name": "stdout",
     "output_type": "stream",
     "text": [
      "\n",
      "Epoch 16/100 Summary:\n",
      "Training    - Loss: 0.1638, Accuracy: 93.44%\n",
      "Validation  - Loss: 0.4669, Accuracy: 86.25%\n",
      "Learning rate: 0.000094\n",
      "--------------------------------------------------------------------------------\n"
     ]
    },
    {
     "name": "stderr",
     "output_type": "stream",
     "text": [
      "Training Epoch 17/100: 100%|██████████| 20/20 [00:03<00:00,  5.70it/s, loss=0.2074, acc=93.12%]\n"
     ]
    },
    {
     "name": "stdout",
     "output_type": "stream",
     "text": [
      "\n",
      "Running validation...\n"
     ]
    },
    {
     "name": "stderr",
     "output_type": "stream",
     "text": [
      "Validation Epoch 17/100: 100%|██████████| 5/5 [00:00<00:00,  6.22it/s, loss=0.0170, acc=90.00%]\n"
     ]
    },
    {
     "name": "stdout",
     "output_type": "stream",
     "text": [
      "\n",
      "Epoch 17/100 Summary:\n",
      "Training    - Loss: 0.2074, Accuracy: 93.12%\n",
      "Validation  - Loss: 0.2726, Accuracy: 90.00%\n",
      "Learning rate: 0.000093\n",
      "--------------------------------------------------------------------------------\n"
     ]
    },
    {
     "name": "stderr",
     "output_type": "stream",
     "text": [
      "Training Epoch 18/100: 100%|██████████| 20/20 [00:03<00:00,  5.65it/s, loss=0.0648, acc=98.12%]\n"
     ]
    },
    {
     "name": "stdout",
     "output_type": "stream",
     "text": [
      "\n",
      "Running validation...\n"
     ]
    },
    {
     "name": "stderr",
     "output_type": "stream",
     "text": [
      "Validation Epoch 18/100: 100%|██████████| 5/5 [00:00<00:00,  6.24it/s, loss=0.0131, acc=93.75%]\n"
     ]
    },
    {
     "name": "stdout",
     "output_type": "stream",
     "text": [
      "\n",
      "Epoch 18/100 Summary:\n",
      "Training    - Loss: 0.0648, Accuracy: 98.12%\n",
      "Validation  - Loss: 0.2098, Accuracy: 93.75%\n",
      "Learning rate: 0.000092\n",
      "--------------------------------------------------------------------------------\n"
     ]
    },
    {
     "name": "stderr",
     "output_type": "stream",
     "text": [
      "Training Epoch 19/100: 100%|██████████| 20/20 [00:03<00:00,  5.59it/s, loss=0.0688, acc=98.12%]\n"
     ]
    },
    {
     "name": "stdout",
     "output_type": "stream",
     "text": [
      "\n",
      "Running validation...\n"
     ]
    },
    {
     "name": "stderr",
     "output_type": "stream",
     "text": [
      "Validation Epoch 19/100: 100%|██████████| 5/5 [00:00<00:00,  5.79it/s, loss=0.0156, acc=90.00%]\n"
     ]
    },
    {
     "name": "stdout",
     "output_type": "stream",
     "text": [
      "\n",
      "Epoch 19/100 Summary:\n",
      "Training    - Loss: 0.0688, Accuracy: 98.12%\n",
      "Validation  - Loss: 0.2498, Accuracy: 90.00%\n",
      "Learning rate: 0.000091\n",
      "--------------------------------------------------------------------------------\n"
     ]
    },
    {
     "name": "stderr",
     "output_type": "stream",
     "text": [
      "Training Epoch 20/100: 100%|██████████| 20/20 [00:03<00:00,  5.58it/s, loss=0.0421, acc=98.75%]\n"
     ]
    },
    {
     "name": "stdout",
     "output_type": "stream",
     "text": [
      "\n",
      "Running validation...\n"
     ]
    },
    {
     "name": "stderr",
     "output_type": "stream",
     "text": [
      "Validation Epoch 20/100: 100%|██████████| 5/5 [00:00<00:00,  6.41it/s, loss=0.0123, acc=93.75%]\n"
     ]
    },
    {
     "name": "stdout",
     "output_type": "stream",
     "text": [
      "\n",
      "Epoch 20/100 Summary:\n",
      "Training    - Loss: 0.0421, Accuracy: 98.75%\n",
      "Validation  - Loss: 0.1962, Accuracy: 93.75%\n",
      "Checkpoint saved for epoch 20\n",
      "Learning rate: 0.000090\n",
      "--------------------------------------------------------------------------------\n"
     ]
    },
    {
     "name": "stderr",
     "output_type": "stream",
     "text": [
      "Training Epoch 21/100: 100%|██████████| 20/20 [00:03<00:00,  5.13it/s, loss=0.0215, acc=99.38%]\n"
     ]
    },
    {
     "name": "stdout",
     "output_type": "stream",
     "text": [
      "\n",
      "Running validation...\n"
     ]
    },
    {
     "name": "stderr",
     "output_type": "stream",
     "text": [
      "Validation Epoch 21/100: 100%|██████████| 5/5 [00:00<00:00,  6.22it/s, loss=0.0177, acc=93.75%]\n"
     ]
    },
    {
     "name": "stdout",
     "output_type": "stream",
     "text": [
      "\n",
      "Epoch 21/100 Summary:\n",
      "Training    - Loss: 0.0215, Accuracy: 99.38%\n",
      "Validation  - Loss: 0.2837, Accuracy: 93.75%\n",
      "Learning rate: 0.000090\n",
      "--------------------------------------------------------------------------------\n"
     ]
    },
    {
     "name": "stderr",
     "output_type": "stream",
     "text": [
      "Training Epoch 22/100: 100%|██████████| 20/20 [00:03<00:00,  5.48it/s, loss=0.0185, acc=99.38%]\n"
     ]
    },
    {
     "name": "stdout",
     "output_type": "stream",
     "text": [
      "\n",
      "Running validation...\n"
     ]
    },
    {
     "name": "stderr",
     "output_type": "stream",
     "text": [
      "Validation Epoch 22/100: 100%|██████████| 5/5 [00:00<00:00,  6.35it/s, loss=0.0198, acc=93.75%]\n"
     ]
    },
    {
     "name": "stdout",
     "output_type": "stream",
     "text": [
      "\n",
      "Epoch 22/100 Summary:\n",
      "Training    - Loss: 0.0185, Accuracy: 99.38%\n",
      "Validation  - Loss: 0.3161, Accuracy: 93.75%\n",
      "Learning rate: 0.000089\n",
      "--------------------------------------------------------------------------------\n"
     ]
    },
    {
     "name": "stderr",
     "output_type": "stream",
     "text": [
      "Training Epoch 23/100: 100%|██████████| 20/20 [00:03<00:00,  5.56it/s, loss=0.0064, acc=100.00%]\n"
     ]
    },
    {
     "name": "stdout",
     "output_type": "stream",
     "text": [
      "\n",
      "Running validation...\n"
     ]
    },
    {
     "name": "stderr",
     "output_type": "stream",
     "text": [
      "Validation Epoch 23/100: 100%|██████████| 5/5 [00:00<00:00,  6.48it/s, loss=0.0170, acc=93.75%]\n"
     ]
    },
    {
     "name": "stdout",
     "output_type": "stream",
     "text": [
      "\n",
      "Epoch 23/100 Summary:\n",
      "Training    - Loss: 0.0064, Accuracy: 100.00%\n",
      "Validation  - Loss: 0.2715, Accuracy: 93.75%\n",
      "Learning rate: 0.000088\n",
      "--------------------------------------------------------------------------------\n"
     ]
    },
    {
     "name": "stderr",
     "output_type": "stream",
     "text": [
      "Training Epoch 24/100: 100%|██████████| 20/20 [00:03<00:00,  5.42it/s, loss=0.0633, acc=97.81%]\n"
     ]
    },
    {
     "name": "stdout",
     "output_type": "stream",
     "text": [
      "\n",
      "Running validation...\n"
     ]
    },
    {
     "name": "stderr",
     "output_type": "stream",
     "text": [
      "Validation Epoch 24/100: 100%|██████████| 5/5 [00:00<00:00,  6.25it/s, loss=0.0145, acc=93.75%]\n"
     ]
    },
    {
     "name": "stdout",
     "output_type": "stream",
     "text": [
      "\n",
      "Epoch 24/100 Summary:\n",
      "Training    - Loss: 0.0633, Accuracy: 97.81%\n",
      "Validation  - Loss: 0.2324, Accuracy: 93.75%\n",
      "Learning rate: 0.000086\n",
      "--------------------------------------------------------------------------------\n"
     ]
    },
    {
     "name": "stderr",
     "output_type": "stream",
     "text": [
      "Training Epoch 25/100: 100%|██████████| 20/20 [00:03<00:00,  5.61it/s, loss=0.0644, acc=97.50%]\n"
     ]
    },
    {
     "name": "stdout",
     "output_type": "stream",
     "text": [
      "\n",
      "Running validation...\n"
     ]
    },
    {
     "name": "stderr",
     "output_type": "stream",
     "text": [
      "Validation Epoch 25/100: 100%|██████████| 5/5 [00:00<00:00,  6.28it/s, loss=0.0154, acc=95.00%]\n"
     ]
    },
    {
     "name": "stdout",
     "output_type": "stream",
     "text": [
      "\n",
      "Epoch 25/100 Summary:\n",
      "Training    - Loss: 0.0644, Accuracy: 97.50%\n",
      "Validation  - Loss: 0.2469, Accuracy: 95.00%\n",
      "Checkpoint saved for epoch 25\n",
      "Learning rate: 0.000085\n",
      "--------------------------------------------------------------------------------\n"
     ]
    },
    {
     "name": "stderr",
     "output_type": "stream",
     "text": [
      "Training Epoch 26/100: 100%|██████████| 20/20 [00:03<00:00,  5.68it/s, loss=0.0111, acc=100.00%]\n"
     ]
    },
    {
     "name": "stdout",
     "output_type": "stream",
     "text": [
      "\n",
      "Running validation...\n"
     ]
    },
    {
     "name": "stderr",
     "output_type": "stream",
     "text": [
      "Validation Epoch 26/100: 100%|██████████| 5/5 [00:00<00:00,  6.41it/s, loss=0.0140, acc=93.75%]\n"
     ]
    },
    {
     "name": "stdout",
     "output_type": "stream",
     "text": [
      "\n",
      "Epoch 26/100 Summary:\n",
      "Training    - Loss: 0.0111, Accuracy: 100.00%\n",
      "Validation  - Loss: 0.2241, Accuracy: 93.75%\n",
      "Learning rate: 0.000084\n",
      "--------------------------------------------------------------------------------\n"
     ]
    },
    {
     "name": "stderr",
     "output_type": "stream",
     "text": [
      "Training Epoch 27/100: 100%|██████████| 20/20 [00:03<00:00,  5.66it/s, loss=0.0063, acc=100.00%]\n"
     ]
    },
    {
     "name": "stdout",
     "output_type": "stream",
     "text": [
      "\n",
      "Running validation...\n"
     ]
    },
    {
     "name": "stderr",
     "output_type": "stream",
     "text": [
      "Validation Epoch 27/100: 100%|██████████| 5/5 [00:00<00:00,  6.30it/s, loss=0.0132, acc=96.25%]\n"
     ]
    },
    {
     "name": "stdout",
     "output_type": "stream",
     "text": [
      "\n",
      "Epoch 27/100 Summary:\n",
      "Training    - Loss: 0.0063, Accuracy: 100.00%\n",
      "Validation  - Loss: 0.2116, Accuracy: 96.25%\n",
      "Learning rate: 0.000083\n",
      "--------------------------------------------------------------------------------\n"
     ]
    },
    {
     "name": "stderr",
     "output_type": "stream",
     "text": [
      "Training Epoch 28/100: 100%|██████████| 20/20 [00:03<00:00,  5.51it/s, loss=0.0047, acc=100.00%]\n"
     ]
    },
    {
     "name": "stdout",
     "output_type": "stream",
     "text": [
      "\n",
      "Running validation...\n"
     ]
    },
    {
     "name": "stderr",
     "output_type": "stream",
     "text": [
      "Validation Epoch 28/100: 100%|██████████| 5/5 [00:00<00:00,  6.10it/s, loss=0.0132, acc=96.25%]\n"
     ]
    },
    {
     "name": "stdout",
     "output_type": "stream",
     "text": [
      "\n",
      "Epoch 28/100 Summary:\n",
      "Training    - Loss: 0.0047, Accuracy: 100.00%\n",
      "Validation  - Loss: 0.2117, Accuracy: 96.25%\n",
      "Learning rate: 0.000082\n",
      "--------------------------------------------------------------------------------\n"
     ]
    },
    {
     "name": "stderr",
     "output_type": "stream",
     "text": [
      "Training Epoch 29/100: 100%|██████████| 20/20 [00:03<00:00,  5.65it/s, loss=0.0034, acc=100.00%]\n"
     ]
    },
    {
     "name": "stdout",
     "output_type": "stream",
     "text": [
      "\n",
      "Running validation...\n"
     ]
    },
    {
     "name": "stderr",
     "output_type": "stream",
     "text": [
      "Validation Epoch 29/100: 100%|██████████| 5/5 [00:00<00:00,  6.28it/s, loss=0.0125, acc=96.25%]\n"
     ]
    },
    {
     "name": "stdout",
     "output_type": "stream",
     "text": [
      "\n",
      "Epoch 29/100 Summary:\n",
      "Training    - Loss: 0.0034, Accuracy: 100.00%\n",
      "Validation  - Loss: 0.2004, Accuracy: 96.25%\n",
      "Learning rate: 0.000081\n",
      "--------------------------------------------------------------------------------\n"
     ]
    },
    {
     "name": "stderr",
     "output_type": "stream",
     "text": [
      "Training Epoch 30/100: 100%|██████████| 20/20 [00:03<00:00,  5.67it/s, loss=0.0027, acc=100.00%]\n"
     ]
    },
    {
     "name": "stdout",
     "output_type": "stream",
     "text": [
      "\n",
      "Running validation...\n"
     ]
    },
    {
     "name": "stderr",
     "output_type": "stream",
     "text": [
      "Validation Epoch 30/100: 100%|██████████| 5/5 [00:00<00:00,  6.31it/s, loss=0.0128, acc=96.25%]\n"
     ]
    },
    {
     "name": "stdout",
     "output_type": "stream",
     "text": [
      "\n",
      "Epoch 30/100 Summary:\n",
      "Training    - Loss: 0.0027, Accuracy: 100.00%\n",
      "Validation  - Loss: 0.2049, Accuracy: 96.25%\n",
      "Checkpoint saved for epoch 30\n",
      "Learning rate: 0.000079\n",
      "--------------------------------------------------------------------------------\n"
     ]
    },
    {
     "name": "stderr",
     "output_type": "stream",
     "text": [
      "Training Epoch 31/100: 100%|██████████| 20/20 [00:03<00:00,  5.64it/s, loss=0.0024, acc=100.00%]\n"
     ]
    },
    {
     "name": "stdout",
     "output_type": "stream",
     "text": [
      "\n",
      "Running validation...\n"
     ]
    },
    {
     "name": "stderr",
     "output_type": "stream",
     "text": [
      "Validation Epoch 31/100: 100%|██████████| 5/5 [00:00<00:00,  6.45it/s, loss=0.0129, acc=96.25%]\n"
     ]
    },
    {
     "name": "stdout",
     "output_type": "stream",
     "text": [
      "\n",
      "Epoch 31/100 Summary:\n",
      "Training    - Loss: 0.0024, Accuracy: 100.00%\n",
      "Validation  - Loss: 0.2070, Accuracy: 96.25%\n",
      "Learning rate: 0.000078\n",
      "--------------------------------------------------------------------------------\n"
     ]
    },
    {
     "name": "stderr",
     "output_type": "stream",
     "text": [
      "Training Epoch 32/100: 100%|██████████| 20/20 [00:03<00:00,  5.67it/s, loss=0.0031, acc=100.00%]\n"
     ]
    },
    {
     "name": "stdout",
     "output_type": "stream",
     "text": [
      "\n",
      "Running validation...\n"
     ]
    },
    {
     "name": "stderr",
     "output_type": "stream",
     "text": [
      "Validation Epoch 32/100: 100%|██████████| 5/5 [00:00<00:00,  6.32it/s, loss=0.0124, acc=95.00%]\n"
     ]
    },
    {
     "name": "stdout",
     "output_type": "stream",
     "text": [
      "\n",
      "Epoch 32/100 Summary:\n",
      "Training    - Loss: 0.0031, Accuracy: 100.00%\n",
      "Validation  - Loss: 0.1989, Accuracy: 95.00%\n",
      "Learning rate: 0.000077\n",
      "--------------------------------------------------------------------------------\n"
     ]
    },
    {
     "name": "stderr",
     "output_type": "stream",
     "text": [
      "Training Epoch 33/100: 100%|██████████| 20/20 [00:03<00:00,  5.64it/s, loss=0.0028, acc=100.00%]\n"
     ]
    },
    {
     "name": "stdout",
     "output_type": "stream",
     "text": [
      "\n",
      "Running validation...\n"
     ]
    },
    {
     "name": "stderr",
     "output_type": "stream",
     "text": [
      "Validation Epoch 33/100: 100%|██████████| 5/5 [00:00<00:00,  6.31it/s, loss=0.0116, acc=97.50%]\n"
     ]
    },
    {
     "name": "stdout",
     "output_type": "stream",
     "text": [
      "\n",
      "Epoch 33/100 Summary:\n",
      "Training    - Loss: 0.0028, Accuracy: 100.00%\n",
      "Validation  - Loss: 0.1850, Accuracy: 97.50%\n",
      "Learning rate: 0.000075\n",
      "--------------------------------------------------------------------------------\n"
     ]
    },
    {
     "name": "stderr",
     "output_type": "stream",
     "text": [
      "Training Epoch 34/100: 100%|██████████| 20/20 [00:03<00:00,  5.75it/s, loss=0.0029, acc=100.00%]\n"
     ]
    },
    {
     "name": "stdout",
     "output_type": "stream",
     "text": [
      "\n",
      "Running validation...\n"
     ]
    },
    {
     "name": "stderr",
     "output_type": "stream",
     "text": [
      "Validation Epoch 34/100: 100%|██████████| 5/5 [00:00<00:00,  6.23it/s, loss=0.0121, acc=96.25%]\n"
     ]
    },
    {
     "name": "stdout",
     "output_type": "stream",
     "text": [
      "\n",
      "Epoch 34/100 Summary:\n",
      "Training    - Loss: 0.0029, Accuracy: 100.00%\n",
      "Validation  - Loss: 0.1929, Accuracy: 96.25%\n",
      "Learning rate: 0.000074\n",
      "--------------------------------------------------------------------------------\n"
     ]
    },
    {
     "name": "stderr",
     "output_type": "stream",
     "text": [
      "Training Epoch 35/100: 100%|██████████| 20/20 [00:03<00:00,  5.71it/s, loss=0.0019, acc=100.00%]\n"
     ]
    },
    {
     "name": "stdout",
     "output_type": "stream",
     "text": [
      "\n",
      "Running validation...\n"
     ]
    },
    {
     "name": "stderr",
     "output_type": "stream",
     "text": [
      "Validation Epoch 35/100: 100%|██████████| 5/5 [00:01<00:00,  4.99it/s, loss=0.0124, acc=95.00%]\n"
     ]
    },
    {
     "name": "stdout",
     "output_type": "stream",
     "text": [
      "\n",
      "Epoch 35/100 Summary:\n",
      "Training    - Loss: 0.0019, Accuracy: 100.00%\n",
      "Validation  - Loss: 0.1985, Accuracy: 95.00%\n",
      "Checkpoint saved for epoch 35\n",
      "Learning rate: 0.000073\n",
      "--------------------------------------------------------------------------------\n"
     ]
    },
    {
     "name": "stderr",
     "output_type": "stream",
     "text": [
      "Training Epoch 36/100: 100%|██████████| 20/20 [00:03<00:00,  5.69it/s, loss=0.0018, acc=100.00%]\n"
     ]
    },
    {
     "name": "stdout",
     "output_type": "stream",
     "text": [
      "\n",
      "Running validation...\n"
     ]
    },
    {
     "name": "stderr",
     "output_type": "stream",
     "text": [
      "Validation Epoch 36/100: 100%|██████████| 5/5 [00:00<00:00,  6.27it/s, loss=0.0120, acc=96.25%]\n"
     ]
    },
    {
     "name": "stdout",
     "output_type": "stream",
     "text": [
      "\n",
      "Epoch 36/100 Summary:\n",
      "Training    - Loss: 0.0018, Accuracy: 100.00%\n",
      "Validation  - Loss: 0.1918, Accuracy: 96.25%\n",
      "Learning rate: 0.000071\n",
      "--------------------------------------------------------------------------------\n"
     ]
    },
    {
     "name": "stderr",
     "output_type": "stream",
     "text": [
      "Training Epoch 37/100: 100%|██████████| 20/20 [00:03<00:00,  5.64it/s, loss=0.0019, acc=100.00%]\n"
     ]
    },
    {
     "name": "stdout",
     "output_type": "stream",
     "text": [
      "\n",
      "Running validation...\n"
     ]
    },
    {
     "name": "stderr",
     "output_type": "stream",
     "text": [
      "Validation Epoch 37/100: 100%|██████████| 5/5 [00:00<00:00,  5.63it/s, loss=0.0121, acc=96.25%]\n"
     ]
    },
    {
     "name": "stdout",
     "output_type": "stream",
     "text": [
      "\n",
      "Epoch 37/100 Summary:\n",
      "Training    - Loss: 0.0019, Accuracy: 100.00%\n",
      "Validation  - Loss: 0.1941, Accuracy: 96.25%\n",
      "Learning rate: 0.000070\n",
      "--------------------------------------------------------------------------------\n"
     ]
    },
    {
     "name": "stderr",
     "output_type": "stream",
     "text": [
      "Training Epoch 38/100: 100%|██████████| 20/20 [00:03<00:00,  5.71it/s, loss=0.0017, acc=100.00%]\n"
     ]
    },
    {
     "name": "stdout",
     "output_type": "stream",
     "text": [
      "\n",
      "Running validation...\n"
     ]
    },
    {
     "name": "stderr",
     "output_type": "stream",
     "text": [
      "Validation Epoch 38/100: 100%|██████████| 5/5 [00:00<00:00,  6.21it/s, loss=0.0120, acc=95.00%]\n"
     ]
    },
    {
     "name": "stdout",
     "output_type": "stream",
     "text": [
      "\n",
      "Epoch 38/100 Summary:\n",
      "Training    - Loss: 0.0017, Accuracy: 100.00%\n",
      "Validation  - Loss: 0.1918, Accuracy: 95.00%\n",
      "Learning rate: 0.000068\n",
      "--------------------------------------------------------------------------------\n"
     ]
    },
    {
     "name": "stderr",
     "output_type": "stream",
     "text": [
      "Training Epoch 39/100: 100%|██████████| 20/20 [00:03<00:00,  5.61it/s, loss=0.0015, acc=100.00%]\n"
     ]
    },
    {
     "name": "stdout",
     "output_type": "stream",
     "text": [
      "\n",
      "Running validation...\n"
     ]
    },
    {
     "name": "stderr",
     "output_type": "stream",
     "text": [
      "Validation Epoch 39/100: 100%|██████████| 5/5 [00:00<00:00,  6.41it/s, loss=0.0122, acc=95.00%]\n"
     ]
    },
    {
     "name": "stdout",
     "output_type": "stream",
     "text": [
      "\n",
      "Epoch 39/100 Summary:\n",
      "Training    - Loss: 0.0015, Accuracy: 100.00%\n",
      "Validation  - Loss: 0.1954, Accuracy: 95.00%\n",
      "Learning rate: 0.000067\n",
      "--------------------------------------------------------------------------------\n"
     ]
    },
    {
     "name": "stderr",
     "output_type": "stream",
     "text": [
      "Training Epoch 40/100: 100%|██████████| 20/20 [00:03<00:00,  5.55it/s, loss=0.0015, acc=100.00%]\n"
     ]
    },
    {
     "name": "stdout",
     "output_type": "stream",
     "text": [
      "\n",
      "Running validation...\n"
     ]
    },
    {
     "name": "stderr",
     "output_type": "stream",
     "text": [
      "Validation Epoch 40/100: 100%|██████████| 5/5 [00:00<00:00,  6.22it/s, loss=0.0119, acc=95.00%]\n"
     ]
    },
    {
     "name": "stdout",
     "output_type": "stream",
     "text": [
      "\n",
      "Epoch 40/100 Summary:\n",
      "Training    - Loss: 0.0015, Accuracy: 100.00%\n",
      "Validation  - Loss: 0.1912, Accuracy: 95.00%\n",
      "Checkpoint saved for epoch 40\n",
      "Learning rate: 0.000065\n",
      "--------------------------------------------------------------------------------\n"
     ]
    },
    {
     "name": "stderr",
     "output_type": "stream",
     "text": [
      "Training Epoch 41/100: 100%|██████████| 20/20 [00:03<00:00,  5.69it/s, loss=0.0014, acc=100.00%]\n"
     ]
    },
    {
     "name": "stdout",
     "output_type": "stream",
     "text": [
      "\n",
      "Running validation...\n"
     ]
    },
    {
     "name": "stderr",
     "output_type": "stream",
     "text": [
      "Validation Epoch 41/100: 100%|██████████| 5/5 [00:00<00:00,  6.37it/s, loss=0.0121, acc=95.00%]\n"
     ]
    },
    {
     "name": "stdout",
     "output_type": "stream",
     "text": [
      "\n",
      "Epoch 41/100 Summary:\n",
      "Training    - Loss: 0.0014, Accuracy: 100.00%\n",
      "Validation  - Loss: 0.1931, Accuracy: 95.00%\n",
      "Learning rate: 0.000064\n",
      "--------------------------------------------------------------------------------\n"
     ]
    },
    {
     "name": "stderr",
     "output_type": "stream",
     "text": [
      "Training Epoch 42/100: 100%|██████████| 20/20 [00:03<00:00,  5.60it/s, loss=0.0013, acc=100.00%]\n"
     ]
    },
    {
     "name": "stdout",
     "output_type": "stream",
     "text": [
      "\n",
      "Running validation...\n"
     ]
    },
    {
     "name": "stderr",
     "output_type": "stream",
     "text": [
      "Validation Epoch 42/100: 100%|██████████| 5/5 [00:00<00:00,  5.85it/s, loss=0.0124, acc=96.25%]\n"
     ]
    },
    {
     "name": "stdout",
     "output_type": "stream",
     "text": [
      "\n",
      "Epoch 42/100 Summary:\n",
      "Training    - Loss: 0.0013, Accuracy: 100.00%\n",
      "Validation  - Loss: 0.1992, Accuracy: 96.25%\n",
      "Learning rate: 0.000062\n",
      "--------------------------------------------------------------------------------\n"
     ]
    },
    {
     "name": "stderr",
     "output_type": "stream",
     "text": [
      "Training Epoch 43/100: 100%|██████████| 20/20 [00:03<00:00,  5.18it/s, loss=0.0013, acc=100.00%]\n"
     ]
    },
    {
     "name": "stdout",
     "output_type": "stream",
     "text": [
      "\n",
      "Running validation...\n"
     ]
    },
    {
     "name": "stderr",
     "output_type": "stream",
     "text": [
      "Validation Epoch 43/100: 100%|██████████| 5/5 [00:00<00:00,  6.39it/s, loss=0.0125, acc=96.25%]\n"
     ]
    },
    {
     "name": "stdout",
     "output_type": "stream",
     "text": [
      "\n",
      "Epoch 43/100 Summary:\n",
      "Training    - Loss: 0.0013, Accuracy: 100.00%\n",
      "Validation  - Loss: 0.1999, Accuracy: 96.25%\n",
      "Learning rate: 0.000061\n",
      "--------------------------------------------------------------------------------\n"
     ]
    },
    {
     "name": "stderr",
     "output_type": "stream",
     "text": [
      "Training Epoch 44/100: 100%|██████████| 20/20 [00:03<00:00,  5.68it/s, loss=0.0013, acc=100.00%]\n"
     ]
    },
    {
     "name": "stdout",
     "output_type": "stream",
     "text": [
      "\n",
      "Running validation...\n"
     ]
    },
    {
     "name": "stderr",
     "output_type": "stream",
     "text": [
      "Validation Epoch 44/100: 100%|██████████| 5/5 [00:00<00:00,  6.43it/s, loss=0.0124, acc=96.25%]\n"
     ]
    },
    {
     "name": "stdout",
     "output_type": "stream",
     "text": [
      "\n",
      "Epoch 44/100 Summary:\n",
      "Training    - Loss: 0.0013, Accuracy: 100.00%\n",
      "Validation  - Loss: 0.1985, Accuracy: 96.25%\n",
      "Learning rate: 0.000059\n",
      "--------------------------------------------------------------------------------\n"
     ]
    },
    {
     "name": "stderr",
     "output_type": "stream",
     "text": [
      "Training Epoch 45/100: 100%|██████████| 20/20 [00:03<00:00,  5.61it/s, loss=0.0012, acc=100.00%]\n"
     ]
    },
    {
     "name": "stdout",
     "output_type": "stream",
     "text": [
      "\n",
      "Running validation...\n"
     ]
    },
    {
     "name": "stderr",
     "output_type": "stream",
     "text": [
      "Validation Epoch 45/100: 100%|██████████| 5/5 [00:00<00:00,  6.51it/s, loss=0.0124, acc=96.25%]\n"
     ]
    },
    {
     "name": "stdout",
     "output_type": "stream",
     "text": [
      "\n",
      "Epoch 45/100 Summary:\n",
      "Training    - Loss: 0.0012, Accuracy: 100.00%\n",
      "Validation  - Loss: 0.1976, Accuracy: 96.25%\n",
      "Checkpoint saved for epoch 45\n",
      "Learning rate: 0.000058\n",
      "--------------------------------------------------------------------------------\n"
     ]
    },
    {
     "name": "stderr",
     "output_type": "stream",
     "text": [
      "Training Epoch 46/100: 100%|██████████| 20/20 [00:03<00:00,  5.64it/s, loss=0.0012, acc=100.00%]\n"
     ]
    },
    {
     "name": "stdout",
     "output_type": "stream",
     "text": [
      "\n",
      "Running validation...\n"
     ]
    },
    {
     "name": "stderr",
     "output_type": "stream",
     "text": [
      "Validation Epoch 46/100: 100%|██████████| 5/5 [00:00<00:00,  5.67it/s, loss=0.0124, acc=96.25%]\n"
     ]
    },
    {
     "name": "stdout",
     "output_type": "stream",
     "text": [
      "\n",
      "Epoch 46/100 Summary:\n",
      "Training    - Loss: 0.0012, Accuracy: 100.00%\n",
      "Validation  - Loss: 0.1992, Accuracy: 96.25%\n",
      "Learning rate: 0.000056\n",
      "--------------------------------------------------------------------------------\n"
     ]
    },
    {
     "name": "stderr",
     "output_type": "stream",
     "text": [
      "Training Epoch 47/100: 100%|██████████| 20/20 [00:03<00:00,  5.71it/s, loss=0.0013, acc=100.00%]\n"
     ]
    },
    {
     "name": "stdout",
     "output_type": "stream",
     "text": [
      "\n",
      "Running validation...\n"
     ]
    },
    {
     "name": "stderr",
     "output_type": "stream",
     "text": [
      "Validation Epoch 47/100: 100%|██████████| 5/5 [00:00<00:00,  6.22it/s, loss=0.0124, acc=96.25%]\n"
     ]
    },
    {
     "name": "stdout",
     "output_type": "stream",
     "text": [
      "\n",
      "Epoch 47/100 Summary:\n",
      "Training    - Loss: 0.0013, Accuracy: 100.00%\n",
      "Validation  - Loss: 0.1982, Accuracy: 96.25%\n",
      "Learning rate: 0.000055\n",
      "--------------------------------------------------------------------------------\n"
     ]
    },
    {
     "name": "stderr",
     "output_type": "stream",
     "text": [
      "Training Epoch 48/100: 100%|██████████| 20/20 [00:03<00:00,  5.62it/s, loss=0.0011, acc=100.00%]\n"
     ]
    },
    {
     "name": "stdout",
     "output_type": "stream",
     "text": [
      "\n",
      "Running validation...\n"
     ]
    },
    {
     "name": "stderr",
     "output_type": "stream",
     "text": [
      "Validation Epoch 48/100: 100%|██████████| 5/5 [00:00<00:00,  6.42it/s, loss=0.0130, acc=96.25%]\n"
     ]
    },
    {
     "name": "stdout",
     "output_type": "stream",
     "text": [
      "\n",
      "Epoch 48/100 Summary:\n",
      "Training    - Loss: 0.0011, Accuracy: 100.00%\n",
      "Validation  - Loss: 0.2080, Accuracy: 96.25%\n",
      "Learning rate: 0.000053\n",
      "--------------------------------------------------------------------------------\n"
     ]
    },
    {
     "name": "stderr",
     "output_type": "stream",
     "text": [
      "Training Epoch 49/100: 100%|██████████| 20/20 [00:03<00:00,  5.54it/s, loss=0.0011, acc=100.00%]\n"
     ]
    },
    {
     "name": "stdout",
     "output_type": "stream",
     "text": [
      "\n",
      "Running validation...\n"
     ]
    },
    {
     "name": "stderr",
     "output_type": "stream",
     "text": [
      "Validation Epoch 49/100: 100%|██████████| 5/5 [00:00<00:00,  6.60it/s, loss=0.0128, acc=96.25%]\n"
     ]
    },
    {
     "name": "stdout",
     "output_type": "stream",
     "text": [
      "\n",
      "Epoch 49/100 Summary:\n",
      "Training    - Loss: 0.0011, Accuracy: 100.00%\n",
      "Validation  - Loss: 0.2050, Accuracy: 96.25%\n",
      "Learning rate: 0.000052\n",
      "--------------------------------------------------------------------------------\n"
     ]
    },
    {
     "name": "stderr",
     "output_type": "stream",
     "text": [
      "Training Epoch 50/100: 100%|██████████| 20/20 [00:03<00:00,  5.27it/s, loss=0.0010, acc=100.00%]\n"
     ]
    },
    {
     "name": "stdout",
     "output_type": "stream",
     "text": [
      "\n",
      "Running validation...\n"
     ]
    },
    {
     "name": "stderr",
     "output_type": "stream",
     "text": [
      "Validation Epoch 50/100: 100%|██████████| 5/5 [00:00<00:00,  6.33it/s, loss=0.0127, acc=96.25%]\n"
     ]
    },
    {
     "name": "stdout",
     "output_type": "stream",
     "text": [
      "\n",
      "Epoch 50/100 Summary:\n",
      "Training    - Loss: 0.0010, Accuracy: 100.00%\n",
      "Validation  - Loss: 0.2029, Accuracy: 96.25%\n",
      "Checkpoint saved for epoch 50\n",
      "Learning rate: 0.000050\n",
      "--------------------------------------------------------------------------------\n"
     ]
    },
    {
     "name": "stderr",
     "output_type": "stream",
     "text": [
      "Training Epoch 51/100: 100%|██████████| 20/20 [00:03<00:00,  5.67it/s, loss=0.0010, acc=100.00%]\n"
     ]
    },
    {
     "name": "stdout",
     "output_type": "stream",
     "text": [
      "\n",
      "Running validation...\n"
     ]
    },
    {
     "name": "stderr",
     "output_type": "stream",
     "text": [
      "Validation Epoch 51/100: 100%|██████████| 5/5 [00:00<00:00,  6.40it/s, loss=0.0129, acc=96.25%]\n"
     ]
    },
    {
     "name": "stdout",
     "output_type": "stream",
     "text": [
      "\n",
      "Epoch 51/100 Summary:\n",
      "Training    - Loss: 0.0010, Accuracy: 100.00%\n",
      "Validation  - Loss: 0.2067, Accuracy: 96.25%\n",
      "Learning rate: 0.000048\n",
      "--------------------------------------------------------------------------------\n"
     ]
    },
    {
     "name": "stderr",
     "output_type": "stream",
     "text": [
      "Training Epoch 52/100: 100%|██████████| 20/20 [00:03<00:00,  5.73it/s, loss=0.0010, acc=100.00%]\n"
     ]
    },
    {
     "name": "stdout",
     "output_type": "stream",
     "text": [
      "\n",
      "Running validation...\n"
     ]
    },
    {
     "name": "stderr",
     "output_type": "stream",
     "text": [
      "Validation Epoch 52/100: 100%|██████████| 5/5 [00:00<00:00,  5.90it/s, loss=0.0135, acc=96.25%]\n"
     ]
    },
    {
     "name": "stdout",
     "output_type": "stream",
     "text": [
      "\n",
      "Epoch 52/100 Summary:\n",
      "Training    - Loss: 0.0010, Accuracy: 100.00%\n",
      "Validation  - Loss: 0.2167, Accuracy: 96.25%\n",
      "Learning rate: 0.000047\n",
      "--------------------------------------------------------------------------------\n"
     ]
    },
    {
     "name": "stderr",
     "output_type": "stream",
     "text": [
      "Training Epoch 53/100: 100%|██████████| 20/20 [00:03<00:00,  5.64it/s, loss=0.0010, acc=100.00%]\n"
     ]
    },
    {
     "name": "stdout",
     "output_type": "stream",
     "text": [
      "\n",
      "Running validation...\n"
     ]
    },
    {
     "name": "stderr",
     "output_type": "stream",
     "text": [
      "Validation Epoch 53/100: 100%|██████████| 5/5 [00:00<00:00,  6.31it/s, loss=0.0126, acc=96.25%]\n"
     ]
    },
    {
     "name": "stdout",
     "output_type": "stream",
     "text": [
      "\n",
      "Epoch 53/100 Summary:\n",
      "Training    - Loss: 0.0010, Accuracy: 100.00%\n",
      "Validation  - Loss: 0.2013, Accuracy: 96.25%\n",
      "Learning rate: 0.000045\n",
      "--------------------------------------------------------------------------------\n"
     ]
    },
    {
     "name": "stderr",
     "output_type": "stream",
     "text": [
      "Training Epoch 54/100: 100%|██████████| 20/20 [00:03<00:00,  5.70it/s, loss=0.0010, acc=100.00%]\n"
     ]
    },
    {
     "name": "stdout",
     "output_type": "stream",
     "text": [
      "\n",
      "Running validation...\n"
     ]
    },
    {
     "name": "stderr",
     "output_type": "stream",
     "text": [
      "Validation Epoch 54/100: 100%|██████████| 5/5 [00:00<00:00,  6.44it/s, loss=0.0130, acc=96.25%]\n"
     ]
    },
    {
     "name": "stdout",
     "output_type": "stream",
     "text": [
      "\n",
      "Epoch 54/100 Summary:\n",
      "Training    - Loss: 0.0010, Accuracy: 100.00%\n",
      "Validation  - Loss: 0.2076, Accuracy: 96.25%\n",
      "Learning rate: 0.000044\n",
      "--------------------------------------------------------------------------------\n"
     ]
    },
    {
     "name": "stderr",
     "output_type": "stream",
     "text": [
      "Training Epoch 55/100: 100%|██████████| 20/20 [00:03<00:00,  5.65it/s, loss=0.0009, acc=100.00%]\n"
     ]
    },
    {
     "name": "stdout",
     "output_type": "stream",
     "text": [
      "\n",
      "Running validation...\n"
     ]
    },
    {
     "name": "stderr",
     "output_type": "stream",
     "text": [
      "Validation Epoch 55/100: 100%|██████████| 5/5 [00:00<00:00,  5.90it/s, loss=0.0127, acc=96.25%]\n"
     ]
    },
    {
     "name": "stdout",
     "output_type": "stream",
     "text": [
      "\n",
      "Epoch 55/100 Summary:\n",
      "Training    - Loss: 0.0009, Accuracy: 100.00%\n",
      "Validation  - Loss: 0.2033, Accuracy: 96.25%\n",
      "Checkpoint saved for epoch 55\n",
      "Learning rate: 0.000042\n",
      "--------------------------------------------------------------------------------\n"
     ]
    },
    {
     "name": "stderr",
     "output_type": "stream",
     "text": [
      "Training Epoch 56/100: 100%|██████████| 20/20 [00:03<00:00,  5.65it/s, loss=0.0009, acc=100.00%]\n"
     ]
    },
    {
     "name": "stdout",
     "output_type": "stream",
     "text": [
      "\n",
      "Running validation...\n"
     ]
    },
    {
     "name": "stderr",
     "output_type": "stream",
     "text": [
      "Validation Epoch 56/100: 100%|██████████| 5/5 [00:00<00:00,  6.47it/s, loss=0.0126, acc=96.25%]\n"
     ]
    },
    {
     "name": "stdout",
     "output_type": "stream",
     "text": [
      "\n",
      "Epoch 56/100 Summary:\n",
      "Training    - Loss: 0.0009, Accuracy: 100.00%\n",
      "Validation  - Loss: 0.2022, Accuracy: 96.25%\n",
      "Learning rate: 0.000041\n",
      "--------------------------------------------------------------------------------\n"
     ]
    },
    {
     "name": "stderr",
     "output_type": "stream",
     "text": [
      "Training Epoch 57/100: 100%|██████████| 20/20 [00:03<00:00,  5.64it/s, loss=0.0010, acc=100.00%]\n"
     ]
    },
    {
     "name": "stdout",
     "output_type": "stream",
     "text": [
      "\n",
      "Running validation...\n"
     ]
    },
    {
     "name": "stderr",
     "output_type": "stream",
     "text": [
      "Validation Epoch 57/100: 100%|██████████| 5/5 [00:00<00:00,  5.89it/s, loss=0.0129, acc=96.25%]\n"
     ]
    },
    {
     "name": "stdout",
     "output_type": "stream",
     "text": [
      "\n",
      "Epoch 57/100 Summary:\n",
      "Training    - Loss: 0.0010, Accuracy: 100.00%\n",
      "Validation  - Loss: 0.2068, Accuracy: 96.25%\n",
      "Learning rate: 0.000039\n",
      "--------------------------------------------------------------------------------\n"
     ]
    },
    {
     "name": "stderr",
     "output_type": "stream",
     "text": [
      "Training Epoch 58/100: 100%|██████████| 20/20 [00:03<00:00,  5.65it/s, loss=0.0009, acc=100.00%]\n"
     ]
    },
    {
     "name": "stdout",
     "output_type": "stream",
     "text": [
      "\n",
      "Running validation...\n"
     ]
    },
    {
     "name": "stderr",
     "output_type": "stream",
     "text": [
      "Validation Epoch 58/100: 100%|██████████| 5/5 [00:00<00:00,  6.33it/s, loss=0.0128, acc=96.25%]\n"
     ]
    },
    {
     "name": "stdout",
     "output_type": "stream",
     "text": [
      "\n",
      "Epoch 58/100 Summary:\n",
      "Training    - Loss: 0.0009, Accuracy: 100.00%\n",
      "Validation  - Loss: 0.2046, Accuracy: 96.25%\n",
      "Learning rate: 0.000038\n",
      "--------------------------------------------------------------------------------\n"
     ]
    },
    {
     "name": "stderr",
     "output_type": "stream",
     "text": [
      "Training Epoch 59/100: 100%|██████████| 20/20 [00:03<00:00,  5.64it/s, loss=0.0009, acc=100.00%]\n"
     ]
    },
    {
     "name": "stdout",
     "output_type": "stream",
     "text": [
      "\n",
      "Running validation...\n"
     ]
    },
    {
     "name": "stderr",
     "output_type": "stream",
     "text": [
      "Validation Epoch 59/100: 100%|██████████| 5/5 [00:00<00:00,  6.37it/s, loss=0.0128, acc=96.25%]\n"
     ]
    },
    {
     "name": "stdout",
     "output_type": "stream",
     "text": [
      "\n",
      "Epoch 59/100 Summary:\n",
      "Training    - Loss: 0.0009, Accuracy: 100.00%\n",
      "Validation  - Loss: 0.2053, Accuracy: 96.25%\n",
      "Learning rate: 0.000036\n",
      "--------------------------------------------------------------------------------\n"
     ]
    },
    {
     "name": "stderr",
     "output_type": "stream",
     "text": [
      "Training Epoch 60/100: 100%|██████████| 20/20 [00:03<00:00,  5.67it/s, loss=0.0008, acc=100.00%]\n"
     ]
    },
    {
     "name": "stdout",
     "output_type": "stream",
     "text": [
      "\n",
      "Running validation...\n"
     ]
    },
    {
     "name": "stderr",
     "output_type": "stream",
     "text": [
      "Validation Epoch 60/100: 100%|██████████| 5/5 [00:00<00:00,  6.43it/s, loss=0.0127, acc=96.25%]\n"
     ]
    },
    {
     "name": "stdout",
     "output_type": "stream",
     "text": [
      "\n",
      "Epoch 60/100 Summary:\n",
      "Training    - Loss: 0.0008, Accuracy: 100.00%\n",
      "Validation  - Loss: 0.2033, Accuracy: 96.25%\n",
      "Checkpoint saved for epoch 60\n",
      "Learning rate: 0.000035\n",
      "--------------------------------------------------------------------------------\n"
     ]
    },
    {
     "name": "stderr",
     "output_type": "stream",
     "text": [
      "Training Epoch 61/100: 100%|██████████| 20/20 [00:03<00:00,  5.64it/s, loss=0.0008, acc=100.00%]\n"
     ]
    },
    {
     "name": "stdout",
     "output_type": "stream",
     "text": [
      "\n",
      "Running validation...\n"
     ]
    },
    {
     "name": "stderr",
     "output_type": "stream",
     "text": [
      "Validation Epoch 61/100: 100%|██████████| 5/5 [00:00<00:00,  6.43it/s, loss=0.0125, acc=96.25%]\n"
     ]
    },
    {
     "name": "stdout",
     "output_type": "stream",
     "text": [
      "\n",
      "Epoch 61/100 Summary:\n",
      "Training    - Loss: 0.0008, Accuracy: 100.00%\n",
      "Validation  - Loss: 0.2007, Accuracy: 96.25%\n",
      "Learning rate: 0.000033\n",
      "--------------------------------------------------------------------------------\n"
     ]
    },
    {
     "name": "stderr",
     "output_type": "stream",
     "text": [
      "Training Epoch 62/100: 100%|██████████| 20/20 [00:03<00:00,  5.72it/s, loss=0.0008, acc=100.00%]\n"
     ]
    },
    {
     "name": "stdout",
     "output_type": "stream",
     "text": [
      "\n",
      "Running validation...\n"
     ]
    },
    {
     "name": "stderr",
     "output_type": "stream",
     "text": [
      "Validation Epoch 62/100: 100%|██████████| 5/5 [00:00<00:00,  6.49it/s, loss=0.0127, acc=96.25%]\n"
     ]
    },
    {
     "name": "stdout",
     "output_type": "stream",
     "text": [
      "\n",
      "Epoch 62/100 Summary:\n",
      "Training    - Loss: 0.0008, Accuracy: 100.00%\n",
      "Validation  - Loss: 0.2035, Accuracy: 96.25%\n",
      "Learning rate: 0.000032\n",
      "--------------------------------------------------------------------------------\n"
     ]
    },
    {
     "name": "stderr",
     "output_type": "stream",
     "text": [
      "Training Epoch 63/100: 100%|██████████| 20/20 [00:03<00:00,  5.66it/s, loss=0.0008, acc=100.00%]\n"
     ]
    },
    {
     "name": "stdout",
     "output_type": "stream",
     "text": [
      "\n",
      "Running validation...\n"
     ]
    },
    {
     "name": "stderr",
     "output_type": "stream",
     "text": [
      "Validation Epoch 63/100: 100%|██████████| 5/5 [00:00<00:00,  6.43it/s, loss=0.0133, acc=96.25%]\n"
     ]
    },
    {
     "name": "stdout",
     "output_type": "stream",
     "text": [
      "\n",
      "Epoch 63/100 Summary:\n",
      "Training    - Loss: 0.0008, Accuracy: 100.00%\n",
      "Validation  - Loss: 0.2134, Accuracy: 96.25%\n",
      "Learning rate: 0.000030\n",
      "--------------------------------------------------------------------------------\n"
     ]
    },
    {
     "name": "stderr",
     "output_type": "stream",
     "text": [
      "Training Epoch 64/100: 100%|██████████| 20/20 [00:03<00:00,  5.67it/s, loss=0.0008, acc=100.00%]\n"
     ]
    },
    {
     "name": "stdout",
     "output_type": "stream",
     "text": [
      "\n",
      "Running validation...\n"
     ]
    },
    {
     "name": "stderr",
     "output_type": "stream",
     "text": [
      "Validation Epoch 64/100: 100%|██████████| 5/5 [00:00<00:00,  5.36it/s, loss=0.0132, acc=96.25%]\n"
     ]
    },
    {
     "name": "stdout",
     "output_type": "stream",
     "text": [
      "\n",
      "Epoch 64/100 Summary:\n",
      "Training    - Loss: 0.0008, Accuracy: 100.00%\n",
      "Validation  - Loss: 0.2114, Accuracy: 96.25%\n",
      "Learning rate: 0.000029\n",
      "--------------------------------------------------------------------------------\n"
     ]
    },
    {
     "name": "stderr",
     "output_type": "stream",
     "text": [
      "Training Epoch 65/100: 100%|██████████| 20/20 [00:03<00:00,  5.32it/s, loss=0.0007, acc=100.00%]\n"
     ]
    },
    {
     "name": "stdout",
     "output_type": "stream",
     "text": [
      "\n",
      "Running validation...\n"
     ]
    },
    {
     "name": "stderr",
     "output_type": "stream",
     "text": [
      "Validation Epoch 65/100: 100%|██████████| 5/5 [00:00<00:00,  6.35it/s, loss=0.0133, acc=96.25%]\n"
     ]
    },
    {
     "name": "stdout",
     "output_type": "stream",
     "text": [
      "\n",
      "Epoch 65/100 Summary:\n",
      "Training    - Loss: 0.0007, Accuracy: 100.00%\n",
      "Validation  - Loss: 0.2121, Accuracy: 96.25%\n",
      "Checkpoint saved for epoch 65\n",
      "Learning rate: 0.000027\n",
      "--------------------------------------------------------------------------------\n"
     ]
    },
    {
     "name": "stderr",
     "output_type": "stream",
     "text": [
      "Training Epoch 66/100: 100%|██████████| 20/20 [00:03<00:00,  5.58it/s, loss=0.0007, acc=100.00%]\n"
     ]
    },
    {
     "name": "stdout",
     "output_type": "stream",
     "text": [
      "\n",
      "Running validation...\n"
     ]
    },
    {
     "name": "stderr",
     "output_type": "stream",
     "text": [
      "Validation Epoch 66/100: 100%|██████████| 5/5 [00:00<00:00,  6.31it/s, loss=0.0132, acc=96.25%]\n"
     ]
    },
    {
     "name": "stdout",
     "output_type": "stream",
     "text": [
      "\n",
      "Epoch 66/100 Summary:\n",
      "Training    - Loss: 0.0007, Accuracy: 100.00%\n",
      "Validation  - Loss: 0.2106, Accuracy: 96.25%\n",
      "Learning rate: 0.000026\n",
      "--------------------------------------------------------------------------------\n"
     ]
    },
    {
     "name": "stderr",
     "output_type": "stream",
     "text": [
      "Training Epoch 67/100: 100%|██████████| 20/20 [00:03<00:00,  5.64it/s, loss=0.0007, acc=100.00%]\n"
     ]
    },
    {
     "name": "stdout",
     "output_type": "stream",
     "text": [
      "\n",
      "Running validation...\n"
     ]
    },
    {
     "name": "stderr",
     "output_type": "stream",
     "text": [
      "Validation Epoch 67/100: 100%|██████████| 5/5 [00:00<00:00,  6.34it/s, loss=0.0131, acc=96.25%]\n"
     ]
    },
    {
     "name": "stdout",
     "output_type": "stream",
     "text": [
      "\n",
      "Epoch 67/100 Summary:\n",
      "Training    - Loss: 0.0007, Accuracy: 100.00%\n",
      "Validation  - Loss: 0.2096, Accuracy: 96.25%\n",
      "Learning rate: 0.000025\n",
      "--------------------------------------------------------------------------------\n"
     ]
    },
    {
     "name": "stderr",
     "output_type": "stream",
     "text": [
      "Training Epoch 68/100: 100%|██████████| 20/20 [00:03<00:00,  5.64it/s, loss=0.0007, acc=100.00%]\n"
     ]
    },
    {
     "name": "stdout",
     "output_type": "stream",
     "text": [
      "\n",
      "Running validation...\n"
     ]
    },
    {
     "name": "stderr",
     "output_type": "stream",
     "text": [
      "Validation Epoch 68/100: 100%|██████████| 5/5 [00:00<00:00,  6.42it/s, loss=0.0129, acc=96.25%]\n"
     ]
    },
    {
     "name": "stdout",
     "output_type": "stream",
     "text": [
      "\n",
      "Epoch 68/100 Summary:\n",
      "Training    - Loss: 0.0007, Accuracy: 100.00%\n",
      "Validation  - Loss: 0.2072, Accuracy: 96.25%\n",
      "Learning rate: 0.000023\n",
      "--------------------------------------------------------------------------------\n"
     ]
    },
    {
     "name": "stderr",
     "output_type": "stream",
     "text": [
      "Training Epoch 69/100: 100%|██████████| 20/20 [00:03<00:00,  5.63it/s, loss=0.0007, acc=100.00%]\n"
     ]
    },
    {
     "name": "stdout",
     "output_type": "stream",
     "text": [
      "\n",
      "Running validation...\n"
     ]
    },
    {
     "name": "stderr",
     "output_type": "stream",
     "text": [
      "Validation Epoch 69/100: 100%|██████████| 5/5 [00:00<00:00,  6.32it/s, loss=0.0129, acc=96.25%]\n"
     ]
    },
    {
     "name": "stdout",
     "output_type": "stream",
     "text": [
      "\n",
      "Epoch 69/100 Summary:\n",
      "Training    - Loss: 0.0007, Accuracy: 100.00%\n",
      "Validation  - Loss: 0.2071, Accuracy: 96.25%\n",
      "Learning rate: 0.000022\n",
      "--------------------------------------------------------------------------------\n"
     ]
    },
    {
     "name": "stderr",
     "output_type": "stream",
     "text": [
      "Training Epoch 70/100: 100%|██████████| 20/20 [00:03<00:00,  5.70it/s, loss=0.0007, acc=100.00%]\n"
     ]
    },
    {
     "name": "stdout",
     "output_type": "stream",
     "text": [
      "\n",
      "Running validation...\n"
     ]
    },
    {
     "name": "stderr",
     "output_type": "stream",
     "text": [
      "Validation Epoch 70/100: 100%|██████████| 5/5 [00:00<00:00,  6.31it/s, loss=0.0132, acc=96.25%]\n"
     ]
    },
    {
     "name": "stdout",
     "output_type": "stream",
     "text": [
      "\n",
      "Epoch 70/100 Summary:\n",
      "Training    - Loss: 0.0007, Accuracy: 100.00%\n",
      "Validation  - Loss: 0.2112, Accuracy: 96.25%\n",
      "Checkpoint saved for epoch 70\n",
      "Learning rate: 0.000021\n",
      "--------------------------------------------------------------------------------\n"
     ]
    },
    {
     "name": "stderr",
     "output_type": "stream",
     "text": [
      "Training Epoch 71/100: 100%|██████████| 20/20 [00:03<00:00,  5.74it/s, loss=0.0007, acc=100.00%]\n"
     ]
    },
    {
     "name": "stdout",
     "output_type": "stream",
     "text": [
      "\n",
      "Running validation...\n"
     ]
    },
    {
     "name": "stderr",
     "output_type": "stream",
     "text": [
      "Validation Epoch 71/100: 100%|██████████| 5/5 [00:00<00:00,  6.31it/s, loss=0.0129, acc=96.25%]\n"
     ]
    },
    {
     "name": "stdout",
     "output_type": "stream",
     "text": [
      "\n",
      "Epoch 71/100 Summary:\n",
      "Training    - Loss: 0.0007, Accuracy: 100.00%\n",
      "Validation  - Loss: 0.2066, Accuracy: 96.25%\n",
      "Learning rate: 0.000019\n",
      "--------------------------------------------------------------------------------\n"
     ]
    },
    {
     "name": "stderr",
     "output_type": "stream",
     "text": [
      "Training Epoch 72/100: 100%|██████████| 20/20 [00:03<00:00,  5.43it/s, loss=0.0008, acc=100.00%]\n"
     ]
    },
    {
     "name": "stdout",
     "output_type": "stream",
     "text": [
      "\n",
      "Running validation...\n"
     ]
    },
    {
     "name": "stderr",
     "output_type": "stream",
     "text": [
      "Validation Epoch 72/100: 100%|██████████| 5/5 [00:00<00:00,  6.23it/s, loss=0.0128, acc=96.25%]\n"
     ]
    },
    {
     "name": "stdout",
     "output_type": "stream",
     "text": [
      "\n",
      "Epoch 72/100 Summary:\n",
      "Training    - Loss: 0.0008, Accuracy: 100.00%\n",
      "Validation  - Loss: 0.2053, Accuracy: 96.25%\n",
      "Learning rate: 0.000018\n",
      "--------------------------------------------------------------------------------\n"
     ]
    },
    {
     "name": "stderr",
     "output_type": "stream",
     "text": [
      "Training Epoch 73/100: 100%|██████████| 20/20 [00:03<00:00,  5.65it/s, loss=0.0007, acc=100.00%]\n"
     ]
    },
    {
     "name": "stdout",
     "output_type": "stream",
     "text": [
      "\n",
      "Running validation...\n"
     ]
    },
    {
     "name": "stderr",
     "output_type": "stream",
     "text": [
      "Validation Epoch 73/100: 100%|██████████| 5/5 [00:00<00:00,  6.43it/s, loss=0.0130, acc=96.25%]\n"
     ]
    },
    {
     "name": "stdout",
     "output_type": "stream",
     "text": [
      "\n",
      "Epoch 73/100 Summary:\n",
      "Training    - Loss: 0.0007, Accuracy: 100.00%\n",
      "Validation  - Loss: 0.2075, Accuracy: 96.25%\n",
      "Learning rate: 0.000017\n",
      "--------------------------------------------------------------------------------\n"
     ]
    },
    {
     "name": "stderr",
     "output_type": "stream",
     "text": [
      "Training Epoch 74/100: 100%|██████████| 20/20 [00:03<00:00,  5.62it/s, loss=0.0007, acc=100.00%]\n"
     ]
    },
    {
     "name": "stdout",
     "output_type": "stream",
     "text": [
      "\n",
      "Running validation...\n"
     ]
    },
    {
     "name": "stderr",
     "output_type": "stream",
     "text": [
      "Validation Epoch 74/100: 100%|██████████| 5/5 [00:00<00:00,  6.42it/s, loss=0.0133, acc=96.25%]\n"
     ]
    },
    {
     "name": "stdout",
     "output_type": "stream",
     "text": [
      "\n",
      "Epoch 74/100 Summary:\n",
      "Training    - Loss: 0.0007, Accuracy: 100.00%\n",
      "Validation  - Loss: 0.2123, Accuracy: 96.25%\n",
      "Learning rate: 0.000016\n",
      "--------------------------------------------------------------------------------\n"
     ]
    },
    {
     "name": "stderr",
     "output_type": "stream",
     "text": [
      "Training Epoch 75/100: 100%|██████████| 20/20 [00:03<00:00,  5.65it/s, loss=0.0008, acc=100.00%]\n"
     ]
    },
    {
     "name": "stdout",
     "output_type": "stream",
     "text": [
      "\n",
      "Running validation...\n"
     ]
    },
    {
     "name": "stderr",
     "output_type": "stream",
     "text": [
      "Validation Epoch 75/100: 100%|██████████| 5/5 [00:00<00:00,  6.37it/s, loss=0.0132, acc=96.25%]\n"
     ]
    },
    {
     "name": "stdout",
     "output_type": "stream",
     "text": [
      "\n",
      "Epoch 75/100 Summary:\n",
      "Training    - Loss: 0.0008, Accuracy: 100.00%\n",
      "Validation  - Loss: 0.2106, Accuracy: 96.25%\n",
      "Checkpoint saved for epoch 75\n",
      "Learning rate: 0.000015\n",
      "--------------------------------------------------------------------------------\n"
     ]
    },
    {
     "name": "stderr",
     "output_type": "stream",
     "text": [
      "Training Epoch 76/100: 100%|██████████| 20/20 [00:03<00:00,  5.65it/s, loss=0.0007, acc=100.00%]\n"
     ]
    },
    {
     "name": "stdout",
     "output_type": "stream",
     "text": [
      "\n",
      "Running validation...\n"
     ]
    },
    {
     "name": "stderr",
     "output_type": "stream",
     "text": [
      "Validation Epoch 76/100: 100%|██████████| 5/5 [00:00<00:00,  6.33it/s, loss=0.0128, acc=96.25%]\n"
     ]
    },
    {
     "name": "stdout",
     "output_type": "stream",
     "text": [
      "\n",
      "Epoch 76/100 Summary:\n",
      "Training    - Loss: 0.0007, Accuracy: 100.00%\n",
      "Validation  - Loss: 0.2049, Accuracy: 96.25%\n",
      "Learning rate: 0.000014\n",
      "--------------------------------------------------------------------------------\n"
     ]
    },
    {
     "name": "stderr",
     "output_type": "stream",
     "text": [
      "Training Epoch 77/100: 100%|██████████| 20/20 [00:03<00:00,  5.68it/s, loss=0.0007, acc=100.00%]\n"
     ]
    },
    {
     "name": "stdout",
     "output_type": "stream",
     "text": [
      "\n",
      "Running validation...\n"
     ]
    },
    {
     "name": "stderr",
     "output_type": "stream",
     "text": [
      "Validation Epoch 77/100: 100%|██████████| 5/5 [00:00<00:00,  6.33it/s, loss=0.0126, acc=96.25%]\n"
     ]
    },
    {
     "name": "stdout",
     "output_type": "stream",
     "text": [
      "\n",
      "Epoch 77/100 Summary:\n",
      "Training    - Loss: 0.0007, Accuracy: 100.00%\n",
      "Validation  - Loss: 0.2019, Accuracy: 96.25%\n",
      "Learning rate: 0.000012\n",
      "--------------------------------------------------------------------------------\n"
     ]
    },
    {
     "name": "stderr",
     "output_type": "stream",
     "text": [
      "Training Epoch 78/100: 100%|██████████| 20/20 [00:03<00:00,  5.70it/s, loss=0.0007, acc=100.00%]\n"
     ]
    },
    {
     "name": "stdout",
     "output_type": "stream",
     "text": [
      "\n",
      "Running validation...\n"
     ]
    },
    {
     "name": "stderr",
     "output_type": "stream",
     "text": [
      "Validation Epoch 78/100: 100%|██████████| 5/5 [00:00<00:00,  6.43it/s, loss=0.0133, acc=96.25%]\n"
     ]
    },
    {
     "name": "stdout",
     "output_type": "stream",
     "text": [
      "\n",
      "Epoch 78/100 Summary:\n",
      "Training    - Loss: 0.0007, Accuracy: 100.00%\n",
      "Validation  - Loss: 0.2130, Accuracy: 96.25%\n",
      "Learning rate: 0.000011\n",
      "--------------------------------------------------------------------------------\n"
     ]
    },
    {
     "name": "stderr",
     "output_type": "stream",
     "text": [
      "Training Epoch 79/100: 100%|██████████| 20/20 [00:03<00:00,  5.67it/s, loss=0.0007, acc=100.00%]\n"
     ]
    },
    {
     "name": "stdout",
     "output_type": "stream",
     "text": [
      "\n",
      "Running validation...\n"
     ]
    },
    {
     "name": "stderr",
     "output_type": "stream",
     "text": [
      "Validation Epoch 79/100: 100%|██████████| 5/5 [00:00<00:00,  5.22it/s, loss=0.0131, acc=96.25%]\n"
     ]
    },
    {
     "name": "stdout",
     "output_type": "stream",
     "text": [
      "\n",
      "Epoch 79/100 Summary:\n",
      "Training    - Loss: 0.0007, Accuracy: 100.00%\n",
      "Validation  - Loss: 0.2102, Accuracy: 96.25%\n",
      "Learning rate: 0.000010\n",
      "--------------------------------------------------------------------------------\n"
     ]
    },
    {
     "name": "stderr",
     "output_type": "stream",
     "text": [
      "Training Epoch 80/100: 100%|██████████| 20/20 [00:03<00:00,  5.61it/s, loss=0.0007, acc=100.00%]\n"
     ]
    },
    {
     "name": "stdout",
     "output_type": "stream",
     "text": [
      "\n",
      "Running validation...\n"
     ]
    },
    {
     "name": "stderr",
     "output_type": "stream",
     "text": [
      "Validation Epoch 80/100: 100%|██████████| 5/5 [00:00<00:00,  5.97it/s, loss=0.0134, acc=96.25%]\n"
     ]
    },
    {
     "name": "stdout",
     "output_type": "stream",
     "text": [
      "\n",
      "Epoch 80/100 Summary:\n",
      "Training    - Loss: 0.0007, Accuracy: 100.00%\n",
      "Validation  - Loss: 0.2139, Accuracy: 96.25%\n",
      "Checkpoint saved for epoch 80\n",
      "Learning rate: 0.000010\n",
      "--------------------------------------------------------------------------------\n"
     ]
    },
    {
     "name": "stderr",
     "output_type": "stream",
     "text": [
      "Training Epoch 81/100: 100%|██████████| 20/20 [00:03<00:00,  5.76it/s, loss=0.0006, acc=100.00%]\n"
     ]
    },
    {
     "name": "stdout",
     "output_type": "stream",
     "text": [
      "\n",
      "Running validation...\n"
     ]
    },
    {
     "name": "stderr",
     "output_type": "stream",
     "text": [
      "Validation Epoch 81/100: 100%|██████████| 5/5 [00:00<00:00,  6.15it/s, loss=0.0134, acc=96.25%]\n"
     ]
    },
    {
     "name": "stdout",
     "output_type": "stream",
     "text": [
      "\n",
      "Epoch 81/100 Summary:\n",
      "Training    - Loss: 0.0006, Accuracy: 100.00%\n",
      "Validation  - Loss: 0.2142, Accuracy: 96.25%\n",
      "Learning rate: 0.000009\n",
      "--------------------------------------------------------------------------------\n"
     ]
    },
    {
     "name": "stderr",
     "output_type": "stream",
     "text": [
      "Training Epoch 82/100: 100%|██████████| 20/20 [00:03<00:00,  5.65it/s, loss=0.0008, acc=100.00%]\n"
     ]
    },
    {
     "name": "stdout",
     "output_type": "stream",
     "text": [
      "\n",
      "Running validation...\n"
     ]
    },
    {
     "name": "stderr",
     "output_type": "stream",
     "text": [
      "Validation Epoch 82/100: 100%|██████████| 5/5 [00:00<00:00,  6.45it/s, loss=0.0132, acc=96.25%]\n"
     ]
    },
    {
     "name": "stdout",
     "output_type": "stream",
     "text": [
      "\n",
      "Epoch 82/100 Summary:\n",
      "Training    - Loss: 0.0008, Accuracy: 100.00%\n",
      "Validation  - Loss: 0.2104, Accuracy: 96.25%\n",
      "Learning rate: 0.000008\n",
      "--------------------------------------------------------------------------------\n"
     ]
    },
    {
     "name": "stderr",
     "output_type": "stream",
     "text": [
      "Training Epoch 83/100: 100%|██████████| 20/20 [00:03<00:00,  5.63it/s, loss=0.0007, acc=100.00%]\n"
     ]
    },
    {
     "name": "stdout",
     "output_type": "stream",
     "text": [
      "\n",
      "Running validation...\n"
     ]
    },
    {
     "name": "stderr",
     "output_type": "stream",
     "text": [
      "Validation Epoch 83/100: 100%|██████████| 5/5 [00:00<00:00,  6.40it/s, loss=0.0129, acc=96.25%]\n"
     ]
    },
    {
     "name": "stdout",
     "output_type": "stream",
     "text": [
      "\n",
      "Epoch 83/100 Summary:\n",
      "Training    - Loss: 0.0007, Accuracy: 100.00%\n",
      "Validation  - Loss: 0.2066, Accuracy: 96.25%\n",
      "Learning rate: 0.000007\n",
      "--------------------------------------------------------------------------------\n"
     ]
    },
    {
     "name": "stderr",
     "output_type": "stream",
     "text": [
      "Training Epoch 84/100: 100%|██████████| 20/20 [00:03<00:00,  5.71it/s, loss=0.0008, acc=100.00%]\n"
     ]
    },
    {
     "name": "stdout",
     "output_type": "stream",
     "text": [
      "\n",
      "Running validation...\n"
     ]
    },
    {
     "name": "stderr",
     "output_type": "stream",
     "text": [
      "Validation Epoch 84/100: 100%|██████████| 5/5 [00:00<00:00,  6.27it/s, loss=0.0129, acc=96.25%]\n"
     ]
    },
    {
     "name": "stdout",
     "output_type": "stream",
     "text": [
      "\n",
      "Epoch 84/100 Summary:\n",
      "Training    - Loss: 0.0008, Accuracy: 100.00%\n",
      "Validation  - Loss: 0.2063, Accuracy: 96.25%\n",
      "Learning rate: 0.000006\n",
      "--------------------------------------------------------------------------------\n"
     ]
    },
    {
     "name": "stderr",
     "output_type": "stream",
     "text": [
      "Training Epoch 85/100: 100%|██████████| 20/20 [00:03<00:00,  5.62it/s, loss=0.0007, acc=100.00%]\n"
     ]
    },
    {
     "name": "stdout",
     "output_type": "stream",
     "text": [
      "\n",
      "Running validation...\n"
     ]
    },
    {
     "name": "stderr",
     "output_type": "stream",
     "text": [
      "Validation Epoch 85/100: 100%|██████████| 5/5 [00:00<00:00,  6.42it/s, loss=0.0130, acc=95.00%]\n"
     ]
    },
    {
     "name": "stdout",
     "output_type": "stream",
     "text": [
      "\n",
      "Epoch 85/100 Summary:\n",
      "Training    - Loss: 0.0007, Accuracy: 100.00%\n",
      "Validation  - Loss: 0.2079, Accuracy: 95.00%\n",
      "Checkpoint saved for epoch 85\n",
      "Learning rate: 0.000005\n",
      "--------------------------------------------------------------------------------\n"
     ]
    },
    {
     "name": "stderr",
     "output_type": "stream",
     "text": [
      "Training Epoch 86/100: 100%|██████████| 20/20 [00:03<00:00,  5.71it/s, loss=0.0006, acc=100.00%]\n"
     ]
    },
    {
     "name": "stdout",
     "output_type": "stream",
     "text": [
      "\n",
      "Running validation...\n"
     ]
    },
    {
     "name": "stderr",
     "output_type": "stream",
     "text": [
      "Validation Epoch 86/100: 100%|██████████| 5/5 [00:00<00:00,  5.67it/s, loss=0.0126, acc=96.25%]\n"
     ]
    },
    {
     "name": "stdout",
     "output_type": "stream",
     "text": [
      "\n",
      "Epoch 86/100 Summary:\n",
      "Training    - Loss: 0.0006, Accuracy: 100.00%\n",
      "Validation  - Loss: 0.2013, Accuracy: 96.25%\n",
      "Learning rate: 0.000005\n",
      "--------------------------------------------------------------------------------\n"
     ]
    },
    {
     "name": "stderr",
     "output_type": "stream",
     "text": [
      "Training Epoch 87/100: 100%|██████████| 20/20 [00:03<00:00,  5.35it/s, loss=0.0007, acc=100.00%]\n"
     ]
    },
    {
     "name": "stdout",
     "output_type": "stream",
     "text": [
      "\n",
      "Running validation...\n"
     ]
    },
    {
     "name": "stderr",
     "output_type": "stream",
     "text": [
      "Validation Epoch 87/100: 100%|██████████| 5/5 [00:00<00:00,  6.53it/s, loss=0.0131, acc=96.25%]\n"
     ]
    },
    {
     "name": "stdout",
     "output_type": "stream",
     "text": [
      "\n",
      "Epoch 87/100 Summary:\n",
      "Training    - Loss: 0.0007, Accuracy: 100.00%\n",
      "Validation  - Loss: 0.2090, Accuracy: 96.25%\n",
      "Learning rate: 0.000004\n",
      "--------------------------------------------------------------------------------\n"
     ]
    },
    {
     "name": "stderr",
     "output_type": "stream",
     "text": [
      "Training Epoch 88/100: 100%|██████████| 20/20 [00:03<00:00,  5.64it/s, loss=0.0007, acc=100.00%]\n"
     ]
    },
    {
     "name": "stdout",
     "output_type": "stream",
     "text": [
      "\n",
      "Running validation...\n"
     ]
    },
    {
     "name": "stderr",
     "output_type": "stream",
     "text": [
      "Validation Epoch 88/100: 100%|██████████| 5/5 [00:00<00:00,  6.17it/s, loss=0.0129, acc=96.25%]\n"
     ]
    },
    {
     "name": "stdout",
     "output_type": "stream",
     "text": [
      "\n",
      "Epoch 88/100 Summary:\n",
      "Training    - Loss: 0.0007, Accuracy: 100.00%\n",
      "Validation  - Loss: 0.2060, Accuracy: 96.25%\n",
      "Learning rate: 0.000004\n",
      "--------------------------------------------------------------------------------\n"
     ]
    },
    {
     "name": "stderr",
     "output_type": "stream",
     "text": [
      "Training Epoch 89/100: 100%|██████████| 20/20 [00:03<00:00,  5.68it/s, loss=0.0006, acc=100.00%]\n"
     ]
    },
    {
     "name": "stdout",
     "output_type": "stream",
     "text": [
      "\n",
      "Running validation...\n"
     ]
    },
    {
     "name": "stderr",
     "output_type": "stream",
     "text": [
      "Validation Epoch 89/100: 100%|██████████| 5/5 [00:00<00:00,  5.99it/s, loss=0.0129, acc=96.25%]\n"
     ]
    },
    {
     "name": "stdout",
     "output_type": "stream",
     "text": [
      "\n",
      "Epoch 89/100 Summary:\n",
      "Training    - Loss: 0.0006, Accuracy: 100.00%\n",
      "Validation  - Loss: 0.2071, Accuracy: 96.25%\n",
      "Learning rate: 0.000003\n",
      "--------------------------------------------------------------------------------\n"
     ]
    },
    {
     "name": "stderr",
     "output_type": "stream",
     "text": [
      "Training Epoch 90/100: 100%|██████████| 20/20 [00:03<00:00,  5.64it/s, loss=0.0006, acc=100.00%]\n"
     ]
    },
    {
     "name": "stdout",
     "output_type": "stream",
     "text": [
      "\n",
      "Running validation...\n"
     ]
    },
    {
     "name": "stderr",
     "output_type": "stream",
     "text": [
      "Validation Epoch 90/100: 100%|██████████| 5/5 [00:00<00:00,  6.38it/s, loss=0.0129, acc=96.25%]\n"
     ]
    },
    {
     "name": "stdout",
     "output_type": "stream",
     "text": [
      "\n",
      "Epoch 90/100 Summary:\n",
      "Training    - Loss: 0.0006, Accuracy: 100.00%\n",
      "Validation  - Loss: 0.2060, Accuracy: 96.25%\n",
      "Checkpoint saved for epoch 90\n",
      "Learning rate: 0.000002\n",
      "--------------------------------------------------------------------------------\n"
     ]
    },
    {
     "name": "stderr",
     "output_type": "stream",
     "text": [
      "Training Epoch 91/100: 100%|██████████| 20/20 [00:03<00:00,  5.59it/s, loss=0.0006, acc=100.00%]\n"
     ]
    },
    {
     "name": "stdout",
     "output_type": "stream",
     "text": [
      "\n",
      "Running validation...\n"
     ]
    },
    {
     "name": "stderr",
     "output_type": "stream",
     "text": [
      "Validation Epoch 91/100: 100%|██████████| 5/5 [00:00<00:00,  6.36it/s, loss=0.0128, acc=96.25%]\n"
     ]
    },
    {
     "name": "stdout",
     "output_type": "stream",
     "text": [
      "\n",
      "Epoch 91/100 Summary:\n",
      "Training    - Loss: 0.0006, Accuracy: 100.00%\n",
      "Validation  - Loss: 0.2053, Accuracy: 96.25%\n",
      "Learning rate: 0.000002\n",
      "--------------------------------------------------------------------------------\n"
     ]
    },
    {
     "name": "stderr",
     "output_type": "stream",
     "text": [
      "Training Epoch 92/100: 100%|██████████| 20/20 [00:03<00:00,  5.51it/s, loss=0.0006, acc=100.00%]\n"
     ]
    },
    {
     "name": "stdout",
     "output_type": "stream",
     "text": [
      "\n",
      "Running validation...\n"
     ]
    },
    {
     "name": "stderr",
     "output_type": "stream",
     "text": [
      "Validation Epoch 92/100: 100%|██████████| 5/5 [00:01<00:00,  4.97it/s, loss=0.0129, acc=96.25%]\n"
     ]
    },
    {
     "name": "stdout",
     "output_type": "stream",
     "text": [
      "\n",
      "Epoch 92/100 Summary:\n",
      "Training    - Loss: 0.0006, Accuracy: 100.00%\n",
      "Validation  - Loss: 0.2067, Accuracy: 96.25%\n",
      "Learning rate: 0.000002\n",
      "--------------------------------------------------------------------------------\n"
     ]
    },
    {
     "name": "stderr",
     "output_type": "stream",
     "text": [
      "Training Epoch 93/100: 100%|██████████| 20/20 [00:03<00:00,  5.09it/s, loss=0.0006, acc=100.00%]\n"
     ]
    },
    {
     "name": "stdout",
     "output_type": "stream",
     "text": [
      "\n",
      "Running validation...\n"
     ]
    },
    {
     "name": "stderr",
     "output_type": "stream",
     "text": [
      "Validation Epoch 93/100: 100%|██████████| 5/5 [00:00<00:00,  6.36it/s, loss=0.0129, acc=96.25%]\n"
     ]
    },
    {
     "name": "stdout",
     "output_type": "stream",
     "text": [
      "\n",
      "Epoch 93/100 Summary:\n",
      "Training    - Loss: 0.0006, Accuracy: 100.00%\n",
      "Validation  - Loss: 0.2066, Accuracy: 96.25%\n",
      "Learning rate: 0.000001\n",
      "--------------------------------------------------------------------------------\n"
     ]
    },
    {
     "name": "stderr",
     "output_type": "stream",
     "text": [
      "Training Epoch 94/100: 100%|██████████| 20/20 [00:03<00:00,  5.04it/s, loss=0.0007, acc=100.00%]\n"
     ]
    },
    {
     "name": "stdout",
     "output_type": "stream",
     "text": [
      "\n",
      "Running validation...\n"
     ]
    },
    {
     "name": "stderr",
     "output_type": "stream",
     "text": [
      "Validation Epoch 94/100: 100%|██████████| 5/5 [00:00<00:00,  6.04it/s, loss=0.0129, acc=96.25%]\n"
     ]
    },
    {
     "name": "stdout",
     "output_type": "stream",
     "text": [
      "\n",
      "Epoch 94/100 Summary:\n",
      "Training    - Loss: 0.0007, Accuracy: 100.00%\n",
      "Validation  - Loss: 0.2071, Accuracy: 96.25%\n",
      "Learning rate: 0.000001\n",
      "--------------------------------------------------------------------------------\n"
     ]
    },
    {
     "name": "stderr",
     "output_type": "stream",
     "text": [
      "Training Epoch 95/100: 100%|██████████| 20/20 [00:03<00:00,  5.68it/s, loss=0.0006, acc=100.00%]\n"
     ]
    },
    {
     "name": "stdout",
     "output_type": "stream",
     "text": [
      "\n",
      "Running validation...\n"
     ]
    },
    {
     "name": "stderr",
     "output_type": "stream",
     "text": [
      "Validation Epoch 95/100: 100%|██████████| 5/5 [00:00<00:00,  6.37it/s, loss=0.0129, acc=96.25%]\n"
     ]
    },
    {
     "name": "stdout",
     "output_type": "stream",
     "text": [
      "\n",
      "Epoch 95/100 Summary:\n",
      "Training    - Loss: 0.0006, Accuracy: 100.00%\n",
      "Validation  - Loss: 0.2072, Accuracy: 96.25%\n",
      "Checkpoint saved for epoch 95\n",
      "Learning rate: 0.000001\n",
      "--------------------------------------------------------------------------------\n"
     ]
    },
    {
     "name": "stderr",
     "output_type": "stream",
     "text": [
      "Training Epoch 96/100: 100%|██████████| 20/20 [00:03<00:00,  5.71it/s, loss=0.0006, acc=100.00%]\n"
     ]
    },
    {
     "name": "stdout",
     "output_type": "stream",
     "text": [
      "\n",
      "Running validation...\n"
     ]
    },
    {
     "name": "stderr",
     "output_type": "stream",
     "text": [
      "Validation Epoch 96/100: 100%|██████████| 5/5 [00:00<00:00,  6.41it/s, loss=0.0128, acc=96.25%]\n"
     ]
    },
    {
     "name": "stdout",
     "output_type": "stream",
     "text": [
      "\n",
      "Epoch 96/100 Summary:\n",
      "Training    - Loss: 0.0006, Accuracy: 100.00%\n",
      "Validation  - Loss: 0.2042, Accuracy: 96.25%\n",
      "Learning rate: 0.000000\n",
      "--------------------------------------------------------------------------------\n"
     ]
    },
    {
     "name": "stderr",
     "output_type": "stream",
     "text": [
      "Training Epoch 97/100: 100%|██████████| 20/20 [00:03<00:00,  5.69it/s, loss=0.0006, acc=100.00%]\n"
     ]
    },
    {
     "name": "stdout",
     "output_type": "stream",
     "text": [
      "\n",
      "Running validation...\n"
     ]
    },
    {
     "name": "stderr",
     "output_type": "stream",
     "text": [
      "Validation Epoch 97/100: 100%|██████████| 5/5 [00:00<00:00,  6.30it/s, loss=0.0128, acc=96.25%]\n"
     ]
    },
    {
     "name": "stdout",
     "output_type": "stream",
     "text": [
      "\n",
      "Epoch 97/100 Summary:\n",
      "Training    - Loss: 0.0006, Accuracy: 100.00%\n",
      "Validation  - Loss: 0.2043, Accuracy: 96.25%\n",
      "Learning rate: 0.000000\n",
      "--------------------------------------------------------------------------------\n"
     ]
    },
    {
     "name": "stderr",
     "output_type": "stream",
     "text": [
      "Training Epoch 98/100: 100%|██████████| 20/20 [00:03<00:00,  5.66it/s, loss=0.0007, acc=100.00%]\n"
     ]
    },
    {
     "name": "stdout",
     "output_type": "stream",
     "text": [
      "\n",
      "Running validation...\n"
     ]
    },
    {
     "name": "stderr",
     "output_type": "stream",
     "text": [
      "Validation Epoch 98/100: 100%|██████████| 5/5 [00:00<00:00,  6.29it/s, loss=0.0130, acc=96.25%]\n"
     ]
    },
    {
     "name": "stdout",
     "output_type": "stream",
     "text": [
      "\n",
      "Epoch 98/100 Summary:\n",
      "Training    - Loss: 0.0007, Accuracy: 100.00%\n",
      "Validation  - Loss: 0.2076, Accuracy: 96.25%\n",
      "Learning rate: 0.000000\n",
      "--------------------------------------------------------------------------------\n"
     ]
    },
    {
     "name": "stderr",
     "output_type": "stream",
     "text": [
      "Training Epoch 99/100: 100%|██████████| 20/20 [00:03<00:00,  5.63it/s, loss=0.0007, acc=100.00%]\n"
     ]
    },
    {
     "name": "stdout",
     "output_type": "stream",
     "text": [
      "\n",
      "Running validation...\n"
     ]
    },
    {
     "name": "stderr",
     "output_type": "stream",
     "text": [
      "Validation Epoch 99/100: 100%|██████████| 5/5 [00:00<00:00,  6.39it/s, loss=0.0130, acc=96.25%]\n"
     ]
    },
    {
     "name": "stdout",
     "output_type": "stream",
     "text": [
      "\n",
      "Epoch 99/100 Summary:\n",
      "Training    - Loss: 0.0007, Accuracy: 100.00%\n",
      "Validation  - Loss: 0.2082, Accuracy: 96.25%\n",
      "Learning rate: 0.000000\n",
      "--------------------------------------------------------------------------------\n"
     ]
    },
    {
     "name": "stderr",
     "output_type": "stream",
     "text": [
      "Training Epoch 100/100: 100%|██████████| 20/20 [00:03<00:00,  5.54it/s, loss=0.0007, acc=100.00%]\n"
     ]
    },
    {
     "name": "stdout",
     "output_type": "stream",
     "text": [
      "\n",
      "Running validation...\n"
     ]
    },
    {
     "name": "stderr",
     "output_type": "stream",
     "text": [
      "Validation Epoch 100/100: 100%|██████████| 5/5 [00:00<00:00,  6.57it/s, loss=0.0129, acc=96.25%]\n"
     ]
    },
    {
     "name": "stdout",
     "output_type": "stream",
     "text": [
      "\n",
      "Epoch 100/100 Summary:\n",
      "Training    - Loss: 0.0007, Accuracy: 100.00%\n",
      "Validation  - Loss: 0.2061, Accuracy: 96.25%\n",
      "Checkpoint saved for epoch 100\n",
      "Learning rate: 0.000000\n",
      "--------------------------------------------------------------------------------\n"
     ]
    },
    {
     "name": "stderr",
     "output_type": "stream",
     "text": [
      "\u001b[34m\u001b[1mwandb\u001b[0m:                                                                                \n",
      "\u001b[34m\u001b[1mwandb\u001b[0m: \n",
      "\u001b[34m\u001b[1mwandb\u001b[0m: Run history:\n",
      "\u001b[34m\u001b[1mwandb\u001b[0m:          epoch ▁▁▁▂▂▂▂▂▂▂▃▃▃▃▃▃▃▄▄▄▄▄▄▄▄▅▅▅▅▅▆▆▆▇▇▇▇▇██\n",
      "\u001b[34m\u001b[1mwandb\u001b[0m:     epoch_time ▃▃█▆▁▆▃▅▂▆▂▂▂▂▂▂▂▂▄▂▂▂▂▂▃▅▂▂▄▃▄▂▅▂▅▃▅▆█▂\n",
      "\u001b[34m\u001b[1mwandb\u001b[0m:  learning_rate ████████▇▇▇▇▇▇▆▆▆▅▅▅▄▄▄▃▃▃▂▂▂▂▂▂▂▁▁▁▁▁▁▁\n",
      "\u001b[34m\u001b[1mwandb\u001b[0m: train_accuracy ▁▂▆▆█▆▇█▇███████████████████████████████\n",
      "\u001b[34m\u001b[1mwandb\u001b[0m:     train_loss █▅▄▂▂▄▂▁▂▂▁▁▁▁▁▁▁▁▁▁▁▁▁▁▁▁▁▁▁▁▁▁▁▁▁▁▁▁▁▁\n",
      "\u001b[34m\u001b[1mwandb\u001b[0m:   val_accuracy ▂▁▄▆▅▆█▆▅▇██████████████████████████████\n",
      "\u001b[34m\u001b[1mwandb\u001b[0m:       val_loss █▂▁▁▂▃▂▁▂▃▂▁▁▁▁▁▁▁▁▁▁▁▁▁▁▁▁▁▁▁▁▁▁▁▁▁▁▁▁▁\n",
      "\u001b[34m\u001b[1mwandb\u001b[0m: \n",
      "\u001b[34m\u001b[1mwandb\u001b[0m: Run summary:\n",
      "\u001b[34m\u001b[1mwandb\u001b[0m:          epoch 100\n",
      "\u001b[34m\u001b[1mwandb\u001b[0m:     epoch_time 4.57084\n",
      "\u001b[34m\u001b[1mwandb\u001b[0m:  learning_rate 0\n",
      "\u001b[34m\u001b[1mwandb\u001b[0m: train_accuracy 100\n",
      "\u001b[34m\u001b[1mwandb\u001b[0m:     train_loss 0.00068\n",
      "\u001b[34m\u001b[1mwandb\u001b[0m:   val_accuracy 96.25\n",
      "\u001b[34m\u001b[1mwandb\u001b[0m:       val_loss 0.20605\n",
      "\u001b[34m\u001b[1mwandb\u001b[0m: \n",
      "\u001b[34m\u001b[1mwandb\u001b[0m: 🚀 View run \u001b[33mbrisk-shape-2\u001b[0m at: \u001b[34m\u001b[4mhttps://wandb.ai/dr-farrukh89-namal-university/urdu-emotion-detection/runs/53fev5su\u001b[0m\n",
      "\u001b[34m\u001b[1mwandb\u001b[0m: ⭐️ View project at: \u001b[34m\u001b[4mhttps://wandb.ai/dr-farrukh89-namal-university/urdu-emotion-detection\u001b[0m\n",
      "\u001b[34m\u001b[1mwandb\u001b[0m: Synced 5 W&B file(s), 0 media file(s), 0 artifact file(s) and 0 other file(s)\n",
      "\u001b[34m\u001b[1mwandb\u001b[0m: Find logs at: \u001b[35m\u001b[1m./wandb/run-20241124_192215-53fev5su/logs\u001b[0m\n"
     ]
    },
    {
     "name": "stdout",
     "output_type": "stream",
     "text": [
      "Training completed successfully!\n",
      "\n",
      "Results saved in: experiments/run_20241124_192212\n",
      "\n",
      "Experiment completed successfully!\n"
     ]
    }
   ],
   "source": [
    "from main import main\n",
    "\n",
    "\n",
    "\n",
    "# Run the main training pipeline\n",
    "\n",
    "main()"
   ]
  },
  {
   "cell_type": "code",
   "execution_count": null,
   "id": "69553ed5",
   "metadata": {
    "papermill": {
     "duration": 0.241141,
     "end_time": "2024-11-24T19:29:46.982197",
     "exception": false,
     "start_time": "2024-11-24T19:29:46.741056",
     "status": "completed"
    },
    "tags": []
   },
   "outputs": [],
   "source": []
  }
 ],
 "metadata": {
  "kaggle": {
   "accelerator": "nvidiaTeslaT4",
   "dataSources": [
    {
     "datasetId": 112353,
     "sourceId": 9892578,
     "sourceType": "datasetVersion"
    }
   ],
   "dockerImageVersionId": 30787,
   "isGpuEnabled": true,
   "isInternetEnabled": true,
   "language": "python",
   "sourceType": "notebook"
  },
  "kernelspec": {
   "display_name": "Python 3",
   "language": "python",
   "name": "python3"
  },
  "language_info": {
   "codemirror_mode": {
    "name": "ipython",
    "version": 3
   },
   "file_extension": ".py",
   "mimetype": "text/x-python",
   "name": "python",
   "nbconvert_exporter": "python",
   "pygments_lexer": "ipython3",
   "version": "3.10.14"
  },
  "papermill": {
   "default_parameters": {},
   "duration": 475.117061,
   "end_time": "2024-11-24T19:29:49.876197",
   "environment_variables": {},
   "exception": null,
   "input_path": "__notebook__.ipynb",
   "output_path": "__notebook__.ipynb",
   "parameters": {},
   "start_time": "2024-11-24T19:21:54.759136",
   "version": "2.6.0"
  }
 },
 "nbformat": 4,
 "nbformat_minor": 5
}
