{
 "cells": [
  {
   "cell_type": "markdown",
   "metadata": {},
   "source": [
    "# Urdu Clinical Emotion Recognition - Training\n",
    "\n",
    "This notebook runs the main training pipeline with default parameters."
   ]
  },
  {
   "cell_type": "code",
   "execution_count": null,
   "metadata": {},
   "outputs": [],
   "source": [
    "import os\n",
    "import sys\n",
    "from IPython.display import display, HTML\n",
    "import pandas as pd\n",
    "import matplotlib.pyplot as plt\n",
    "import seaborn as sns\n",
    "\n",
    "# Add project root to path\n",
    "project_root = os.path.abspath(os.path.dirname('.'))\n",
    "if project_root not in sys.path:\n",
    "    sys.path.append(project_root)"
   ]
  },
  {
   "cell_type": "code",
   "execution_count": null,
   "metadata": {},
   "outputs": [],
   "source": [
    "from main import main\n",
    "\n",
    "# Run the main training pipeline\n",
    "main()"
   ]
  },
  {
   "cell_type": "markdown",
   "metadata": {},
   "source": [
    "## Training Results Analysis"
   ]
  },
  {
   "cell_type": "code",
   "execution_count": null,
   "metadata": {},
   "outputs": [],
   "source": [
    "def analyze_latest_run():\n",
    "    # Find the latest experiment directory\n",
    "    exp_dir = 'experiments'\n",
    "    runs = [d for d in os.listdir(exp_dir) if d.startswith('run_')]\n",
    "    latest_run = sorted(runs)[-1]\n",
    "    run_dir = os.path.join(exp_dir, latest_run)\n",
    "    \n",
    "    # Load training metrics\n",
    "    metrics_df = pd.read_csv(os.path.join(run_dir, 'data/training_metrics.csv'))\n",
    "    report_df = pd.read_csv(os.path.join(run_dir, 'data/classification_report.csv'))\n",
    "    \n",
    "    # Display training curves\n",
    "    plt.figure(figsize=(15, 5))\n",
    "    \n",
    "    plt.subplot(1, 2, 1)\n",
    "    plt.plot(metrics_df['epoch'], metrics_df['train_loss'], label='Train')\n",
    "    plt.plot(metrics_df['epoch'], metrics_df['val_loss'], label='Validation')\n",
    "    plt.title('Loss Curves')\n",
    "    plt.xlabel('Epoch')\n",
    "    plt.ylabel('Loss')\n",
    "    plt.legend()\n",
    "    \n",
    "    plt.subplot(1, 2, 2)\n",
    "    plt.plot(metrics_df['epoch'], metrics_df['train_acc'], label='Train')\n",
    "    plt.plot(metrics_df['epoch'], metrics_df['val_acc'], label='Validation')\n",
    "    plt.title('Accuracy Curves')\n",
    "    plt.xlabel('Epoch')\n",
    "    plt.ylabel('Accuracy (%)')\n",
    "    plt.legend()\n",
    "    \n",
    "    plt.tight_layout()\n",
    "    plt.show()\n",
    "    \n",
    "    # Display classification report\n",
    "    display(HTML(report_df.to_html()))\n",
    "\n",
    "# Analyze the results\n",
    "analyze_latest_run()"
   ]
  }
 ],
 "metadata": {
  "kernelspec": {
   "display_name": "Python 3",
   "language": "python",
   "name": "python3"
  }
 },
 "nbformat": 4,
 "nbformat_minor": 2
}
